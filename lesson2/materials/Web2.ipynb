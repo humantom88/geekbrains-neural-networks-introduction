{
  "nbformat": 4,
  "nbformat_minor": 0,
  "metadata": {
    "colab": {
      "name": "Web2.ipynb",
      "provenance": [],
      "collapsed_sections": [],
      "toc_visible": true
    },
    "kernelspec": {
      "display_name": "Python 3",
      "language": "python",
      "name": "python3"
    },
    "language_info": {
      "codemirror_mode": {
        "name": "ipython",
        "version": 3
      },
      "file_extension": ".py",
      "mimetype": "text/x-python",
      "name": "python",
      "nbconvert_exporter": "python",
      "pygments_lexer": "ipython3",
      "version": "3.6.8"
    }
  },
  "cells": [
    {
      "cell_type": "markdown",
      "metadata": {
        "id": "XvhEhpGm9U8z"
      },
      "source": [
        "# Введение в искусственные нейронные сети\n",
        "# Урок 2. Keras"
      ]
    },
    {
      "cell_type": "markdown",
      "metadata": {
        "id": "LmKjkEH-9U84"
      },
      "source": [
        "## Содержание методического пособия:\n",
        "\n",
        "\n",
        "<ol>\n",
        "<li>Способы создания нейросетей</li>\n",
        "<li>Что такое Keras</li>\n",
        "<li>Основы синтаксиса</li>\n",
        "<li>Простая нейросеть на Keras</li>\n",
        "<li>Оптимизаторы</li>\n",
        "<li>Callback'и</li>\n",
        "</ol>"
      ]
    },
    {
      "cell_type": "markdown",
      "metadata": {
        "id": "9gV6aaON9U86"
      },
      "source": [
        "## Способы создания нейросетей\n",
        "\n",
        "Нейросети это математические модели. Программируя на любом языке можно решать задачи, связанные с математикой. Однако встает вопрос, какой язык подойдет для этого больше? Не считая учебных нейросетей, нейросети как правило работают с большим количеством данных. Поэтому, чтобы обучение нейросетей происходило с приемлимой скоростью нужно использовать быстрый язык. Например Си. Но так как язык Си - это язык с низким уровнем абстракции, то программировать и модифицировать на нем нейросети было бы крайне затруднительно. \n",
        "\n",
        "Хорошо может подойти для этих целей язык Python. Так как он с одной стороны имеет высокий уровень абстракции, с другой стороны операции с массивами данных могут сделать его библиотеки, написанные на Си. Таким способом мы пользовались на первом уроке. Однако, если писать нейросети таким образом, то будет много повторяющегося кода, поскольку архитектуры нейросетей остаются одинаковыми и, зачастую, у них только меняются параметры. Кроме этого нам может понадобиться хорошо знать архитектуры самых разных нейронных сетей, чтобы реализовать их вручную. Работа таким образом затруднительна для людей, не имеющих достаточной подготовки, а для имеющих может быть наоборот рутиной.\n",
        "\n",
        "Существуют фреймворки для созданий нейронных сетей. Они являются, пожалуй основным рабочим способом создания нейронных сетей. Вот их неполный перечень:\n",
        "\n",
        "1. TensorFlow\n",
        "2. PyTorch\n",
        "3. Keras\n",
        "4. Microsoft Cognitive Toolkit (CNTK)\n",
        "5. Caffe\n",
        "\n",
        "<img src='https://drive.google.com/uc?export=view&id=1Udb8e5TQCRgaaiSje8sCks8M2Rw-UcpV'>"
      ]
    },
    {
      "cell_type": "markdown",
      "metadata": {
        "id": "lJzIJYo-JXOW"
      },
      "source": [
        "Все эти инструменты отранжированы в порядке возрастания уровня абстракции. Соответственно, говоря о плюсах и минусах того или иного инструмента, мы должны понимать, в принципе плюсы и минусы повышения уровня абстракции. Чем он выше, тем меньше производительность, и тем меньше его гибкость и, наоборот.\n",
        "\n",
        "Самый популярный фреймворк для создания нейросетей TensorFlow. Самый популярный для обучения - Keras. На этом уроке мы изучим с вами Keras, а на следующим TensorFlow. Также стоит отметить, что эти фреймворки взаимосвязаны - Keras как правило работает поверх TensorFlow, а сам TensorFlow позволяет пользовать средствами Keras при необходимости."
      ]
    },
    {
      "cell_type": "markdown",
      "metadata": {
        "id": "b1uUklH29U88"
      },
      "source": [
        "## Что такое Keras\n",
        "\n",
        "Keras появился относительно недавно - в 2015 г. Но за это время стал одним из самых популярных фреймворков для создания нейросетей и фактически стандартом для использования его начинающими.\n",
        "\n",
        "В чем причина его популярности? Keras позволяет создавать на высоком уровне абстракции. Т.е. не нужно вручную реализовать с помощью математикаподобного кода те или иные элементы нейронной сети. Мы можем оперировать слоями, количеством нейронов в них, выбором функции активации и т.д. В то же время keras содержит инструментарий для всего того, что может понадобиться для работы - например ряд встроенных датасетов, возможность обрабатывать изображения.\n",
        "\n",
        "В техническом плане Keras это оболочка над инструментами меньшей степени абстракции. На выбор он может работать поверх TensorFlow, Microsoft Cognitive Toolkit, Theano.\n",
        "\n",
        "Keras как и любой высокоабстрактный инструмент имеет изъяны в качестве меньшей гибкости и производительности, чем тот же tensorflow.\n",
        "\n",
        "Стоит также отметить, что Google официально поддерживает Keras, его автор François Chollet, является сотрудником Google. TensorFlow сам в свою очередь позволяет использовать возможности Keras, т.е. в нем заложена возможность переходить на более высокой уровень абстракции.\n",
        "\n",
        "В данном уроке мы с вами рассмотрим пример обучения нейронной сети с помощью Keras. Но прежде давайте посмотрим на основы синтаксиса Keras и стандартные задачи, которые нужно выполнить при обучении нейронной сети."
      ]
    },
    {
      "cell_type": "markdown",
      "metadata": {
        "id": "iRJ_I6hu9U8-"
      },
      "source": [
        "## Основы синтаксиса"
      ]
    },
    {
      "cell_type": "markdown",
      "metadata": {
        "id": "Sars-tTz9U9A"
      },
      "source": [
        "**Установка и работа с данными**"
      ]
    },
    {
      "cell_type": "markdown",
      "metadata": {
        "id": "8w3sHXOV9U9B"
      },
      "source": [
        "Для начала необходимо установить keras."
      ]
    },
    {
      "cell_type": "code",
      "metadata": {
        "id": "05hfRCv09U9D"
      },
      "source": [
        "# !pip install keras"
      ],
      "execution_count": null,
      "outputs": []
    },
    {
      "cell_type": "code",
      "metadata": {
        "colab": {
          "base_uri": "https://localhost:8080/",
          "height": 35
        },
        "id": "zR9dvBWLJdfa",
        "outputId": "bacd931f-6699-4028-ae1e-2dc077a2eb1e"
      },
      "source": [
        "import keras\n",
        "keras.__version__"
      ],
      "execution_count": null,
      "outputs": [
        {
          "output_type": "execute_result",
          "data": {
            "application/vnd.google.colaboratory.intrinsic+json": {
              "type": "string"
            },
            "text/plain": [
              "'2.4.3'"
            ]
          },
          "metadata": {
            "tags": []
          },
          "execution_count": 44
        }
      ]
    },
    {
      "cell_type": "code",
      "metadata": {
        "colab": {
          "base_uri": "https://localhost:8080/",
          "height": 35
        },
        "id": "3fwDFMMPJDFE",
        "outputId": "20fd5d40-936e-425f-fd32-099f3337618a"
      },
      "source": [
        "keras.backend.backend()"
      ],
      "execution_count": null,
      "outputs": [
        {
          "output_type": "execute_result",
          "data": {
            "application/vnd.google.colaboratory.intrinsic+json": {
              "type": "string"
            },
            "text/plain": [
              "'tensorflow'"
            ]
          },
          "metadata": {
            "tags": []
          },
          "execution_count": 45
        }
      ]
    },
    {
      "cell_type": "markdown",
      "metadata": {
        "id": "EAwWzAS29U9F"
      },
      "source": [
        "Давайте попробуем получить датасет mnist и проанализировать его содержимое."
      ]
    },
    {
      "cell_type": "code",
      "metadata": {
        "colab": {
          "base_uri": "https://localhost:8080/"
        },
        "id": "p6MGnz8EJoaW",
        "outputId": "f9c54fab-eae5-42f5-874c-0383a00664c1"
      },
      "source": [
        "import matplotlib.pyplot as plt\n",
        "\n",
        "from keras.datasets import mnist\n",
        "import numpy as np\n",
        "\n",
        "\n",
        "(X_train, y_train_labels), (X_test, y_test_labels) = mnist.load_data()\n",
        "\n",
        "print(X_train.shape, X_test.shape)\n",
        "print(y_train_labels.shape)"
      ],
      "execution_count": null,
      "outputs": [
        {
          "output_type": "stream",
          "text": [
            "(60000, 28, 28) (10000, 28, 28)\n",
            "(60000,)\n"
          ],
          "name": "stdout"
        }
      ]
    },
    {
      "cell_type": "code",
      "metadata": {
        "colab": {
          "base_uri": "https://localhost:8080/",
          "height": 283
        },
        "id": "lMcBd9o8LmLH",
        "outputId": "40a77738-ae7d-401f-932b-85719fd745b3"
      },
      "source": [
        "ind = np.random.randint(0, X_train.shape[0])\n",
        "plt.imshow(X_train[ind], cmap='gray')\n",
        "print(f'Label is {y_train_labels[ind]}')"
      ],
      "execution_count": null,
      "outputs": [
        {
          "output_type": "stream",
          "text": [
            "Label is 4\n"
          ],
          "name": "stdout"
        },
        {
          "output_type": "display_data",
          "data": {
            "image/png": "[encoded data removed]",
            "text/plain": [
              "<Figure size 432x288 with 1 Axes>"
            ]
          },
          "metadata": {
            "tags": [],
            "needs_background": "light"
          }
        }
      ]
    },
    {
      "cell_type": "markdown",
      "metadata": {
        "id": "DZiKILQd9U9L"
      },
      "source": [
        "В нашем случае наш тренировочный датасет состоит из 60 000 изображений и тестовый из 10 000 и они поделены по умолчанию.\n",
        "\n",
        "Нам теперь нужно конверитировать значения пикселей из вида от 0 до 255 в набор значений от 0 до 1.\n",
        "\n",
        "<img src='https://slideplayer.com/slide/13293044/79/images/9/Data+Normalization+Normalizing+the+data+make+neural+network+easier+to+learn..jpg'>\n",
        "\n"
      ]
    },
    {
      "cell_type": "code",
      "metadata": {
        "colab": {
          "base_uri": "https://localhost:8080/"
        },
        "id": "WBuaTmSTKW-V",
        "outputId": "ef9b01d4-6716-4ddf-d9a8-10379e678d26"
      },
      "source": [
        "X_train.min(), X_train.max()"
      ],
      "execution_count": null,
      "outputs": [
        {
          "output_type": "execute_result",
          "data": {
            "text/plain": [
              "(0, 255)"
            ]
          },
          "metadata": {
            "tags": []
          },
          "execution_count": 50
        }
      ]
    },
    {
      "cell_type": "code",
      "metadata": {
        "colab": {
          "base_uri": "https://localhost:8080/"
        },
        "id": "M6s8m-_8MEwx",
        "outputId": "9df22563-3fa0-46c0-a684-91d3588f16b6"
      },
      "source": [
        "# Нормировка\n",
        "X_train = X_train / 255.0\n",
        "X_test = X_test / 255.0\n",
        "X_train.min(), X_train.max()"
      ],
      "execution_count": null,
      "outputs": [
        {
          "output_type": "execute_result",
          "data": {
            "text/plain": [
              "(0.0, 1.0)"
            ]
          },
          "metadata": {
            "tags": []
          },
          "execution_count": 51
        }
      ]
    },
    {
      "cell_type": "code",
      "metadata": {
        "colab": {
          "base_uri": "https://localhost:8080/"
        },
        "id": "L4loJteUNIAp",
        "outputId": "3a747dd2-de8d-4e1c-84b8-8ed6dca5f7d1"
      },
      "source": [
        "# Вытягивание признаков\n",
        "X_train = X_train.reshape((-1, 28 * 28))\n",
        "X_test = X_test.reshape((-1, 28 * 28))\n",
        "\n",
        "X_train.shape, X_test.shape"
      ],
      "execution_count": null,
      "outputs": [
        {
          "output_type": "execute_result",
          "data": {
            "text/plain": [
              "((60000, 784), (10000, 784))"
            ]
          },
          "metadata": {
            "tags": []
          },
          "execution_count": 52
        }
      ]
    },
    {
      "cell_type": "markdown",
      "metadata": {
        "id": "jnUt9U3_9U9x"
      },
      "source": [
        "## Простая нейросеть на Keras"
      ]
    },
    {
      "cell_type": "markdown",
      "metadata": {
        "id": "Y6btW5Oz9U9W"
      },
      "source": [
        "### **Создание модели**"
      ]
    },
    {
      "cell_type": "markdown",
      "metadata": {
        "id": "jgVdsO619U9Y"
      },
      "source": [
        "После первичной подготовки данных дальше как правило следует создание модели нейронной сети, которая будет учиться на этих данных.\n",
        "\n",
        "Ниже типичный код учебной нейросети."
      ]
    },
    {
      "cell_type": "code",
      "metadata": {
        "colab": {
          "base_uri": "https://localhost:8080/"
        },
        "id": "n4d7k7H6ScCz",
        "outputId": "9aa178a8-02b7-4155-8237-a18d2a13d57b"
      },
      "source": [
        "from keras.layers import Dense\n",
        "from keras.models import Sequential\n",
        "\n",
        "\n",
        "# define the keras model\n",
        "model = Sequential()\n",
        "model.add(Dense(5, input_shape=(10,), activation='relu'))\n",
        "model.add(Dense(1, activation='sigmoid'))\n",
        "\n",
        "model.summary()"
      ],
      "execution_count": null,
      "outputs": [
        {
          "output_type": "stream",
          "text": [
            "Model: \"sequential_15\"\n",
            "_________________________________________________________________\n",
            "Layer (type)                 Output Shape              Param #   \n",
            "=================================================================\n",
            "dense_40 (Dense)             (None, 5)                 55        \n",
            "_________________________________________________________________\n",
            "dense_41 (Dense)             (None, 1)                 6         \n",
            "=================================================================\n",
            "Total params: 61\n",
            "Trainable params: 61\n",
            "Non-trainable params: 0\n",
            "_________________________________________________________________\n"
          ],
          "name": "stdout"
        }
      ]
    },
    {
      "cell_type": "markdown",
      "metadata": {
        "id": "lb6IkKpN9U9c"
      },
      "source": [
        "Давайте разберемся с теми командами, которые нам встетились в этом коде.\n",
        "\n",
        "Sequential - позволяет создать нейросети, где слои строятся последовательно. Сигнал в них передается от одного слоя к другому. В противовес этой разновидности есть нейросети, где сигнал может не сразу передаваться в следующий слой. Такие нейросети мы разберем в следующих уроках.\n",
        "\n",
        "Dense - позволяет каждому нейрону быть связанному с другим нейронном. В противовес этому может быть необходимость не делать так много связей. Неполносвязнные архитектуры мы также разберем на этом курсе, они основа компьютерного зрения.\n",
        "\n",
        "Цифры 5, 1 обозначают количество нейронов в каждом конкретном слое\n",
        "\n",
        "Activation - позволяет определить формулу по которой будет активироваться нейрон."
      ]
    },
    {
      "cell_type": "markdown",
      "metadata": {
        "id": "x-EtjCLMSijt"
      },
      "source": [
        "Давайте попробуем обучить нейросеть различать рукописные цифры."
      ]
    },
    {
      "cell_type": "code",
      "metadata": {
        "colab": {
          "base_uri": "https://localhost:8080/"
        },
        "id": "aB40PpZ5Nu7v",
        "outputId": "7faf0e57-378e-459e-b940-232701f8cef6"
      },
      "source": [
        "model = Sequential()\n",
        "model.add(Dense(64, input_shape=(28 * 28,), activation='relu'))\n",
        "model.add(Dense(32, activation='relu'))\n",
        "model.add(Dense(10, activation='sigmoid'))\n",
        "\n",
        "model.summary()"
      ],
      "execution_count": null,
      "outputs": [
        {
          "output_type": "stream",
          "text": [
            "Model: \"sequential_16\"\n",
            "_________________________________________________________________\n",
            "Layer (type)                 Output Shape              Param #   \n",
            "=================================================================\n",
            "dense_42 (Dense)             (None, 64)                50240     \n",
            "_________________________________________________________________\n",
            "dense_43 (Dense)             (None, 32)                2080      \n",
            "_________________________________________________________________\n",
            "dense_44 (Dense)             (None, 10)                330       \n",
            "=================================================================\n",
            "Total params: 52,650\n",
            "Trainable params: 52,650\n",
            "Non-trainable params: 0\n",
            "_________________________________________________________________\n"
          ],
          "name": "stdout"
        }
      ]
    },
    {
      "cell_type": "code",
      "metadata": {
        "colab": {
          "base_uri": "https://localhost:8080/"
        },
        "id": "krP76FRIRfnW",
        "outputId": "fa77069d-cdb2-4bf3-8590-cf92b9c0e948"
      },
      "source": [
        "# is the same\n",
        "model = Sequential([\n",
        "    Dense(64, input_shape=(28 * 28,), activation='relu'),\n",
        "    Dense(32, activation='relu'),\n",
        "    Dense(10, activation='sigmoid')\n",
        "])\n",
        "\n",
        "model.summary()"
      ],
      "execution_count": null,
      "outputs": [
        {
          "output_type": "stream",
          "text": [
            "Model: \"sequential_19\"\n",
            "_________________________________________________________________\n",
            "Layer (type)                 Output Shape              Param #   \n",
            "=================================================================\n",
            "dense_50 (Dense)             (None, 64)                50240     \n",
            "_________________________________________________________________\n",
            "dense_51 (Dense)             (None, 32)                2080      \n",
            "_________________________________________________________________\n",
            "dense_52 (Dense)             (None, 10)                330       \n",
            "=================================================================\n",
            "Total params: 52,650\n",
            "Trainable params: 52,650\n",
            "Non-trainable params: 0\n",
            "_________________________________________________________________\n"
          ],
          "name": "stdout"
        }
      ]
    },
    {
      "cell_type": "code",
      "metadata": {
        "colab": {
          "base_uri": "https://localhost:8080/",
          "height": 369
        },
        "id": "E3fc6f4tR0T2",
        "outputId": "62e79fbc-fd1f-4665-dcb8-1c8140ca14a6"
      },
      "source": [
        "from keras.utils import plot_model\n",
        "\n",
        "plot_model(model)"
      ],
      "execution_count": null,
      "outputs": [
        {
          "output_type": "execute_result",
          "data": {
            "image/png": "[encoded data removed]",
            "text/plain": [
              "<IPython.core.display.Image object>"
            ]
          },
          "metadata": {
            "tags": []
          },
          "execution_count": 56
        }
      ]
    },
    {
      "cell_type": "code",
      "metadata": {
        "colab": {
          "base_uri": "https://localhost:8080/"
        },
        "id": "nC-XItTxSB0p",
        "outputId": "85a15f84-6369-4d4b-fda0-90a3826691ac"
      },
      "source": [
        "config = model.get_config()\n",
        "config"
      ],
      "execution_count": null,
      "outputs": [
        {
          "output_type": "execute_result",
          "data": {
            "text/plain": [
              "{'layers': [{'class_name': 'InputLayer',\n",
              "   'config': {'batch_input_shape': (None, 784),\n",
              "    'dtype': 'float32',\n",
              "    'name': 'dense_45_input',\n",
              "    'ragged': False,\n",
              "    'sparse': False}},\n",
              "  {'class_name': 'Dense',\n",
              "   'config': {'activation': 'relu',\n",
              "    'activity_regularizer': None,\n",
              "    'batch_input_shape': (None, 784),\n",
              "    'bias_constraint': None,\n",
              "    'bias_initializer': {'class_name': 'Zeros', 'config': {}},\n",
              "    'bias_regularizer': None,\n",
              "    'dtype': 'float32',\n",
              "    'kernel_constraint': None,\n",
              "    'kernel_initializer': {'class_name': 'GlorotUniform',\n",
              "     'config': {'seed': None}},\n",
              "    'kernel_regularizer': None,\n",
              "    'name': 'dense_45',\n",
              "    'trainable': True,\n",
              "    'units': 64,\n",
              "    'use_bias': True}},\n",
              "  {'class_name': 'Dense',\n",
              "   'config': {'activation': 'relu',\n",
              "    'activity_regularizer': None,\n",
              "    'bias_constraint': None,\n",
              "    'bias_initializer': {'class_name': 'Zeros', 'config': {}},\n",
              "    'bias_regularizer': None,\n",
              "    'dtype': 'float32',\n",
              "    'kernel_constraint': None,\n",
              "    'kernel_initializer': {'class_name': 'GlorotUniform',\n",
              "     'config': {'seed': None}},\n",
              "    'kernel_regularizer': None,\n",
              "    'name': 'dense_46',\n",
              "    'trainable': True,\n",
              "    'units': 32,\n",
              "    'use_bias': True}},\n",
              "  {'class_name': 'Dense',\n",
              "   'config': {'activation': 'sigmoid',\n",
              "    'activity_regularizer': None,\n",
              "    'bias_constraint': None,\n",
              "    'bias_initializer': {'class_name': 'Zeros', 'config': {}},\n",
              "    'bias_regularizer': None,\n",
              "    'dtype': 'float32',\n",
              "    'kernel_constraint': None,\n",
              "    'kernel_initializer': {'class_name': 'GlorotUniform',\n",
              "     'config': {'seed': None}},\n",
              "    'kernel_regularizer': None,\n",
              "    'name': 'dense_47',\n",
              "    'trainable': True,\n",
              "    'units': 10,\n",
              "    'use_bias': True}}],\n",
              " 'name': 'sequential_17'}"
            ]
          },
          "metadata": {
            "tags": []
          },
          "execution_count": 57
        }
      ]
    },
    {
      "cell_type": "code",
      "metadata": {
        "id": "W8AWxvh-JL2e",
        "colab": {
          "base_uri": "https://localhost:8080/"
        },
        "outputId": "210ad421-fcfc-4cc8-cb9b-d95a226e915c"
      },
      "source": [
        "model = Sequential([\n",
        "    Dense(6, input_shape=(28 * 28,), activation='relu'),\n",
        "    Dense(1, activation='sigmoid')\n",
        "])\n",
        "\n",
        "model.summary()"
      ],
      "execution_count": null,
      "outputs": [
        {
          "output_type": "stream",
          "text": [
            "Model: \"sequential_18\"\n",
            "_________________________________________________________________\n",
            "Layer (type)                 Output Shape              Param #   \n",
            "=================================================================\n",
            "dense_48 (Dense)             (None, 6)                 4710      \n",
            "_________________________________________________________________\n",
            "dense_49 (Dense)             (None, 1)                 7         \n",
            "=================================================================\n",
            "Total params: 4,717\n",
            "Trainable params: 4,717\n",
            "Non-trainable params: 0\n",
            "_________________________________________________________________\n"
          ],
          "name": "stdout"
        }
      ]
    },
    {
      "cell_type": "code",
      "metadata": {
        "id": "shppTOWBJCrZ",
        "colab": {
          "base_uri": "https://localhost:8080/"
        },
        "outputId": "9cd4dfe9-e0ea-4132-8f83-e73d0865b03e"
      },
      "source": [
        "model = model.from_config(config)\n",
        "model.summary()"
      ],
      "execution_count": null,
      "outputs": [
        {
          "output_type": "stream",
          "text": [
            "Model: \"sequential_17\"\n",
            "_________________________________________________________________\n",
            "Layer (type)                 Output Shape              Param #   \n",
            "=================================================================\n",
            "dense_45 (Dense)             (None, 64)                50240     \n",
            "_________________________________________________________________\n",
            "dense_46 (Dense)             (None, 32)                2080      \n",
            "_________________________________________________________________\n",
            "dense_47 (Dense)             (None, 10)                330       \n",
            "=================================================================\n",
            "Total params: 52,650\n",
            "Trainable params: 52,650\n",
            "Non-trainable params: 0\n",
            "_________________________________________________________________\n"
          ],
          "name": "stdout"
        }
      ]
    },
    {
      "cell_type": "markdown",
      "metadata": {
        "id": "iVWaIK2l9U9e"
      },
      "source": [
        "### **Компиляция модели**\n",
        "\n",
        "На этапе компиляции модель с заданными параметрами ранее создается. Вот типичный учебный пример:"
      ]
    },
    {
      "cell_type": "code",
      "metadata": {
        "id": "MInwRm_7OcYJ"
      },
      "source": [
        "model.compile(loss='categorical_crossentropy', optimizer='SGD', metrics=['accuracy'])"
      ],
      "execution_count": null,
      "outputs": []
    },
    {
      "cell_type": "markdown",
      "metadata": {
        "id": "IDbetrHA9U9i"
      },
      "source": [
        "Однако на этой стадии мы должны сделать еще некоторые настройки нейронной сети. Разберем команды из кода выше.\n",
        "\n",
        "- loss - позволяет задать формулу, по которой будет определяться степень ошибки нейронной сети.\n",
        "- optimizer - позволяет задать алгоритм, который будет осуществлять изменения весов по всей нейронной сети (backpropagation).\n",
        "- metrics - позволяет определить критерии, по которым будет оцениваться степень обученности нейросети.\n",
        "    "
      ]
    },
    {
      "cell_type": "markdown",
      "metadata": {
        "id": "KH-Cy6Iy9U9l"
      },
      "source": [
        "### **Передача данных для обучения нейросети**\n",
        "\n",
        "После того как нейросеть создана, можно передавать ей данные для обучения. Ниже типичный пример кода для этого.\n"
      ]
    },
    {
      "cell_type": "code",
      "metadata": {
        "colab": {
          "base_uri": "https://localhost:8080/"
        },
        "id": "t8wSpGUvSKYC",
        "outputId": "9d8601e7-b7cd-4799-b890-8ef362bf32f3"
      },
      "source": [
        "y_train_labels[:5]"
      ],
      "execution_count": null,
      "outputs": [
        {
          "output_type": "execute_result",
          "data": {
            "text/plain": [
              "array([5, 0, 4, 1, 9], dtype=uint8)"
            ]
          },
          "metadata": {
            "tags": []
          },
          "execution_count": 61
        }
      ]
    },
    {
      "cell_type": "code",
      "metadata": {
        "colab": {
          "base_uri": "https://localhost:8080/"
        },
        "id": "7FVfRog_SMgT",
        "outputId": "853a2c34-516d-4709-b7ef-d0be09483b19"
      },
      "source": [
        "from keras.utils import to_categorical\n",
        "\n",
        "\n",
        "y_train = to_categorical(y_train_labels)\n",
        "y_test = to_categorical(y_test_labels)\n",
        "\n",
        "y_train[:5]"
      ],
      "execution_count": null,
      "outputs": [
        {
          "output_type": "execute_result",
          "data": {
            "text/plain": [
              "array([[0., 0., 0., 0., 0., 1., 0., 0., 0., 0.],\n",
              "       [1., 0., 0., 0., 0., 0., 0., 0., 0., 0.],\n",
              "       [0., 0., 0., 0., 1., 0., 0., 0., 0., 0.],\n",
              "       [0., 1., 0., 0., 0., 0., 0., 0., 0., 0.],\n",
              "       [0., 0., 0., 0., 0., 0., 0., 0., 0., 1.]], dtype=float32)"
            ]
          },
          "metadata": {
            "tags": []
          },
          "execution_count": 62
        }
      ]
    },
    {
      "cell_type": "markdown",
      "metadata": {
        "id": "fqBRW_s6ac0m"
      },
      "source": [
        "<img src='https://drive.google.com/uc?export=view&id=1j8SxKYEi12jzJXi_bPO28q5SV9emuu0Y'>"
      ]
    },
    {
      "cell_type": "code",
      "metadata": {
        "colab": {
          "base_uri": "https://localhost:8080/"
        },
        "id": "_v47tBDpZcEu",
        "outputId": "4c678382-46bb-48aa-d14a-e8c6aae6a412"
      },
      "source": [
        "X_train.shape"
      ],
      "execution_count": null,
      "outputs": [
        {
          "output_type": "execute_result",
          "data": {
            "text/plain": [
              "(60000, 784)"
            ]
          },
          "metadata": {
            "tags": []
          },
          "execution_count": 18
        }
      ]
    },
    {
      "cell_type": "code",
      "metadata": {
        "colab": {
          "base_uri": "https://localhost:8080/"
        },
        "id": "dgGt_UruOtFZ",
        "outputId": "0c9069f2-069c-44ae-d6b6-c7356611f904"
      },
      "source": [
        "# передача обучающего датасета keras модели\n",
        "\n",
        "# можно явно указать валидационный датасет\n",
        "# history = model.fit(X_train, y_train,\n",
        "#                     epochs=5,\n",
        "#                     batch_size=128,\n",
        "#                     verbose=1,\n",
        "#                     validation_data=(X_test, y_test)\n",
        "#                     )\n",
        "\n",
        "\n",
        "# либо можно указать разбиение на валидацию\n",
        "history = model.fit(X_train, y_train,\n",
        "                    epochs=5,\n",
        "                    batch_size=10, \n",
        "                    verbose=1, validation_split=0.2)"
      ],
      "execution_count": null,
      "outputs": [
        {
          "output_type": "stream",
          "text": [
            "Epoch 1/5\n",
            "4800/4800 [==============================] - 9s 2ms/step - loss: 0.8232 - accuracy: 0.7571 - val_loss: 0.2695 - val_accuracy: 0.9223\n",
            "Epoch 2/5\n",
            "4800/4800 [==============================] - 8s 2ms/step - loss: 0.2614 - accuracy: 0.9227 - val_loss: 0.2186 - val_accuracy: 0.9372\n",
            "Epoch 3/5\n",
            "4800/4800 [==============================] - 8s 2ms/step - loss: 0.1958 - accuracy: 0.9445 - val_loss: 0.1730 - val_accuracy: 0.9506\n",
            "Epoch 4/5\n",
            "4800/4800 [==============================] - 7s 1ms/step - loss: 0.1573 - accuracy: 0.9545 - val_loss: 0.1513 - val_accuracy: 0.9562\n",
            "Epoch 5/5\n",
            "4800/4800 [==============================] - 7s 1ms/step - loss: 0.1331 - accuracy: 0.9607 - val_loss: 0.1391 - val_accuracy: 0.9602\n"
          ],
          "name": "stdout"
        }
      ]
    },
    {
      "cell_type": "markdown",
      "metadata": {
        "id": "tFt0A6m59U9q"
      },
      "source": [
        "Разберем команды из этого примера.\n",
        "\n",
        "- X_train, y_train - содержат все обучающие данные\n",
        "- epochs - определяет сколько раз через нейросеть должен пройти весь набор данных\n",
        "- bath_size - определяет количество обучающих примеров передающихся нейросети на каждой итерации обучения.\n",
        "- verbose - позволяет определять информацию, которую вы видите во время обучения нейронной сети.\n",
        "- validation data - содержат все валидационные данные"
      ]
    },
    {
      "cell_type": "code",
      "metadata": {
        "colab": {
          "base_uri": "https://localhost:8080/"
        },
        "id": "z-_BvJsjVOOY",
        "outputId": "9011169b-fbed-4efc-af24-e73314140c95"
      },
      "source": [
        "history.history"
      ],
      "execution_count": null,
      "outputs": [
        {
          "output_type": "execute_result",
          "data": {
            "text/plain": [
              "{'accuracy': [0.9312708377838135,\n",
              "  0.9488124847412109,\n",
              "  0.9587291479110718,\n",
              "  0.9650416374206543,\n",
              "  0.9694374799728394],\n",
              " 'loss': [0.23386794328689575,\n",
              "  0.17503704130649567,\n",
              "  0.14107277989387512,\n",
              "  0.11924141645431519,\n",
              "  0.10345511883497238],\n",
              " 'val_accuracy': [0.9471666812896729,\n",
              "  0.9542499780654907,\n",
              "  0.9588333368301392,\n",
              "  0.9616666436195374,\n",
              "  0.9648333191871643],\n",
              " 'val_loss': [0.19366911053657532,\n",
              "  0.16283397376537323,\n",
              "  0.1449381411075592,\n",
              "  0.13350340723991394,\n",
              "  0.12092248350381851]}"
            ]
          },
          "metadata": {
            "tags": []
          },
          "execution_count": 69
        }
      ]
    },
    {
      "cell_type": "code",
      "metadata": {
        "colab": {
          "base_uri": "https://localhost:8080/",
          "height": 265
        },
        "id": "xKpOPxNobbJ8",
        "outputId": "753dfdc1-9afc-42b2-d534-444b3fbfee6b"
      },
      "source": [
        "train_acc = history.history['accuracy']\n",
        "val_acc = history.history['val_accuracy']\n",
        "\n",
        "plt.plot(train_acc, label='train')\n",
        "plt.plot(val_acc, label='val')\n",
        "plt.legend();"
      ],
      "execution_count": null,
      "outputs": [
        {
          "output_type": "display_data",
          "data": {
            "image/png": "[encoded data removed]",
            "text/plain": [
              "<Figure size 432x288 with 1 Axes>"
            ]
          },
          "metadata": {
            "tags": [],
            "needs_background": "light"
          }
        }
      ]
    },
    {
      "cell_type": "code",
      "metadata": {
        "colab": {
          "base_uri": "https://localhost:8080/"
        },
        "id": "t26sY8YAXi1O",
        "outputId": "5819808b-47a0-4594-dd6c-8e1def0e07f5"
      },
      "source": [
        "# steps_per_epoch\n",
        "\n",
        "history = model.fit(X_train, y_train,\n",
        "                    epochs=5,\n",
        "                    steps_per_epoch=100, \n",
        "                    verbose=1,\n",
        "                    validation_data=(X_test, y_test))"
      ],
      "execution_count": null,
      "outputs": [
        {
          "output_type": "stream",
          "text": [
            "Epoch 1/5\n",
            "100/100 [==============================] - 1s 12ms/step - loss: 0.0893 - accuracy: 0.9747 - val_loss: 0.1058 - val_accuracy: 0.9678\n",
            "Epoch 2/5\n",
            "100/100 [==============================] - 1s 10ms/step - loss: 0.0868 - accuracy: 0.9756 - val_loss: 0.1049 - val_accuracy: 0.9677\n",
            "Epoch 3/5\n",
            "100/100 [==============================] - 1s 10ms/step - loss: 0.0857 - accuracy: 0.9760 - val_loss: 0.1043 - val_accuracy: 0.9676\n",
            "Epoch 4/5\n",
            "100/100 [==============================] - 1s 11ms/step - loss: 0.0850 - accuracy: 0.9762 - val_loss: 0.1042 - val_accuracy: 0.9681\n",
            "Epoch 5/5\n",
            "100/100 [==============================] - 1s 10ms/step - loss: 0.0844 - accuracy: 0.9762 - val_loss: 0.1038 - val_accuracy: 0.9682\n"
          ],
          "name": "stdout"
        }
      ]
    },
    {
      "cell_type": "markdown",
      "metadata": {
        "id": "P7ERG-o79U9s"
      },
      "source": [
        "### **Оценка обученности нейронной сети**\n",
        "\n",
        "Следующей стадией может быть проверка обученности нейронной сети. Команда Keras для этих целей."
      ]
    },
    {
      "cell_type": "code",
      "metadata": {
        "colab": {
          "base_uri": "https://localhost:8080/"
        },
        "id": "Xy_ZHJLRPZu1",
        "outputId": "8dee06c1-7a63-4273-fdd3-34a9fc88d1d5"
      },
      "source": [
        "loss, metric = model.evaluate(X_test, y_test, batch_size=128)\n",
        "loss, metric"
      ],
      "execution_count": null,
      "outputs": [
        {
          "output_type": "stream",
          "text": [
            "79/79 [==============================] - 0s 2ms/step - loss: 0.1121 - accuracy: 0.9660\n"
          ],
          "name": "stdout"
        },
        {
          "output_type": "execute_result",
          "data": {
            "text/plain": [
              "(0.11205914616584778, 0.9660000205039978)"
            ]
          },
          "metadata": {
            "tags": []
          },
          "execution_count": 71
        }
      ]
    },
    {
      "cell_type": "markdown",
      "metadata": {
        "id": "JEEb6PjLPerM"
      },
      "source": [
        "В данном случае мы просто указываем какую модель на каких данных мы хотим проверить."
      ]
    },
    {
      "cell_type": "markdown",
      "metadata": {
        "id": "UHT1j0AX9U9t"
      },
      "source": [
        "### **Запуск нейронной сети для выполнения работы**\n",
        "\n",
        "На этой стадии мы можем попробовать запустить нейронную сеть на данных которые мы хотели бы чтобы она оценила. Осуществить распознавания объекта на фотографии например.\n",
        "Вот код для этих целей.\n",
        "\n",
        "В качестве аргумента здесь указывается массив данных."
      ]
    },
    {
      "cell_type": "code",
      "metadata": {
        "colab": {
          "base_uri": "https://localhost:8080/"
        },
        "id": "LsCce3lEBVkh",
        "outputId": "872caf0a-35b0-40f7-fca4-7401488923d7"
      },
      "source": [
        "X_test[0][None].shape"
      ],
      "execution_count": null,
      "outputs": [
        {
          "output_type": "execute_result",
          "data": {
            "text/plain": [
              "(1, 784)"
            ]
          },
          "metadata": {
            "tags": []
          },
          "execution_count": 85
        }
      ]
    },
    {
      "cell_type": "code",
      "metadata": {
        "colab": {
          "base_uri": "https://localhost:8080/"
        },
        "id": "E12l3cq6P4_O",
        "outputId": "62266d23-45c2-40c4-fe5b-8ac698bd9a7c"
      },
      "source": [
        "predictions = model.predict(X_test[0][None])\n",
        "predictions"
      ],
      "execution_count": null,
      "outputs": [
        {
          "output_type": "execute_result",
          "data": {
            "text/plain": [
              "array([[3.1850958e-01, 9.0415776e-02, 9.8676366e-01, 9.9162722e-01,\n",
              "        1.6615054e-01, 6.6009438e-01, 5.4092256e-05, 9.9997973e-01,\n",
              "        8.2251644e-01, 8.5698557e-01]], dtype=float32)"
            ]
          },
          "metadata": {
            "tags": []
          },
          "execution_count": 84
        }
      ]
    },
    {
      "cell_type": "code",
      "metadata": {
        "colab": {
          "base_uri": "https://localhost:8080/"
        },
        "id": "AasIPpL0TpgN",
        "outputId": "1dcfd74a-9234-4a4c-dce0-b4dc5e1502e2"
      },
      "source": [
        "pred_labels = np.argmax(predictions, axis=1)\n",
        "pred_labels"
      ],
      "execution_count": null,
      "outputs": [
        {
          "output_type": "execute_result",
          "data": {
            "text/plain": [
              "array([7])"
            ]
          },
          "metadata": {
            "tags": []
          },
          "execution_count": 86
        }
      ]
    },
    {
      "cell_type": "code",
      "metadata": {
        "colab": {
          "base_uri": "https://localhost:8080/"
        },
        "id": "47wK4mK8T0dp",
        "outputId": "58e9787a-25b5-4d4a-ff61-c3e58e86e117"
      },
      "source": [
        "y_test_labels[:3]"
      ],
      "execution_count": null,
      "outputs": [
        {
          "output_type": "execute_result",
          "data": {
            "text/plain": [
              "array([7, 2, 1], dtype=uint8)"
            ]
          },
          "metadata": {
            "tags": []
          },
          "execution_count": 87
        }
      ]
    },
    {
      "cell_type": "markdown",
      "metadata": {
        "id": "LoL6FC9I9U9v"
      },
      "source": [
        "Мы с вами рассмотрели основные стадии процесса обучения нейросети и команды Keras. Безусловно, здесь приведен далеко неполный перечень возможностей Keras. У Keras есть также возможность сохранять созданную нейросеть, запускать уже имеющиюся, различные средства для создания нейросетей разных архитектур и другое. С чем-то из арсенала Keras мы с вами познакомимся по ходу курса, а с остальным вы можете познакомиться на сайте Keras в разделе документация."
      ]
    },
    {
      "cell_type": "code",
      "metadata": {
        "id": "He1a5EemElpX"
      },
      "source": [
        "# Save the weights to disk\n",
        "model.save_weights('model_weights.h5')\n",
        "\n",
        "# Save the model to disk\n",
        "model.save('model.h5')"
      ],
      "execution_count": null,
      "outputs": []
    },
    {
      "cell_type": "code",
      "metadata": {
        "colab": {
          "base_uri": "https://localhost:8080/"
        },
        "id": "KMZ55yhLUvK8",
        "outputId": "554b9d36-a4de-4ed1-a3eb-891755810346"
      },
      "source": [
        "from keras.models import load_model\n",
        "\n",
        "# Load the model from disk\n",
        "load_model('model.h5').summary()\n",
        "\n",
        "\n",
        "# load_model('model_weights.h5')  # ValueError: No model found in config file"
      ],
      "execution_count": null,
      "outputs": [
        {
          "output_type": "stream",
          "text": [
            "Model: \"sequential_19\"\n",
            "_________________________________________________________________\n",
            "Layer (type)                 Output Shape              Param #   \n",
            "=================================================================\n",
            "dense_50 (Dense)             (None, 64)                50240     \n",
            "_________________________________________________________________\n",
            "dense_51 (Dense)             (None, 32)                2080      \n",
            "_________________________________________________________________\n",
            "dense_52 (Dense)             (None, 10)                330       \n",
            "=================================================================\n",
            "Total params: 52,650\n",
            "Trainable params: 52,650\n",
            "Non-trainable params: 0\n",
            "_________________________________________________________________\n"
          ],
          "name": "stdout"
        }
      ]
    },
    {
      "cell_type": "code",
      "metadata": {
        "id": "tBcv2921UQWm"
      },
      "source": [
        "# Load the model weights from disk\n",
        "model.from_config()\n",
        "model.load_weights('model_weights.h5')"
      ],
      "execution_count": null,
      "outputs": []
    },
    {
      "cell_type": "markdown",
      "metadata": {
        "id": "a8zh5g-GBQIp"
      },
      "source": [
        "## Оптимизаторы"
      ]
    },
    {
      "cell_type": "markdown",
      "metadata": {
        "id": "kxsnVzGpcI3o"
      },
      "source": [
        "<img src='https://drive.google.com/uc?export=view&id=12D44wSjCypIi0O9N6Uj36w5tWkhW79pG'>\n"
      ]
    },
    {
      "cell_type": "markdown",
      "metadata": {
        "id": "6P0Cn9WIpXUN"
      },
      "source": [
        "Основные проблемы, которые могут возникнуть в процессе оптимизации:\n",
        "1. Застревание в локальных минимумах или седловых точках, коих может быть очень много.\n",
        "2. Сложный ландшафт целевой функции: плато чередуются с регионами сильной нелинейности. Производная на плато практически равна нулю, а внезапный обрыв, наоборот, может отправить нас слишком далеко.\n",
        "3. Слишком маленькая скорость обучения заставляет алгоритм сходиться очень долго и застревать в локальных минимумах, слишком большая — «пролетать» узкие глобальные минимумы или вовсе расходиться.\n",
        "\n",
        "<img src='https://drive.google.com/uc?export=view&id=13JItksqmvlEe7ponSpskIWEmAFdXD4CW' width=500>"
      ]
    },
    {
      "cell_type": "markdown",
      "metadata": {
        "id": "kyz4Zvsffeq4"
      },
      "source": [
        "### SGD (+ momentum)\n"
      ]
    },
    {
      "cell_type": "markdown",
      "metadata": {
        "id": "sqtk507kfVDI"
      },
      "source": [
        "\n",
        "<img src='https://drive.google.com/uc?export=view&id=1JMoY1y1oZUtiicvCuhxhliiLBLoNl7bA'>\n",
        "\n",
        "Правило обновления весов w с градиентом g, когда импульс == 0:\n",
        "\n",
        "$w^{k} = w^{k-1} - \\eta * {\\nabla Q(w^{k-1}, X)}$\n",
        "\n",
        "Правило обновления весов w с градиентом g, когда импульс > 0:\n",
        "\n",
        "$velocity = momentum * velocity - \\eta * {\\nabla Q(w^{k-1}, X)}$<br>\n",
        "$w^{k} = w^{k-1} + velocity$\n",
        "\n",
        "<img src='https://drive.google.com/uc?export=view&id=1h0u3hNo2cjDRoq0FVdXIScgRo6Iq687y'>"
      ]
    },
    {
      "cell_type": "markdown",
      "metadata": {
        "id": "QnMoeBWF3f8g"
      },
      "source": [
        "Объяснение, как работает SGB + Momentum [здесь](https://youtu.be/CKLwvuKWQjo).\n",
        "\n",
        "Засчет добавления импульса получается сглаживание оптимизации.\n",
        "\n",
        "|$t_1$|$t_2$|..|$t_n$|\n",
        "|--|--|--|--|\n",
        "|$g_1$|$g_2$|..|$g_n$|\n",
        "\n",
        "$\\gamma = 0.5$\n",
        "\n",
        "$v_1 = g_1$<br>\n",
        "$v_2 = \\gamma * v_1 + g_2 = 0.5 * g_1 + g_2$<br>\n",
        "$v_3 = \\gamma * v_2 + g_3 = \\gamma (\\gamma * v_1 + g_2) + g_3 = \\gamma^2 * g_1 + \\gamma * g_2 + g_3 = 0.25 * g_1 + 0.5 * g_2 + g_3$<br>"
      ]
    },
    {
      "cell_type": "code",
      "metadata": {
        "id": "_Tu3Q9bHf1ld",
        "colab": {
          "base_uri": "https://localhost:8080/"
        },
        "outputId": "70a37f2a-0cbf-4a80-a9d1-e1044090ea15"
      },
      "source": [
        "from keras.optimizers import SGD\n",
        "SGD(learning_rate=0.01, momentum=0.5)"
      ],
      "execution_count": null,
      "outputs": [
        {
          "output_type": "execute_result",
          "data": {
            "text/plain": [
              "<tensorflow.python.keras.optimizer_v2.gradient_descent.SGD at 0x7f4fb3c655d0>"
            ]
          },
          "metadata": {
            "tags": []
          },
          "execution_count": 30
        }
      ]
    },
    {
      "cell_type": "markdown",
      "metadata": {
        "id": "0M5994xKfjOb"
      },
      "source": [
        "### AdaGrad"
      ]
    },
    {
      "cell_type": "markdown",
      "metadata": {
        "id": "J25L4PhmfSRz"
      },
      "source": [
        "\n",
        "Объяснение, как работает Adagrad [здесь](https://youtu.be/GSmW59dM0-o).\n",
        "\n",
        "Gradient Descent:\n",
        "$ w^{k} = w^{k-1} - \\eta\\nabla Q(w^{k-1}, X)$.\n",
        "\n",
        "В Adagrad используются разные скорости обучения в зависимости от итерации:\n",
        "<h3>$ w^{k} = w^{k-1} - \\eta_{k}\\nabla Q(w^{k-1}, X) $</h3>\n",
        "\n",
        "<h2>$\\eta_{k} = \\frac{\\eta}{\\sqrt{\\alpha_k + \\epsilon}}$</h2>\n",
        "где  $\\epsilon$ - маленькое число, чтобы не было деления на ноль.\n",
        "<h4>$\\alpha_k = \\sum_{i=0}^k{\\nabla Q(w^{k-1}, X)}^2$</h4>\n",
        "\n",
        "Обновление весов:\n",
        "\n",
        "<h4>$ w^{k} = w^{k-1} - \\eta_k\\nabla Q(w^{k-1}, X)$</h4>\n",
        "\n",
        "Получается, что когда $\\alpha$ становится большим числом, то $\\eta_{k}$ становится меньше, то есть с увеличением итерации - уменьшается скорость обучения, а значит и уменьшается скорость изменения весов.\n",
        "\n",
        "Но есть одна очень большая проблема - чем больше итераций, тем $\\alpha$ больше, скорость обучения меньше, это приведет к тому, что изменение весов может стать совсем незаметным. Но это решаемо с помощью RMSProp."
      ]
    },
    {
      "cell_type": "code",
      "metadata": {
        "id": "zm7TVF096CEx",
        "colab": {
          "base_uri": "https://localhost:8080/"
        },
        "outputId": "c5b7e7a6-9517-47a2-ab4e-593e7140228f"
      },
      "source": [
        "from keras.optimizers import Adagrad\n",
        "Adagrad(learning_rate=0.001, initial_accumulator_value=0.1, epsilon=1e-07)"
      ],
      "execution_count": null,
      "outputs": [
        {
          "output_type": "execute_result",
          "data": {
            "text/plain": [
              "<tensorflow.python.keras.optimizer_v2.adagrad.Adagrad at 0x7f4fb6e4cd90>"
            ]
          },
          "metadata": {
            "tags": []
          },
          "execution_count": 31
        }
      ]
    },
    {
      "cell_type": "markdown",
      "metadata": {
        "id": "foVu35djfmbo"
      },
      "source": [
        "### RMSProp (Leaky AdaGrad)"
      ]
    },
    {
      "cell_type": "markdown",
      "metadata": {
        "id": "25V9xgaiVPhf"
      },
      "source": [
        "Объяснение, как работает RMSprop [здесь](https://youtu.be/9wFBbAQixBM).\n",
        "\n",
        "Этот оптимизатор исправляет проблему с неизменяемыми весами в Adagrad засчет введения ограничения на градиенты весов.\n",
        "\n",
        "<h2>$\\eta_{k} = \\frac{\\eta}{\\sqrt{W_{avg_k} + \\epsilon}}$</h2>\n",
        "где  $\\epsilon$ - маленькое число, чтобы не было деления на ноль.\n",
        "\n",
        "$W_{avg_{0}} = 0$\n",
        "\n",
        "<h4>$W_{avg_k} = \\rho * W_{avg_{k-1}}+(1-\\rho){\\nabla Q(w^{k-1}, X)}^2$</h4>\n",
        "\n",
        "Обновление весов:\n",
        "\n",
        "<h4>$ w^{k} = w^{k-1} - \\eta_k\\nabla Q(w^{k-1}, X)$</h4>\n"
      ]
    },
    {
      "cell_type": "code",
      "metadata": {
        "id": "46PwnfPPVQiZ",
        "colab": {
          "base_uri": "https://localhost:8080/"
        },
        "outputId": "4b562ce6-b7f1-4b37-85c2-9fe3f48110ff"
      },
      "source": [
        "from keras.optimizers import RMSprop\n",
        "RMSprop(learning_rate=0.001, rho=0.9, epsilon=1e-07)"
      ],
      "execution_count": null,
      "outputs": [
        {
          "output_type": "execute_result",
          "data": {
            "text/plain": [
              "<tensorflow.python.keras.optimizer_v2.rmsprop.RMSprop at 0x7f4fb4497390>"
            ]
          },
          "metadata": {
            "tags": []
          },
          "execution_count": 32
        }
      ]
    },
    {
      "cell_type": "markdown",
      "metadata": {
        "id": "k7iOYaeOfqbS"
      },
      "source": [
        "### Adam"
      ]
    },
    {
      "cell_type": "markdown",
      "metadata": {
        "id": "O_VvTqscfgQN"
      },
      "source": [
        "Здесь соединились два плюса предыдущих оптимизаторов:\n",
        "1. Импульс (дает сглаживание оптимизации)\n",
        "2. Постепенное уменьшение скорости обучения\n",
        "\n",
        "<h4>$V_{k} = \\beta_1 * V_{k-1} + g_k$</h4>\n",
        "\n",
        "<h4>$W_{avg_k} = \\beta_2 * W_{avg_{k-1}}+(1-\\beta_2){\\nabla Q(w^{k-1}, X)}^2$</h4>\n",
        "\n",
        "Обновление весов:\n",
        "<h4>$ w^{k} = w^{k-1} - \\frac{\\eta * V_k}{\\sqrt{W_{avg_k} + \\epsilon}}$</h4>\n"
      ]
    },
    {
      "cell_type": "code",
      "metadata": {
        "id": "_NBYrY81fgrI",
        "colab": {
          "base_uri": "https://localhost:8080/"
        },
        "outputId": "c6f55eec-29dd-4910-83a9-2a3939bd1bad"
      },
      "source": [
        "from keras.optimizers import Adam\n",
        "Adam(learning_rate=0.001, beta_1=0.9, beta_2=0.999, epsilon=1e-07)"
      ],
      "execution_count": null,
      "outputs": [
        {
          "output_type": "execute_result",
          "data": {
            "text/plain": [
              "<tensorflow.python.keras.optimizer_v2.adam.Adam at 0x7f4fb3c65e90>"
            ]
          },
          "metadata": {
            "tags": []
          },
          "execution_count": 33
        }
      ]
    },
    {
      "cell_type": "markdown",
      "metadata": {
        "id": "dxH-XG1jcIKs"
      },
      "source": [
        "### Эксперимент с разными оптимизаторами для одной начальной модели\n",
        "\n",
        "1. создаем модель model\n",
        "2. сохраняем ее веса (это начальная точка) model.save_weights('model.h5')\n",
        "3.\\* создаем рабочую модель $model_i$, куда будем загружать эти веса (она должна быть идентичной структуры) \n",
        "4.\\* загружаем веса $model_i$.load_weights('model.h5')\n",
        "5.\\* компилируем $model_i$, с одним из оптимизаторов\n",
        "6. вычисляем ошибку для $model_i$, без обучения (т.к. все модели начинают с одной точки, то все ошибки должны быть одинаковые, но будем контролировать это и считаем каждый раз заново)\n",
        "7. проводим обучение модели и пишем ошибки в истории history\n",
        "8. выводим ошибки для 0-го момента и каждой эпохи обучения по тестовой и валидационной частям данных\n",
        "\n",
        "*Либо пункты сохранения воспроизводимости можно заменить фиксацией псевдо рандома:\n",
        "\n",
        "\n",
        "```\n",
        "# for reproducible weights initialization\n",
        "import tensorflow as tf\n",
        "tf.random.set_seed(1)\n",
        "\n",
        "# model.layers[0].weights\n",
        "```\n",
        "\n"
      ]
    },
    {
      "cell_type": "code",
      "metadata": {
        "colab": {
          "base_uri": "https://localhost:8080/"
        },
        "id": "L2Frdm7VYNWh",
        "outputId": "85341db5-20d6-4a6d-b043-c6e24ef68384"
      },
      "source": [
        "# создаем модель model\n",
        "model = Sequential([\n",
        "    Dense(64, activation='relu', input_shape=(784,)),\n",
        "    Dense(32, activation='relu'),\n",
        "    Dense(10, activation='sigmoid'),\n",
        "])\n",
        "\n",
        "model_c = Sequential()\n",
        "model_c = model\n",
        "model_c.summary()"
      ],
      "execution_count": null,
      "outputs": [
        {
          "output_type": "stream",
          "text": [
            "Model: \"sequential_20\"\n",
            "_________________________________________________________________\n",
            "Layer (type)                 Output Shape              Param #   \n",
            "=================================================================\n",
            "dense_53 (Dense)             (None, 64)                50240     \n",
            "_________________________________________________________________\n",
            "dense_54 (Dense)             (None, 32)                2080      \n",
            "_________________________________________________________________\n",
            "dense_55 (Dense)             (None, 10)                330       \n",
            "=================================================================\n",
            "Total params: 52,650\n",
            "Trainable params: 52,650\n",
            "Non-trainable params: 0\n",
            "_________________________________________________________________\n"
          ],
          "name": "stdout"
        }
      ]
    },
    {
      "cell_type": "code",
      "metadata": {
        "colab": {
          "base_uri": "https://localhost:8080/",
          "height": 1000
        },
        "id": "jaqCLGg3w_Nl",
        "outputId": "431aa173-239a-46d8-bb29-006ef568d49d"
      },
      "source": [
        "%%time\n",
        "\n",
        "# создаем модель model\n",
        "model = Sequential([\n",
        "    Dense(64, activation='relu', input_shape=(784,)),\n",
        "    Dense(32, activation='relu'),\n",
        "    Dense(10, activation='sigmoid'),\n",
        "])\n",
        "\n",
        "# сохраняем ее веса (это начальная точка) model.save_weights('model.h5')\n",
        "model.save_weights('model_weights.h5')\n",
        "\n",
        "# будем сохранять модели в словарь\n",
        "models = {}\n",
        "\n",
        "\n",
        "plt.figure(figsize=(16, 7))\n",
        "colors = ['g', 'b', 'r', 'y']\n",
        "\n",
        "num_epochs = 5\n",
        "batch_size = 32\n",
        "\n",
        "# вектор для вывода результатов\n",
        "epoch = np.arange(num_epochs+1)\n",
        "\n",
        "# будем изменять оптимизаторы\n",
        "for i, i_optim in enumerate([keras.optimizers.SGD(),\n",
        "                             keras.optimizers.Adagrad(),\n",
        "                             keras.optimizers.RMSprop(),\n",
        "                             keras.optimizers.Adam()]):\n",
        "    \n",
        "    # создаем рабочую модель  model_i, куда будем загружать эти веса (она должна быть идентичной структуры)\n",
        "    model_i = Sequential([\n",
        "        Dense(64, activation='relu', input_shape=(784,)),\n",
        "        Dense(32, activation='relu'),\n",
        "        Dense(10, activation='sigmoid'),\n",
        "    ])\n",
        "    \n",
        "    # загружаем веса model_i.load_weights('model.h5')\n",
        "    model_i.load_weights('model_weights.h5')\n",
        "    \n",
        "    # компилируем model_i с одним из оптимизаторов\n",
        "    model_i.compile(\n",
        "        optimizer=i_optim,\n",
        "        loss='categorical_crossentropy',\n",
        "        metrics=['accuracy'],\n",
        "        )\n",
        "    \n",
        "    # вычисляем ошибку для modeli без обучения\n",
        "    h0_train = model_i.evaluate(X_train, y_train, verbose=0)\n",
        "    h0_val = model_i.evaluate(X_test, y_test, verbose=0)\n",
        "\n",
        "    # проводим обучение модели \n",
        "    h = model_i.fit(X_train, y_train,\n",
        "                    epochs=num_epochs,\n",
        "                    batch_size=batch_size,\n",
        "                    validation_data=(X_test, y_test),\n",
        "                    verbose=1)\n",
        "    \n",
        "    # записываем обученную модель в словарь\n",
        "    models[i_optim.get_config()['name']] = model_i\n",
        "\n",
        "    # картинки\n",
        "    plt.plot(epoch, np.log([h0_train[0]] + h.history['loss']),\n",
        "             '-', c=colors[i],\n",
        "             label=model_i.optimizer.get_config()['name'] + ' train')\n",
        "    plt.plot(epoch, np.log([h0_val[0]] + h.history['val_loss']),\n",
        "             '--', c=colors[i],\n",
        "             label=model_i.optimizer.get_config()['name'] + ' val')\n",
        "\n",
        "plt.legend()\n",
        "plt.title('нейросети от оптимизатора log(loss)')\n",
        "plt.xlabel('epoch')\n",
        "plt.ylabel('log(loss)')\n",
        "plt.show()"
      ],
      "execution_count": null,
      "outputs": [
        {
          "output_type": "stream",
          "text": [
            "Epoch 1/5\n",
            "1875/1875 [==============================] - 3s 2ms/step - loss: 0.6886 - accuracy: 0.8088 - val_loss: 0.3343 - val_accuracy: 0.9024\n",
            "Epoch 2/5\n",
            "1875/1875 [==============================] - 3s 2ms/step - loss: 0.3149 - accuracy: 0.9091 - val_loss: 0.2682 - val_accuracy: 0.9213\n",
            "Epoch 3/5\n",
            "1875/1875 [==============================] - 3s 2ms/step - loss: 0.2623 - accuracy: 0.9230 - val_loss: 0.2343 - val_accuracy: 0.9300\n",
            "Epoch 4/5\n",
            "1875/1875 [==============================] - 3s 2ms/step - loss: 0.2266 - accuracy: 0.9340 - val_loss: 0.2099 - val_accuracy: 0.9374\n",
            "Epoch 5/5\n",
            "1875/1875 [==============================] - 3s 2ms/step - loss: 0.2006 - accuracy: 0.9421 - val_loss: 0.1877 - val_accuracy: 0.9439\n",
            "Epoch 1/5\n",
            "1875/1875 [==============================] - 4s 2ms/step - loss: 1.5030 - accuracy: 0.5769 - val_loss: 0.9334 - val_accuracy: 0.7796\n",
            "Epoch 2/5\n",
            "1875/1875 [==============================] - 3s 2ms/step - loss: 0.7499 - accuracy: 0.8280 - val_loss: 0.6036 - val_accuracy: 0.8603\n",
            "Epoch 3/5\n",
            "1875/1875 [==============================] - 3s 2ms/step - loss: 0.5628 - accuracy: 0.8643 - val_loss: 0.4960 - val_accuracy: 0.8787\n",
            "Epoch 4/5\n",
            "1875/1875 [==============================] - 3s 2ms/step - loss: 0.4861 - accuracy: 0.8781 - val_loss: 0.4418 - val_accuracy: 0.8880\n",
            "Epoch 5/5\n",
            "1875/1875 [==============================] - 3s 2ms/step - loss: 0.4425 - accuracy: 0.8854 - val_loss: 0.4081 - val_accuracy: 0.8930\n",
            "Epoch 1/5\n",
            "1875/1875 [==============================] - 4s 2ms/step - loss: 0.2993 - accuracy: 0.9137 - val_loss: 0.1566 - val_accuracy: 0.9509\n",
            "Epoch 2/5\n",
            "1875/1875 [==============================] - 3s 2ms/step - loss: 0.1433 - accuracy: 0.9576 - val_loss: 0.1321 - val_accuracy: 0.9611\n",
            "Epoch 3/5\n",
            "1875/1875 [==============================] - 3s 2ms/step - loss: 0.1107 - accuracy: 0.9671 - val_loss: 0.1173 - val_accuracy: 0.9665\n",
            "Epoch 4/5\n",
            "1875/1875 [==============================] - 3s 2ms/step - loss: 0.0923 - accuracy: 0.9730 - val_loss: 0.1249 - val_accuracy: 0.9644\n",
            "Epoch 5/5\n",
            "1875/1875 [==============================] - 4s 2ms/step - loss: 0.0811 - accuracy: 0.9765 - val_loss: 0.1273 - val_accuracy: 0.9653\n",
            "Epoch 1/5\n",
            "1875/1875 [==============================] - 4s 2ms/step - loss: 0.3012 - accuracy: 0.9121 - val_loss: 0.1521 - val_accuracy: 0.9535\n",
            "Epoch 2/5\n",
            "1875/1875 [==============================] - 4s 2ms/step - loss: 0.1359 - accuracy: 0.9595 - val_loss: 0.1313 - val_accuracy: 0.9623\n",
            "Epoch 3/5\n",
            "1875/1875 [==============================] - 4s 2ms/step - loss: 0.0993 - accuracy: 0.9699 - val_loss: 0.1015 - val_accuracy: 0.9688\n",
            "Epoch 4/5\n",
            "1875/1875 [==============================] - 3s 2ms/step - loss: 0.0791 - accuracy: 0.9757 - val_loss: 0.1032 - val_accuracy: 0.9686\n",
            "Epoch 5/5\n",
            "1875/1875 [==============================] - 3s 2ms/step - loss: 0.0658 - accuracy: 0.9795 - val_loss: 0.1080 - val_accuracy: 0.9689\n"
          ],
          "name": "stdout"
        },
        {
          "output_type": "display_data",
          "data": {
            "image/png": "[encoded data removed]",
            "text/plain": [
              "<Figure size 1152x504 with 1 Axes>"
            ]
          },
          "metadata": {
            "tags": [],
            "needs_background": "light"
          }
        },
        {
          "output_type": "stream",
          "text": [
            "CPU times: user 1min 32s, sys: 6.56 s, total: 1min 38s\n",
            "Wall time: 1min 19s\n"
          ],
          "name": "stdout"
        }
      ]
    },
    {
      "cell_type": "code",
      "metadata": {
        "colab": {
          "base_uri": "https://localhost:8080/",
          "height": 1000
        },
        "id": "W5S9qdlubn7m",
        "outputId": "f1fde779-0d67-4b6f-f131-be6e2cb8004e"
      },
      "source": [
        "%%time\n",
        "\n",
        "# будем сохранять модели в словарь\n",
        "models = {}\n",
        "\n",
        "plt.figure(figsize=(16, 7))\n",
        "colors = ['g', 'b', 'r', 'y']\n",
        "\n",
        "num_epochs = 5\n",
        "batch_size = 32\n",
        "\n",
        "# вектор для вывода результатов\n",
        "epoch = np.arange(num_epochs+1)\n",
        "\n",
        "# будем изменять оптимизаторы\n",
        "for i, i_optim in enumerate([keras.optimizers.SGD(),\n",
        "                             keras.optimizers.Adagrad(),\n",
        "                             keras.optimizers.RMSprop(),\n",
        "                             keras.optimizers.Adam()]):\n",
        "    \n",
        "    # создаем рабочую модель  model_i с зафиксированными весами\n",
        "    import tensorflow as tf\n",
        "    tf.random.set_seed(1)\n",
        "    \n",
        "    model_i = Sequential([\n",
        "        Dense(64, activation='relu', input_shape=(784,)),\n",
        "        Dense(32, activation='relu'),\n",
        "        Dense(10, activation='sigmoid'),\n",
        "    ])\n",
        "    \n",
        "    # компилируем model_i с одним из оптимизаторов\n",
        "    model_i.compile(\n",
        "        optimizer=i_optim,\n",
        "        loss='categorical_crossentropy',\n",
        "        metrics=['accuracy'],\n",
        "        )\n",
        "    \n",
        "    # вычисляем ошибку для modeli без обучения\n",
        "    h0_train = model_i.evaluate(X_train, y_train, verbose=0)\n",
        "    h0_val = model_i.evaluate(X_test, y_test, verbose=0)\n",
        "\n",
        "    # проводим обучение модели \n",
        "    h = model_i.fit(X_train, y_train,\n",
        "                    epochs=num_epochs,\n",
        "                    batch_size=batch_size,\n",
        "                    validation_data=(X_test, y_test),\n",
        "                    verbose=1)\n",
        "\n",
        "    # записываем обученную модель в словарь\n",
        "    models[i_optim.get_config()['name']] = model_i\n",
        "\n",
        "    # картинки\n",
        "    plt.plot(epoch, np.log([h0_train[0]] + h.history['loss']),\n",
        "             '-', c=colors[i],\n",
        "             label=model_i.optimizer.get_config()['name'] + ' train')\n",
        "    plt.plot(epoch, np.log([h0_val[0]] + h.history['val_loss']),\n",
        "             '--', c=colors[i],\n",
        "             label=model_i.optimizer.get_config()['name'] + ' val')\n",
        "\n",
        "plt.legend()\n",
        "plt.title('нейросети от оптимизатора log(loss)')\n",
        "plt.xlabel('epoch')\n",
        "plt.ylabel('log(loss)')\n",
        "plt.show()"
      ],
      "execution_count": null,
      "outputs": [
        {
          "output_type": "stream",
          "text": [
            "Epoch 1/5\n",
            "1875/1875 [==============================] - 3s 2ms/step - loss: 0.6446 - accuracy: 0.8267 - val_loss: 0.3283 - val_accuracy: 0.9057\n",
            "Epoch 2/5\n",
            "1875/1875 [==============================] - 3s 2ms/step - loss: 0.3009 - accuracy: 0.9132 - val_loss: 0.2590 - val_accuracy: 0.9257\n",
            "Epoch 3/5\n",
            "1875/1875 [==============================] - 3s 2ms/step - loss: 0.2513 - accuracy: 0.9282 - val_loss: 0.2291 - val_accuracy: 0.9340\n",
            "Epoch 4/5\n",
            "1875/1875 [==============================] - 3s 2ms/step - loss: 0.2187 - accuracy: 0.9374 - val_loss: 0.2084 - val_accuracy: 0.9399\n",
            "Epoch 5/5\n",
            "1875/1875 [==============================] - 3s 2ms/step - loss: 0.1941 - accuracy: 0.9448 - val_loss: 0.1863 - val_accuracy: 0.9440\n",
            "Epoch 1/5\n",
            "1875/1875 [==============================] - 4s 2ms/step - loss: 1.3839 - accuracy: 0.6520 - val_loss: 0.8155 - val_accuracy: 0.8265\n",
            "Epoch 2/5\n",
            "1875/1875 [==============================] - 3s 2ms/step - loss: 0.6700 - accuracy: 0.8453 - val_loss: 0.5483 - val_accuracy: 0.8707\n",
            "Epoch 3/5\n",
            "1875/1875 [==============================] - 3s 2ms/step - loss: 0.5169 - accuracy: 0.8705 - val_loss: 0.4602 - val_accuracy: 0.8837\n",
            "Epoch 4/5\n",
            "1875/1875 [==============================] - 3s 2ms/step - loss: 0.4533 - accuracy: 0.8826 - val_loss: 0.4158 - val_accuracy: 0.8919\n",
            "Epoch 5/5\n",
            "1875/1875 [==============================] - 3s 2ms/step - loss: 0.4167 - accuracy: 0.8904 - val_loss: 0.3879 - val_accuracy: 0.8973\n",
            "Epoch 1/5\n",
            "1875/1875 [==============================] - 4s 2ms/step - loss: 0.2846 - accuracy: 0.9180 - val_loss: 0.1549 - val_accuracy: 0.9523\n",
            "Epoch 2/5\n",
            "1875/1875 [==============================] - 3s 2ms/step - loss: 0.1394 - accuracy: 0.9592 - val_loss: 0.1260 - val_accuracy: 0.9641\n",
            "Epoch 3/5\n",
            "1875/1875 [==============================] - 4s 2ms/step - loss: 0.1079 - accuracy: 0.9681 - val_loss: 0.1204 - val_accuracy: 0.9663\n",
            "Epoch 4/5\n",
            "1875/1875 [==============================] - 3s 2ms/step - loss: 0.0892 - accuracy: 0.9743 - val_loss: 0.1156 - val_accuracy: 0.9698\n",
            "Epoch 5/5\n",
            "1875/1875 [==============================] - 4s 2ms/step - loss: 0.0789 - accuracy: 0.9775 - val_loss: 0.1409 - val_accuracy: 0.9625\n",
            "Epoch 1/5\n",
            "1875/1875 [==============================] - 4s 2ms/step - loss: 0.2862 - accuracy: 0.9185 - val_loss: 0.1501 - val_accuracy: 0.9542\n",
            "Epoch 2/5\n",
            "1875/1875 [==============================] - 4s 2ms/step - loss: 0.1304 - accuracy: 0.9613 - val_loss: 0.1242 - val_accuracy: 0.9628\n",
            "Epoch 3/5\n",
            "1875/1875 [==============================] - 3s 2ms/step - loss: 0.0954 - accuracy: 0.9707 - val_loss: 0.0993 - val_accuracy: 0.9703\n",
            "Epoch 4/5\n",
            "1875/1875 [==============================] - 3s 2ms/step - loss: 0.0770 - accuracy: 0.9762 - val_loss: 0.0954 - val_accuracy: 0.9726\n",
            "Epoch 5/5\n",
            "1875/1875 [==============================] - 4s 2ms/step - loss: 0.0621 - accuracy: 0.9806 - val_loss: 0.1115 - val_accuracy: 0.9669\n"
          ],
          "name": "stdout"
        },
        {
          "output_type": "display_data",
          "data": {
            "image/png": "[encoded data removed]",
            "text/plain": [
              "<Figure size 1152x504 with 1 Axes>"
            ]
          },
          "metadata": {
            "tags": [],
            "needs_background": "light"
          }
        },
        {
          "output_type": "stream",
          "text": [
            "CPU times: user 1min 31s, sys: 6.39 s, total: 1min 38s\n",
            "Wall time: 1min 18s\n"
          ],
          "name": "stdout"
        }
      ]
    },
    {
      "cell_type": "code",
      "metadata": {
        "id": "dgbiKEaBdxvX"
      },
      "source": [
        "model_i = models['Adam']"
      ],
      "execution_count": null,
      "outputs": []
    },
    {
      "cell_type": "code",
      "metadata": {
        "colab": {
          "base_uri": "https://localhost:8080/"
        },
        "id": "viS_E5s6z2UU",
        "outputId": "8730d97c-49c3-49af-df07-092348df1d76"
      },
      "source": [
        "model_i.optimizer.get_config()"
      ],
      "execution_count": null,
      "outputs": [
        {
          "output_type": "execute_result",
          "data": {
            "text/plain": [
              "{'amsgrad': False,\n",
              " 'beta_1': 0.9,\n",
              " 'beta_2': 0.999,\n",
              " 'decay': 0.0,\n",
              " 'epsilon': 1e-07,\n",
              " 'learning_rate': 0.001,\n",
              " 'name': 'Adam'}"
            ]
          },
          "metadata": {
            "tags": []
          },
          "execution_count": 96
        }
      ]
    },
    {
      "cell_type": "code",
      "metadata": {
        "colab": {
          "base_uri": "https://localhost:8080/",
          "height": 208
        },
        "id": "wj7fhqd3FKFe",
        "outputId": "b7902b3b-17db-4c6b-b4c0-02c84d9f2faa"
      },
      "source": [
        "N = 5\n",
        "y_pred = model_i.predict(X_test[:N, :])\n",
        "y_pred_class = np.argmax(y_pred, axis=1)\n",
        "plt.figure(figsize=(3 * N, 5))\n",
        "\n",
        "for i in range(N):\n",
        "  plt.subplot(1, N, i+1)\n",
        "  plt.imshow(X_test[i,:].reshape(28, 28))\n",
        "  plt.xlabel(str(y_pred_class[i]))\n",
        "plt.show()  "
      ],
      "execution_count": null,
      "outputs": [
        {
          "output_type": "display_data",
          "data": {
            "image/png": "[encoded data removed]",
            "text/plain": [
              "<Figure size 1080x360 with 5 Axes>"
            ]
          },
          "metadata": {
            "tags": [],
            "needs_background": "light"
          }
        }
      ]
    },
    {
      "cell_type": "code",
      "metadata": {
        "colab": {
          "base_uri": "https://localhost:8080/"
        },
        "id": "Q561c6eaGxcB",
        "outputId": "a316e532-d014-4b01-d2c2-ca88654e8003"
      },
      "source": [
        "y_pred_class"
      ],
      "execution_count": null,
      "outputs": [
        {
          "output_type": "execute_result",
          "data": {
            "text/plain": [
              "array([7, 2, 1, 0, 4])"
            ]
          },
          "metadata": {
            "tags": []
          },
          "execution_count": 40
        }
      ]
    },
    {
      "cell_type": "markdown",
      "metadata": {
        "id": "GbNuvIG1PmZw"
      },
      "source": [
        "## Callbacks"
      ]
    },
    {
      "cell_type": "markdown",
      "metadata": {
        "id": "oYMQ6xrjQX62"
      },
      "source": [
        "Callback (обратные вызовы) – набор функций, применяемых в определенные моменты во время процедуры обучения. Вы можете использовать функции callback чтобы получить информацию о внутреннем состоянии модели в процессе обучения. Нужно передавать список callback’ов (именованным аргументом callbacks) методу .fit() модели. Подходящие методы callback будут вызваны на каждой стадии обучения.\n",
        "\n",
        "Рассмотрим основные callback'и, с остальными можете ознакомиться в [документации](https://ru-keras.com/callbacks/)."
      ]
    },
    {
      "cell_type": "markdown",
      "metadata": {
        "id": "JiZzcPnyVHd6"
      },
      "source": [
        "### ModelCheckpoint\n"
      ]
    },
    {
      "cell_type": "markdown",
      "metadata": {
        "id": "1MvJSJWqQwFy"
      },
      "source": [
        "Сохранение модели после каждой эпохи.\n",
        "\n",
        "Filepath может содержать именованные опции форматирования, заполняемые значениями epoch и ключами в logs (передаваемыми on_epoch_end).\n",
        "\n",
        "К примеру: если filepath назван weights.{epoch:02d}-{val_loss:.2f}.hdf5, тогда модель будет сохраняться с номером эпохи и validation_loss в имени файла.\n",
        "\n",
        "**Аргументы:**\n",
        "\n",
        "— filepath: строка, путь сохранения модели\n",
        "\n",
        "— monitor: параметр для мониторинга\n",
        "\n",
        "— verbose: режим отображения, 0 или 1\n",
        "\n",
        "— save_best_only: если save_best_only=True, если результат текущей эпохи хуже предыдущей, он не будет сохранен.\n",
        "\n",
        "— save_weights_only: если True, тогда будут сохраняться только веса модели (model.save_weights(filepath)), в противном случае будет сохраняться вся модель (model.save(filepath)).\n",
        "\n",
        "— mode: один из {auto, min, max}. Если save_best_only=True, решение о перезаписи текущего файла будет приниматься в зависимости от уменьшения/увеличения параметра мониторинга. Для val_acc, необходим max, для val_loss необходим min. В auto режиме, mode выбирается в зависимости от имени monitor.\n",
        "\n",
        "— period: Интервал (число эпох) между сохранениями."
      ]
    },
    {
      "cell_type": "code",
      "metadata": {
        "id": "mvE9-jJQPpJS",
        "colab": {
          "base_uri": "https://localhost:8080/"
        },
        "outputId": "573b9808-423c-4d82-b1fd-556ec17cda22"
      },
      "source": [
        "from keras.callbacks import ModelCheckpoint\n",
        "\n",
        "model_checkpoint = ModelCheckpoint(filepath='model_best_{epoch}_{val_loss:.2f}',\n",
        "                                   monitor='val_loss',\n",
        "                                   verbose=1,\n",
        "                                   save_best_only=False,\n",
        "                                   save_weights_only=False,\n",
        "                                   mode='auto',\n",
        "                                   period=1) \n",
        "\n",
        "model.compile(optimizer=keras.optimizers.Adam(learning_rate=0.001),\n",
        "              loss='categorical_crossentropy',\n",
        "              metrics=['accuracy'])\n",
        "\n",
        "model.fit(X_train, y_train,\n",
        "          epochs=num_epochs,\n",
        "          batch_size=batch_size,\n",
        "          validation_data=(X_test, y_test),\n",
        "          verbose=1,\n",
        "          callbacks=[model_checkpoint])"
      ],
      "execution_count": null,
      "outputs": [
        {
          "output_type": "stream",
          "text": [
            "WARNING:tensorflow:`period` argument is deprecated. Please use `save_freq` to specify the frequency in number of batches seen.\n",
            "Epoch 1/5\n",
            "1875/1875 [==============================] - 4s 2ms/step - loss: 0.0531 - accuracy: 0.9827 - val_loss: 0.0806 - val_accuracy: 0.9748\n",
            "\n",
            "Epoch 00001: saving model to model_best_1_0.08\n",
            "INFO:tensorflow:Assets written to: model_best_1_0.08/assets\n",
            "Epoch 2/5\n",
            "1875/1875 [==============================] - 3s 2ms/step - loss: 0.0479 - accuracy: 0.9848 - val_loss: 0.0933 - val_accuracy: 0.9728\n",
            "\n",
            "Epoch 00002: saving model to model_best_2_0.09\n",
            "INFO:tensorflow:Assets written to: model_best_2_0.09/assets\n",
            "Epoch 3/5\n",
            "1875/1875 [==============================] - 3s 2ms/step - loss: 0.0385 - accuracy: 0.9869 - val_loss: 0.0922 - val_accuracy: 0.9745\n",
            "\n",
            "Epoch 00003: saving model to model_best_3_0.09\n",
            "INFO:tensorflow:Assets written to: model_best_3_0.09/assets\n",
            "Epoch 4/5\n",
            "1875/1875 [==============================] - 3s 2ms/step - loss: 0.0318 - accuracy: 0.9899 - val_loss: 0.0936 - val_accuracy: 0.9743\n",
            "\n",
            "Epoch 00004: saving model to model_best_4_0.09\n",
            "INFO:tensorflow:Assets written to: model_best_4_0.09/assets\n",
            "Epoch 5/5\n",
            "1875/1875 [==============================] - 3s 2ms/step - loss: 0.0280 - accuracy: 0.9912 - val_loss: 0.1106 - val_accuracy: 0.9707\n",
            "\n",
            "Epoch 00005: saving model to model_best_5_0.11\n",
            "INFO:tensorflow:Assets written to: model_best_5_0.11/assets\n"
          ],
          "name": "stdout"
        },
        {
          "output_type": "execute_result",
          "data": {
            "text/plain": [
              "<tensorflow.python.keras.callbacks.History at 0x7f4fb44a0550>"
            ]
          },
          "metadata": {
            "tags": []
          },
          "execution_count": 98
        }
      ]
    },
    {
      "cell_type": "markdown",
      "metadata": {
        "id": "6w0-iQxhQyPo"
      },
      "source": [
        "### EarlyStopping\n"
      ]
    },
    {
      "cell_type": "markdown",
      "metadata": {
        "id": "0EEE6-F0SRJM"
      },
      "source": [
        "Прекращение обучения, когда параметр monitor перестает улучшаться.\n",
        "\n",
        "**Аргументы**\n",
        "\n",
        "— monitor: параметр для мониторинга\n",
        "\n",
        "— min_delta: минимальное значение изменения величины monitor, расцениваемое как улучшение, то есть, если абсолютное изменение меньше min_delta, то улучшение не засчитывается\n",
        "\n",
        "— patience: число эпох, за которые величина monitor не улучшается, после которых обучение будет остановлено. Проверочные величины могут производиться не после каждой эпохи если validation_freq (model.fit(validation_freq=5)) больше единицы.\n",
        "\n",
        "— verbose: режим отображения, 0 или 1.\n",
        "\n",
        "— mode: один из {auto, min, max}. В режиме min, обучение остановится когда величина monitor перестанет уменьшаться; в режиме max, обучение остановится когда величина monitor перестанет увеличиваться; в режиме auto, mode выбирается в зависимости от имени monitor.\n",
        "\n",
        "— baseline: значение, которое должна достичь величина monitor. Обучение прекратится, если модель не достигла baseline.\n",
        "\n",
        "— restore_best_weights: восстанавливать ли веса модели с эпохи с лучшем значением параметра monitor. Если False, веса модели будут загружены из последней шага обучения."
      ]
    },
    {
      "cell_type": "code",
      "metadata": {
        "id": "lbEB2k-zSNl8",
        "colab": {
          "base_uri": "https://localhost:8080/"
        },
        "outputId": "30cbdadf-8977-4c2f-a43a-21eda17fb2d6"
      },
      "source": [
        "from keras.callbacks import EarlyStopping\n",
        "\n",
        "early_stop = EarlyStopping(monitor='val_loss',\n",
        "                           min_delta=0,\n",
        "                           patience=1,\n",
        "                           verbose=1,\n",
        "                           mode='auto',\n",
        "                           baseline=None,\n",
        "                           restore_best_weights=False)\n",
        "\n",
        "\n",
        "model.fit(X_train, y_train,\n",
        "          epochs=num_epochs,\n",
        "          batch_size=batch_size,\n",
        "          validation_data=(X_test, y_test),\n",
        "          verbose=1,\n",
        "          callbacks=[early_stop])"
      ],
      "execution_count": null,
      "outputs": [
        {
          "output_type": "stream",
          "text": [
            "Epoch 1/5\n",
            "1875/1875 [==============================] - 3s 2ms/step - loss: 0.0186 - accuracy: 0.9940 - val_loss: 0.1146 - val_accuracy: 0.9749\n",
            "Epoch 2/5\n",
            "1875/1875 [==============================] - 3s 2ms/step - loss: 0.0171 - accuracy: 0.9945 - val_loss: 0.1248 - val_accuracy: 0.9742\n",
            "Epoch 00002: early stopping\n"
          ],
          "name": "stdout"
        },
        {
          "output_type": "execute_result",
          "data": {
            "text/plain": [
              "<tensorflow.python.keras.callbacks.History at 0x7f4fb5816f50>"
            ]
          },
          "metadata": {
            "tags": []
          },
          "execution_count": 100
        }
      ]
    },
    {
      "cell_type": "markdown",
      "metadata": {
        "id": "mO3P_Dg9Tytp"
      },
      "source": [
        "### ReduceLROnPlateau"
      ]
    },
    {
      "cell_type": "markdown",
      "metadata": {
        "id": "43m3Tyw2TyiI"
      },
      "source": [
        "Уменьшение скорости обучения, когда метрика перестала улучшаться.\n",
        "\n",
        "Модели зачастую работают лучше если уменьшать скорость обучения. Этот callback следит за параметром monitor и, если не происходит улучшения за patience эпох, уменьшает скорость обучения.\n",
        "\n",
        "\n",
        "**Аргументы**\n",
        "\n",
        "— monitor:  параметр для мониторинга\n",
        "\n",
        "— factor: коэффициент уменьшения скорости обучения. new_lr = lr * factor\n",
        "\n",
        "— patience: число эпох, за которые величина monitor не улучшается, после которых обучение будет остановлено. Проверочные величины могут производиться не после каждой эпохи если validation_freq (model.fit(validation_freq=5)) больше единицы.\n",
        "\n",
        "— verbose: int. 0: «тихий» режим, 1: выводить сообщения\n",
        "\n",
        "— mode: один из {auto, min, max}. В режиме min, скорость обучения уменьшится когда величина monitor перестанет уменьшаться; в режиме max, скорость обучения уменьшится когда величина monitor перестанет увеличиваться; в режиме auto, mode выбирается в зависимости от имени monitor.\n",
        "\n",
        "— min_delta: минимальное значение изменения величины monitor, расцениваемое как улучшение, то есть, если абсолютное изменение меньше min_delta, то улучшение не засчитывается\n",
        "\n",
        "— cooldown: число эпох после уменьшения скорости обучения, которые должны пройти, прежде чем стандартный процесс уменьшения возобновится.\n",
        "\n",
        "— min_lr: нижняя граница скорости обучения"
      ]
    },
    {
      "cell_type": "code",
      "metadata": {
        "id": "F0RUMg1mT6Y_",
        "colab": {
          "base_uri": "https://localhost:8080/"
        },
        "outputId": "fb264961-b267-4a83-c25e-14961b757d3e"
      },
      "source": [
        "from keras.callbacks import ReduceLROnPlateau\n",
        "\n",
        "reduce_lr = ReduceLROnPlateau(monitor='val_accuracy',\n",
        "                              factor=0.1,\n",
        "                              patience=0,\n",
        "                              verbose=1,\n",
        "                              mode='auto',\n",
        "                              min_delta=0.0001,\n",
        "                              cooldown=0,\n",
        "                              min_lr=1e-10) \n",
        "\n",
        "model.fit(X_train, y_train,\n",
        "          epochs=num_epochs,\n",
        "          batch_size=batch_size,\n",
        "          validation_data=(X_test, y_test),\n",
        "          verbose=1,\n",
        "          callbacks=[reduce_lr])"
      ],
      "execution_count": null,
      "outputs": [
        {
          "output_type": "stream",
          "text": [
            "Epoch 1/5\n",
            "1875/1875 [==============================] - 3s 2ms/step - loss: 0.0151 - accuracy: 0.9947 - val_loss: 0.1199 - val_accuracy: 0.9743\n",
            "Epoch 2/5\n",
            "1875/1875 [==============================] - 3s 2ms/step - loss: 0.0146 - accuracy: 0.9950 - val_loss: 0.1253 - val_accuracy: 0.9739\n",
            "\n",
            "Epoch 00002: ReduceLROnPlateau reducing learning rate to 0.00010000000474974513.\n",
            "Epoch 3/5\n",
            "1875/1875 [==============================] - 3s 2ms/step - loss: 0.0057 - accuracy: 0.9984 - val_loss: 0.1051 - val_accuracy: 0.9776\n",
            "Epoch 4/5\n",
            "1875/1875 [==============================] - 3s 2ms/step - loss: 0.0029 - accuracy: 0.9995 - val_loss: 0.1058 - val_accuracy: 0.9781\n",
            "Epoch 5/5\n",
            "1875/1875 [==============================] - 3s 2ms/step - loss: 0.0021 - accuracy: 0.9998 - val_loss: 0.1053 - val_accuracy: 0.9781\n",
            "\n",
            "Epoch 00005: ReduceLROnPlateau reducing learning rate to 1.0000000474974514e-05.\n"
          ],
          "name": "stdout"
        },
        {
          "output_type": "execute_result",
          "data": {
            "text/plain": [
              "<tensorflow.python.keras.callbacks.History at 0x7f4fb4cae810>"
            ]
          },
          "metadata": {
            "tags": []
          },
          "execution_count": 101
        }
      ]
    },
    {
      "cell_type": "markdown",
      "metadata": {
        "id": "NRSQbmXD9U98"
      },
      "source": [
        "## Домашнее задание <a class='anchor' id='hw'>\n",
        "\n",
        "Используем набор примеров fashion-MNIST\n",
        "1. Опишите - какой результат нейросети получен в зависимости от:\n",
        "  - числа нейронов в слое (для 2-х слойной сети), \n",
        "  - числа слоев (2, 3, 5, 10) при близких размерах сети (близкое число тренируемых параметров).\n",
        "  - фиксируйте для тренировочного и тестового набора метрики accuracy.\n",
        "2.  Проверьте работу разных оптимизаторов (SGD, Adam, RMSProp) для одной из моделей п.1. Фиксируйте для тренировочного и тестового набора метрики accuracy.\n",
        "\n",
        "3. Сделайте вывод - что помогло вам улучшить качество классификации в нейросети на тестовом наборе? \n",
        "\n",
        "4. Для одного варианта сети сформируйте матрицу ошибок по классам. Оцените качество модели по каждому классу отдельно (полнота, точность)."
      ]
    },
    {
      "cell_type": "markdown",
      "metadata": {
        "id": "m2wW13WB9U99"
      },
      "source": [
        "## Дополнительные материалы\n",
        "\n",
        "\n",
        "1. [Документация Keras](https://keras.io/about/)\n",
        "2. [Документация Keras на русском](https://ru-keras.com/home/)\n",
        "3. [Топ-10 фреймворков для ИИ](https://vc.ru/ml/80391-top-10-freymvorkov-dlya-iskusstvennogo-intellekta-chast-pervaya)\n",
        "4. [Deep Learning-All Optimizers In One Video](https://www.youtube.com/watch?v=TudQZtgpoHk)"
      ]
    },
    {
      "cell_type": "markdown",
      "metadata": {
        "id": "v6h1K5ET9U9_"
      },
      "source": [
        "## Используемая литература \n",
        "\n",
        "Для подготовки данного методического пособия были использованы следующие ресурсы:\n",
        "<ol>\n",
        "    <li>https://keras.io/</li>\n",
        "    <li>Шакла Н. — Машинное обучение и TensorFlow 2019</li>\n",
        "    <li>Википедия</li>\n",
        "    \n",
        "</ol>"
      ]
    },
    {
      "cell_type": "markdown",
      "metadata": {
        "id": "v7megjGzaLge"
      },
      "source": [
        "## Определения\n",
        "\n",
        "**Keras** — открытая нейросетевая библиотека, написанная на языке Python. Она представляет собой надстройку над фреймворками Deeplearning4j, TensorFlow и Theano.\n",
        "\n",
        "\n",
        "**Порядок работы с нейронной сетью**:\n",
        "1. Подготовка данных (нормализация)\n",
        "2. Создание архитектуры модели\n",
        "3. Компиляция модели\n",
        "    - выбор функции потерь\n",
        "    - выбор метрики качества\n",
        "    - выбор оптимизатора\n",
        "4. Обучение модели\n",
        "5. Оценка её качества\n",
        "\n",
        "___________\n",
        "\n",
        "**Callback (обратные вызовы)** – набор функций, применяемых в определенные моменты во время процедуры обучения.\n"
      ]
    }
  ]
}