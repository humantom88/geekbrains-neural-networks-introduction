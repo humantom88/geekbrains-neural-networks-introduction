{
 "metadata": {
  "language_info": {
   "codemirror_mode": {
    "name": "ipython",
    "version": 3
   },
   "file_extension": ".py",
   "mimetype": "text/x-python",
   "name": "python",
   "nbconvert_exporter": "python",
   "pygments_lexer": "ipython3",
   "version": "3.9.4"
  },
  "orig_nbformat": 2,
  "kernelspec": {
   "name": "python394jvsc74a57bd063fd5069d213b44bf678585dea6b12cceca9941eaf7f819626cde1f2670de90d",
   "display_name": "Python 3.9.4 64-bit"
  }
 },
 "nbformat": 4,
 "nbformat_minor": 2,
 "cells": [
  {
   "source": [
    "# Практическое задание к уроку \"Сверточные нейронные сети\""
   ],
   "cell_type": "markdown",
   "metadata": {}
  },
  {
   "source": [
    "1. Обучить рукописную сверточную нейронную сеть (с падением размера ядра свертки и последовательностью блоков свертка-пулинг (conv-pool)-(conv-pool)-...) на датасете cifar-10\n"
   ],
   "cell_type": "markdown",
   "metadata": {}
  },
  {
   "cell_type": "code",
   "execution_count": 1,
   "metadata": {},
   "outputs": [
    {
     "output_type": "stream",
     "name": "stdout",
     "text": [
      "INFO:tensorflow:Enabling eager execution\n",
      "INFO:tensorflow:Enabling v2 tensorshape\n",
      "INFO:tensorflow:Enabling resource variables\n",
      "INFO:tensorflow:Enabling tensor equality\n",
      "INFO:tensorflow:Enabling control flow v2\n"
     ]
    }
   ],
   "source": [
    "from tensorflow.keras.datasets import cifar10\n",
    "from tensorflow.keras.preprocessing.image import ImageDataGenerator\n",
    "from tensorflow.keras.utils import to_categorical\n",
    "from tensorflow.keras.models import Sequential\n",
    "from tensorflow.keras.layers import Dense, Dropout, Activation, Flatten\n",
    "from tensorflow.keras.layers import Conv2D, MaxPooling2D\n",
    "import os"
   ]
  },
  {
   "cell_type": "code",
   "execution_count": 2,
   "metadata": {},
   "outputs": [],
   "source": [
    "classes = ['самолет', 'автомобиль', 'птица', 'кот', 'олень', 'собака', 'лягушка', 'лошадь', 'корабль', 'грузовик']"
   ]
  },
  {
   "cell_type": "code",
   "execution_count": 3,
   "metadata": {},
   "outputs": [
    {
     "output_type": "stream",
     "name": "stdout",
     "text": [
      "X_train shape: (50000, 32, 32, 3)\n50000 тренировочные примеры\n10000 тестовые примеры\n"
     ]
    }
   ],
   "source": [
    "# установка параметров нейросети\n",
    "batch_size = 512\n",
    "num_classes = 10\n",
    "epochs = 5\n",
    "data_augmentation = False\n",
    "num_predictions = 20\n",
    "save_dir = os.path.join(os.getcwd(), 'saved_models')\n",
    "model_name = 'keras_cifar10_trained_model.h5'\n",
    "\n",
    "# разделение тренировочной и тестовой выборки\n",
    "(X_train, y_train), (X_test, y_test) = cifar10.load_data()\n",
    "print('X_train shape:', X_train.shape)\n",
    "print(X_train.shape[0], 'тренировочные примеры')\n",
    "print(X_test.shape[0], 'тестовые примеры')\n",
    "\n",
    "# преобразование матрицы чисел 0-9 в бинарную матрицу чисел 0-1\n",
    "y_train = to_categorical(y_train, num_classes)\n",
    "y_test = to_categorical(y_test, num_classes)\n",
    "\n",
    "\n",
    "X_train = X_train / 255.0\n",
    "X_test = X_test / 255.0"
   ]
  },
  {
   "cell_type": "code",
   "execution_count": 22,
   "metadata": {},
   "outputs": [
    {
     "output_type": "stream",
     "name": "stdout",
     "text": [
      "Model: \"sequential_13\"\n_________________________________________________________________\nLayer (type)                 Output Shape              Param #   \n=================================================================\nconv2d_55 (Conv2D)           (None, 32, 32, 16)        448       \n_________________________________________________________________\nmax_pooling2d_52 (MaxPooling (None, 16, 16, 16)        0         \n_________________________________________________________________\nconv2d_56 (Conv2D)           (None, 16, 16, 32)        4640      \n_________________________________________________________________\nmax_pooling2d_53 (MaxPooling (None, 8, 8, 32)          0         \n_________________________________________________________________\nconv2d_57 (Conv2D)           (None, 8, 8, 64)          18496     \n_________________________________________________________________\nmax_pooling2d_54 (MaxPooling (None, 4, 4, 64)          0         \n_________________________________________________________________\nconv2d_58 (Conv2D)           (None, 2, 2, 128)         73856     \n_________________________________________________________________\nmax_pooling2d_55 (MaxPooling (None, 1, 1, 128)         0         \n_________________________________________________________________\nflatten_10 (Flatten)         (None, 128)               0         \n_________________________________________________________________\ndense_23 (Dense)             (None, 512)               66048     \n_________________________________________________________________\nactivation_23 (Activation)   (None, 512)               0         \n_________________________________________________________________\ndense_24 (Dense)             (None, 256)               131328    \n_________________________________________________________________\nactivation_24 (Activation)   (None, 256)               0         \n_________________________________________________________________\ndense_25 (Dense)             (None, 128)               32896     \n_________________________________________________________________\nactivation_25 (Activation)   (None, 128)               0         \n_________________________________________________________________\ndense_26 (Dense)             (None, 64)                8256      \n_________________________________________________________________\nactivation_26 (Activation)   (None, 64)                0         \n_________________________________________________________________\ndense_27 (Dense)             (None, 10)                650       \n_________________________________________________________________\nactivation_27 (Activation)   (None, 10)                0         \n=================================================================\nTotal params: 336,618\nTrainable params: 336,618\nNon-trainable params: 0\n_________________________________________________________________\n"
     ]
    }
   ],
   "source": [
    "from tensorflow.keras.losses import categorical_crossentropy\n",
    "\n",
    "# конфигурирование слоев нейросети\n",
    "model = Sequential()\n",
    "\n",
    "# слои нейросети отвественные за свертку и max-pooling\n",
    "model.add(Conv2D(16, (3, 3), padding='same', input_shape=X_train.shape[1:]))\n",
    "model.add(MaxPooling2D(pool_size=(2, 2)))\n",
    "model.add(Conv2D(32, (3, 3), padding='same'))\n",
    "model.add(MaxPooling2D(pool_size=(2, 2)))\n",
    "model.add(Conv2D(64, (3, 3), padding='same'))\n",
    "model.add(MaxPooling2D(pool_size=(2, 2)))\n",
    "model.add(Conv2D(128, (3, 3)))\n",
    "model.add(MaxPooling2D(pool_size=(2, 2)))\n",
    "\n",
    "# полносвязные слои нейронной сети\n",
    "model.add(Flatten())\n",
    "model.add(Dense(512))\n",
    "model.add(Activation('relu'))\n",
    "model.add(Dense(256))\n",
    "model.add(Activation('relu'))\n",
    "model.add(Dense(128))\n",
    "model.add(Activation('relu'))\n",
    "model.add(Dense(64))\n",
    "model.add(Activation('relu'))\n",
    "# model.add(Dropout(0.5))\n",
    "model.add(Dense(num_classes))\n",
    "model.add(Activation('softmax'))\n",
    "\n",
    "model.summary()\n",
    "\n",
    "# компиляция модели\n",
    "model.compile(loss=categorical_crossentropy,\n",
    "              optimizer='SGD',\n",
    "              metrics=[\"accuracy\"])"
   ]
  },
  {
   "cell_type": "code",
   "execution_count": 23,
   "metadata": {},
   "outputs": [
    {
     "output_type": "stream",
     "name": "stdout",
     "text": [
      "Epoch 1/2\n",
      "391/391 [==============================] - 32s 81ms/step - loss: 2.2804 - accuracy: 0.1472 - val_loss: 2.1027 - val_accuracy: 0.2246\n",
      "Epoch 2/2\n",
      "391/391 [==============================] - 31s 80ms/step - loss: 2.0720 - accuracy: 0.2278 - val_loss: 1.9575 - val_accuracy: 0.2953\n",
      "313/313 [==============================] - 2s 6ms/step - loss: 1.9575 - accuracy: 0.2953\n",
      "Test loss 1.9575, accuracy 0.30%\n"
     ]
    }
   ],
   "source": [
    "# Обучаем модель\n",
    "hist = model.fit(X_train, y_train,\n",
    "                 epochs=2,\n",
    "                 batch_size=128,\n",
    "                 validation_data=(X_test, y_test),\n",
    "                 verbose=1)\n",
    "\n",
    "test_loss, test_metric = model.evaluate(X_test, y_test)\n",
    "print(f\"Test loss {test_loss:.4f}, accuracy {test_metric:.2f}%\")"
   ]
  },
  {
   "source": [
    "2. Оценить рост точности при увеличении ширины сети (больше фильтров)\n",
    "3. оценить рост точности при увеличении глубины сети (больше слоев)"
   ],
   "cell_type": "markdown",
   "metadata": {}
  },
  {
   "cell_type": "code",
   "execution_count": 24,
   "metadata": {},
   "outputs": [],
   "source": [
    "import pandas as pd\n",
    "\n",
    "filters = [2, 3, 4, 4, 4, 4]\n",
    "layers = [1, 1, 1, 2, 3, 4]\n",
    "accuracy = [0.39, 0.39, 0.33, 0.33, 0.33, 0.2953]\n",
    "losses = [1.6886, 1.7335, 1.8504, 1.8717, 1.8732, 1.9575]\n",
    "results = {'filters': filters, 'layers': layers, 'accuracy': accuracy, 'loss': losses}\n",
    "\n",
    "df = pd.DataFrame(data=results)"
   ]
  },
  {
   "source": [
    "Результаты исследования в таблице"
   ],
   "cell_type": "markdown",
   "metadata": {}
  },
  {
   "cell_type": "code",
   "execution_count": 25,
   "metadata": {},
   "outputs": [
    {
     "output_type": "execute_result",
     "data": {
      "text/plain": [
       "   filters  layers  accuracy    loss\n",
       "0        2       1    0.3900  1.6886\n",
       "1        3       1    0.3900  1.7335\n",
       "2        4       1    0.3300  1.8504\n",
       "3        4       2    0.3300  1.8717\n",
       "4        4       3    0.3300  1.8732\n",
       "5        4       4    0.2953  1.9575"
      ],
      "text/html": "<div>\n<style scoped>\n    .dataframe tbody tr th:only-of-type {\n        vertical-align: middle;\n    }\n\n    .dataframe tbody tr th {\n        vertical-align: top;\n    }\n\n    .dataframe thead th {\n        text-align: right;\n    }\n</style>\n<table border=\"1\" class=\"dataframe\">\n  <thead>\n    <tr style=\"text-align: right;\">\n      <th></th>\n      <th>filters</th>\n      <th>layers</th>\n      <th>accuracy</th>\n      <th>loss</th>\n    </tr>\n  </thead>\n  <tbody>\n    <tr>\n      <th>0</th>\n      <td>2</td>\n      <td>1</td>\n      <td>0.3900</td>\n      <td>1.6886</td>\n    </tr>\n    <tr>\n      <th>1</th>\n      <td>3</td>\n      <td>1</td>\n      <td>0.3900</td>\n      <td>1.7335</td>\n    </tr>\n    <tr>\n      <th>2</th>\n      <td>4</td>\n      <td>1</td>\n      <td>0.3300</td>\n      <td>1.8504</td>\n    </tr>\n    <tr>\n      <th>3</th>\n      <td>4</td>\n      <td>2</td>\n      <td>0.3300</td>\n      <td>1.8717</td>\n    </tr>\n    <tr>\n      <th>4</th>\n      <td>4</td>\n      <td>3</td>\n      <td>0.3300</td>\n      <td>1.8732</td>\n    </tr>\n    <tr>\n      <th>5</th>\n      <td>4</td>\n      <td>4</td>\n      <td>0.2953</td>\n      <td>1.9575</td>\n    </tr>\n  </tbody>\n</table>\n</div>"
     },
     "metadata": {},
     "execution_count": 25
    }
   ],
   "source": [
    "df"
   ]
  },
  {
   "source": [
    "В моем исследовании сначала увеличивалось количество фильтров Conv2D-MaxPooling с 2 до 4:  \n",
    "в результате наблюдалось падение метрики accuracy и увеличение потерь  \n",
    "\n",
    "Далее увеличивалось количество полносвязных слоев Dense с 1 до 4:  \n",
    "Так же, как и с количеством фильтров наблюдалось ухудшение метрики accuracy и увеличение потерь"
   ],
   "cell_type": "markdown",
   "metadata": {}
  },
  {
   "source": [],
   "cell_type": "markdown",
   "metadata": {}
  },
  {
   "source": [],
   "cell_type": "markdown",
   "metadata": {}
  }
 ]
}