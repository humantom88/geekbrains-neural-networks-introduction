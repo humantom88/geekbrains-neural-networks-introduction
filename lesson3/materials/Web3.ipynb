{
  "nbformat": 4,
  "nbformat_minor": 0,
  "metadata": {
    "colab": {
      "name": "Web3.ipynb",
      "provenance": [],
      "collapsed_sections": [],
      "toc_visible": true
    },
    "kernelspec": {
      "display_name": "Python 3",
      "language": "python",
      "name": "python3"
    },
    "language_info": {
      "codemirror_mode": {
        "name": "ipython",
        "version": 3
      },
      "file_extension": ".py",
      "mimetype": "text/x-python",
      "name": "python",
      "nbconvert_exporter": "python",
      "pygments_lexer": "ipython3",
      "version": "3.7.6"
    },
    "accelerator": "GPU"
  },
  "cells": [
    {
      "cell_type": "markdown",
      "metadata": {
        "id": "j9uRd98UFzPL"
      },
      "source": [
        "# Введение в искусственные нейронные сети\n",
        "# Урок 3. TensorFlow"
      ]
    },
    {
      "cell_type": "markdown",
      "metadata": {
        "id": "k3iOZn2wFzPQ"
      },
      "source": [
        "## Содержание методического пособия:\n",
        "\n",
        "\n",
        "<ol>\n",
        "<li>Что такое TensorFlow</li>\n",
        "<li>Основы синтаксиса TensorFlow</li>\n",
        "<li>Пример нейросети на TensorFlow</li>\n",
        "</ol>"
      ]
    },
    {
      "cell_type": "markdown",
      "metadata": {
        "id": "Sx3Su3u6FzPS"
      },
      "source": [
        "## Что такое TensorFlow\n",
        "\n",
        "TensorFlow - это фреймворк для создания ML моделей. TensorFlow предназначен в первую очередь для Deep Learning, т.е. создания современных нейросетей. Однако в TensorFlow также есть поддержка некоторых классических ML алгоритмов: K-means clustering, Random Forests, Support Vector Machines, Gaussian Mixture Model clustering, Linear/logistic regression.\n",
        "\n",
        "TensorFlow выпустила компания Google в 2015. TensorFlow - это opensource проект. На данный момент это один из основных инструментов для создания нейросетей в рабочих целях. TensorFlow позволяет создавать нейронные сети как для кластеров из большого количества вычислительных устройств, так и для устройств с относительно небольшой вычислитей мощностью, таких как смартфоны и одноплатные компьютеры.\n",
        "\n",
        "TensorFlow применяется самой компанией Google для ее поиска, почты, переводчика, распознования голоса, внутренних нужд наподобие мониторинга оборудования. TensorFlow используется различными компаниями для различных проектов, связанных с компьютерным зрением, решением задач ранжирования и т.д.\n",
        "\n",
        "\n",
        "<img src=\"https://drive.google.com/uc?export=view&id=1YSzD1P42f8aEjE7V6bKcu3kc2oLsOFaY\" width=600px />"
      ]
    },
    {
      "cell_type": "markdown",
      "metadata": {
        "id": "mBqyxNwdFzPU"
      },
      "source": [
        "## Основы синтаксиса TensorFlow\n",
        "\n",
        "Процесс создания нейросети на TensorFlow схож с разобранным нами процессом обучения нейросети на Keras. Отличее здесь в том, что здесь нам нужно прописать больше деталей в коде. \n",
        "\n",
        "Особенностью TensorFlow версии 1 является то, что сначала необходимо декларировать переменные и вычисления, которые будут совершены над ними, а потом уже непосредственно запускать работу над данными.\n",
        "Tf версии 1 менее дружественный к разработчикам."
      ]
    },
    {
      "cell_type": "markdown",
      "metadata": {
        "id": "NTDIFFhhFzPW"
      },
      "source": [
        "Давайте рассмотрим базовые вещи в синтаксисе Tensorflow 2."
      ]
    },
    {
      "cell_type": "markdown",
      "metadata": {
        "id": "BuAYrRxLFzPY"
      },
      "source": [
        "Выведем строку Hello world, а также версию tensorflow"
      ]
    },
    {
      "cell_type": "code",
      "metadata": {
        "id": "A4Hcl_IoHv7n"
      },
      "source": [
        "#!pip install tensorflow"
      ],
      "execution_count": null,
      "outputs": []
    },
    {
      "cell_type": "code",
      "metadata": {
        "id": "75BVCTdbFzPa",
        "colab": {
          "base_uri": "https://localhost:8080/"
        },
        "outputId": "f9de6494-bf4b-4a62-9d7a-eb6a9ae8e5be"
      },
      "source": [
        "import tensorflow as tf\n",
        "import numpy as np\n",
        "\n",
        "print(tf.__version__)"
      ],
      "execution_count": null,
      "outputs": [
        {
          "output_type": "stream",
          "text": [
            "2.4.1\n"
          ],
          "name": "stdout"
        }
      ]
    },
    {
      "cell_type": "code",
      "metadata": {
        "id": "CGsyoNWj6oZj",
        "colab": {
          "base_uri": "https://localhost:8080/"
        },
        "outputId": "d13c7c99-f1d1-4ede-ca70-f66b7785ba13"
      },
      "source": [
        "tf.config.list_physical_devices('GPU')"
      ],
      "execution_count": null,
      "outputs": [
        {
          "output_type": "execute_result",
          "data": {
            "text/plain": [
              "[PhysicalDevice(name='/physical_device:GPU:0', device_type='GPU')]"
            ]
          },
          "metadata": {
            "tags": []
          },
          "execution_count": 3
        }
      ]
    },
    {
      "cell_type": "code",
      "metadata": {
        "colab": {
          "base_uri": "https://localhost:8080/"
        },
        "id": "5JL0-iQ4lbIM",
        "outputId": "609af7ec-f999-485d-981f-79718ab2fd4f"
      },
      "source": [
        "!nvidia-smi"
      ],
      "execution_count": null,
      "outputs": [
        {
          "output_type": "stream",
          "text": [
            "Sun Apr 18 17:05:23 2021       \n",
            "+-----------------------------------------------------------------------------+\n",
            "| NVIDIA-SMI 460.67       Driver Version: 460.32.03    CUDA Version: 11.2     |\n",
            "|-------------------------------+----------------------+----------------------+\n",
            "| GPU  Name        Persistence-M| Bus-Id        Disp.A | Volatile Uncorr. ECC |\n",
            "| Fan  Temp  Perf  Pwr:Usage/Cap|         Memory-Usage | GPU-Util  Compute M. |\n",
            "|                               |                      |               MIG M. |\n",
            "|===============================+======================+======================|\n",
            "|   0  Tesla P100-PCIE...  Off  | 00000000:00:04.0 Off |                    0 |\n",
            "| N/A   34C    P0    27W / 250W |      2MiB / 16280MiB |      0%      Default |\n",
            "|                               |                      |                  N/A |\n",
            "+-------------------------------+----------------------+----------------------+\n",
            "                                                                               \n",
            "+-----------------------------------------------------------------------------+\n",
            "| Processes:                                                                  |\n",
            "|  GPU   GI   CI        PID   Type   Process name                  GPU Memory |\n",
            "|        ID   ID                                                   Usage      |\n",
            "|=============================================================================|\n",
            "|  No running processes found                                                 |\n",
            "+-----------------------------------------------------------------------------+\n"
          ],
          "name": "stdout"
        }
      ]
    },
    {
      "cell_type": "markdown",
      "metadata": {
        "id": "JZzcooQUe83I"
      },
      "source": [
        "\n",
        "Название TensorFlow означает поток тензоров. Тензоры - это массивы. Данные в компьютере представлены часто в виде массивах и работа с этими массивами подразумевает их преобразования. Преобразования осуществляются через, к примеру, математические операции. Работа TensorFlow складывается из цепочки преобразований тензоров, т.е. данных. Сами операции осуществляющие преобразование данных представлены в TensorFlow в виде графов.\n",
        "\n",
        "<img src='https://drive.google.com/uc?export=view&id=1pDiSoBIL8IBpIFq3R4OKGRW3YseBRvFm'>\n",
        "\n",
        "\n",
        "Визуализизация тензора с более чем двумя осями:\n",
        "\n",
        "<img src='https://drive.google.com/uc?Export=view&id=1C6pu0iDx1Ugz2OMyE9d6KZH9IcN3-STG'>\n",
        "<img src='https://drive.google.com/uc?export=view&id=1cmVLwGNLc8fkDpmNZreTecMNCXgD6zGl'>\n",
        "<img src='https://drive.google.com/uc?export=view&id=1XiGSZVsVQrlH279eu2IK1bekSvccX6aT'>\n",
        "\n",
        "Все тензоры неизменны, как числа и строки Python: вы никогда не можете обновить содержимое тензора, только создать новый."
      ]
    },
    {
      "cell_type": "markdown",
      "metadata": {
        "id": "S4ZN0rdqFzPh"
      },
      "source": [
        "Пример создания тензора «скаляра» или «ранга 0». Скаляр содержит одно значение и не содержит «осей».\n",
        "\n"
      ]
    },
    {
      "cell_type": "code",
      "metadata": {
        "colab": {
          "base_uri": "https://localhost:8080/"
        },
        "id": "ok8XBconl8yA",
        "outputId": "1ef2f20a-712f-4682-d32d-6cebcb20445b"
      },
      "source": [
        "tf.constant(3)"
      ],
      "execution_count": null,
      "outputs": [
        {
          "output_type": "execute_result",
          "data": {
            "text/plain": [
              "<tf.Tensor: shape=(), dtype=int32, numpy=3>"
            ]
          },
          "metadata": {
            "tags": []
          },
          "execution_count": 5
        }
      ]
    },
    {
      "cell_type": "markdown",
      "metadata": {
        "id": "POx5-AKumIq-"
      },
      "source": [
        "Тензор «вектора» или «ранга 1» подобен списку значений. Вектор имеет одну ось.\n",
        "\n"
      ]
    },
    {
      "cell_type": "code",
      "metadata": {
        "colab": {
          "base_uri": "https://localhost:8080/"
        },
        "id": "Tu0MLmb8mJfW",
        "outputId": "eec51c51-e332-4c1e-9ac2-5f3cc2db2148"
      },
      "source": [
        "tf.constant([2.0, 3.0, 4.0])"
      ],
      "execution_count": null,
      "outputs": [
        {
          "output_type": "execute_result",
          "data": {
            "text/plain": [
              "<tf.Tensor: shape=(3,), dtype=float32, numpy=array([2., 3., 4.], dtype=float32)>"
            ]
          },
          "metadata": {
            "tags": []
          },
          "execution_count": 6
        }
      ]
    },
    {
      "cell_type": "markdown",
      "metadata": {
        "id": "edImEJJ2mRVG"
      },
      "source": [
        "Тензор «матрицы» или «ранга 2» имеет две оси.\n",
        "\n"
      ]
    },
    {
      "cell_type": "code",
      "metadata": {
        "id": "VATG0L6IFzPj",
        "colab": {
          "base_uri": "https://localhost:8080/"
        },
        "outputId": "bd800dba-7c46-443f-d7b8-4013e4b1a7e1"
      },
      "source": [
        "A = tf.constant([[3, 2], \n",
        "                 [5, 2]])\n",
        "\n",
        "A"
      ],
      "execution_count": null,
      "outputs": [
        {
          "output_type": "execute_result",
          "data": {
            "text/plain": [
              "<tf.Tensor: shape=(2, 2), dtype=int32, numpy=\n",
              "array([[3, 2],\n",
              "       [5, 2]], dtype=int32)>"
            ]
          },
          "metadata": {
            "tags": []
          },
          "execution_count": 7
        }
      ]
    },
    {
      "cell_type": "markdown",
      "metadata": {
        "id": "svJkkz1om4uc"
      },
      "source": [
        "Вы можете преобразовать тензор в массив NumPy либо с помощью np.array либо с tensor.numpy метода tensor.numpy."
      ]
    },
    {
      "cell_type": "code",
      "metadata": {
        "colab": {
          "base_uri": "https://localhost:8080/",
          "height": 90
        },
        "id": "13w3RsEkm7wI",
        "outputId": "8fd657d2-ef47-4443-8306-911df6956f98"
      },
      "source": [
        "display(np.array(A), A.numpy())"
      ],
      "execution_count": null,
      "outputs": [
        {
          "output_type": "display_data",
          "data": {
            "text/plain": [
              "array([[3, 2],\n",
              "       [5, 2]], dtype=int32)"
            ]
          },
          "metadata": {
            "tags": []
          }
        },
        {
          "output_type": "display_data",
          "data": {
            "text/plain": [
              "array([[3, 2],\n",
              "       [5, 2]], dtype=int32)"
            ]
          },
          "metadata": {
            "tags": []
          }
        }
      ]
    },
    {
      "cell_type": "markdown",
      "metadata": {
        "id": "van47kdAFzPp"
      },
      "source": [
        "Пример сложения и поэлементного умножения тензоров."
      ]
    },
    {
      "cell_type": "code",
      "metadata": {
        "id": "wYwJYGSvFzPr",
        "colab": {
          "base_uri": "https://localhost:8080/"
        },
        "outputId": "d81f7729-40dc-4048-9793-93b40cc6e1b6"
      },
      "source": [
        "B = tf.constant([[9, 5], \n",
        "                 [1, 3]])\n",
        "\n",
        "\n",
        "print(tf.add(A, B), \"\\n\")\n",
        "print(A + B, \"\\n\")\n",
        "\n",
        "\n",
        "print(tf.multiply(A, B), \"\\n\")\n",
        "print(A * B, \"\\n\")\n",
        "\n",
        "\n",
        "AB = tf.concat(values=[A, B], axis=0)\n",
        "print(AB.numpy())"
      ],
      "execution_count": null,
      "outputs": [
        {
          "output_type": "stream",
          "text": [
            "tf.Tensor(\n",
            "[[12  7]\n",
            " [ 6  5]], shape=(2, 2), dtype=int32) \n",
            "\n",
            "tf.Tensor(\n",
            "[[12  7]\n",
            " [ 6  5]], shape=(2, 2), dtype=int32) \n",
            "\n",
            "tf.Tensor(\n",
            "[[27 10]\n",
            " [ 5  6]], shape=(2, 2), dtype=int32) \n",
            "\n",
            "tf.Tensor(\n",
            "[[27 10]\n",
            " [ 5  6]], shape=(2, 2), dtype=int32) \n",
            "\n",
            "[[3 2]\n",
            " [5 2]\n",
            " [9 5]\n",
            " [1 3]]\n"
          ],
          "name": "stdout"
        }
      ]
    },
    {
      "cell_type": "markdown",
      "metadata": {
        "id": "XTfjbLKLFzPx"
      },
      "source": [
        "Пример изменения размерности тензора. "
      ]
    },
    {
      "cell_type": "code",
      "metadata": {
        "id": "Yk_mB4qGFzPz",
        "colab": {
          "base_uri": "https://localhost:8080/"
        },
        "outputId": "0f786f65-04f1-4bd9-d135-c64f8fa267ee"
      },
      "source": [
        "tensor = tf.constant([[3, 2], \n",
        "                      [5, 2], \n",
        "                      [9, 5], \n",
        "                      [1, 3]])\n",
        "\n",
        "resh_tensor = tf.reshape(tensor=tensor, shape=(1, 8)) \n",
        "\n",
        "print(f'BEFORE {tensor.numpy()}')\n",
        "print(f'AFTER {resh_tensor.numpy()}')"
      ],
      "execution_count": null,
      "outputs": [
        {
          "output_type": "stream",
          "text": [
            "BEFORE [[3 2]\n",
            " [5 2]\n",
            " [9 5]\n",
            " [1 3]]\n",
            "AFTER [[3 2 5 2 9 5 1 3]]\n"
          ],
          "name": "stdout"
        }
      ]
    },
    {
      "cell_type": "markdown",
      "metadata": {
        "id": "txp4OBMXFzP6"
      },
      "source": [
        "Пример матричного умножения."
      ]
    },
    {
      "cell_type": "code",
      "metadata": {
        "id": "2VM7TqHlFzP8",
        "colab": {
          "base_uri": "https://localhost:8080/"
        },
        "outputId": "e88f2e08-44c0-47e4-d823-e0701270dd0f"
      },
      "source": [
        "A = tf.constant([[3, 7], \n",
        "                 [1, 9],\n",
        "                 [1, 2]])\n",
        "\n",
        "\n",
        "B = tf.constant([[10, 10],\n",
        "                 [1, 1]])\n",
        "\n",
        "print(A.shape, B.shape, \"\\n\")\n",
        "\n",
        "print(tf.matmul(A, B), \"\\n\")\n",
        "print(A @ B, \"\\n\")"
      ],
      "execution_count": null,
      "outputs": [
        {
          "output_type": "stream",
          "text": [
            "(3, 2) (2, 2) \n",
            "\n",
            "tf.Tensor(\n",
            "[[37 37]\n",
            " [19 19]\n",
            " [12 12]], shape=(3, 2), dtype=int32) \n",
            "\n",
            "tf.Tensor(\n",
            "[[37 37]\n",
            " [19 19]\n",
            " [12 12]], shape=(3, 2), dtype=int32) \n",
            "\n"
          ],
          "name": "stdout"
        }
      ]
    },
    {
      "cell_type": "code",
      "metadata": {
        "id": "iwFVgO3t_Ghj",
        "colab": {
          "base_uri": "https://localhost:8080/"
        },
        "outputId": "c5c13048-cdf0-4fe8-ebd0-3b484a512309"
      },
      "source": [
        "x = tf.random.uniform([3, 3])\n",
        "\n",
        "print(\"есть ли доступные GPU:\"),\n",
        "print(tf.config.list_physical_devices(\"GPU\"))\n",
        "\n",
        "print(\"\\nгде находится тензор\")\n",
        "print(x.device)"
      ],
      "execution_count": null,
      "outputs": [
        {
          "output_type": "stream",
          "text": [
            "есть ли доступные GPU:\n",
            "[PhysicalDevice(name='/physical_device:GPU:0', device_type='GPU')]\n",
            "\n",
            "где находится тензор\n",
            "/job:localhost/replica:0/task:0/device:GPU:0\n"
          ],
          "name": "stdout"
        }
      ]
    },
    {
      "cell_type": "code",
      "metadata": {
        "id": "oajro_Ip_hap",
        "colab": {
          "base_uri": "https://localhost:8080/"
        },
        "outputId": "782c99eb-d91f-4143-efb5-a9b097826a2f"
      },
      "source": [
        "import time\n",
        "\n",
        "def time_matmul(x):\n",
        "  start = time.time()\n",
        "  for loop in range(10):\n",
        "    tf.matmul(x, x)\n",
        "\n",
        "  result = time.time() - start\n",
        "\n",
        "  print(\"10 циклов: {:0.2f}ms\".format(1000 * result))\n",
        "\n",
        "# исполнение CPU\n",
        "print(\"CPU:\")\n",
        "with tf.device(\"CPU:0\"):\n",
        "  x = tf.random.uniform([1000, 1000])\n",
        "  assert x.device.endswith(\"CPU:0\")\n",
        "  time_matmul(x)\n",
        "\n",
        "# исполнение на GPU #0 , если доступен\n",
        "if tf.config.list_physical_devices(\"GPU\"):\n",
        "  print(\"GPU:\")\n",
        "  with tf.device(\"GPU:0\"): # или GPU:1 , для 2х GPU, GPU:2 для 3х  и т.д.\n",
        "    x = tf.random.uniform([1000, 1000])\n",
        "    assert x.device.endswith(\"GPU:0\")\n",
        "    time_matmul(x)"
      ],
      "execution_count": null,
      "outputs": [
        {
          "output_type": "stream",
          "text": [
            "CPU:\n",
            "10 циклов: 240.78ms\n",
            "GPU:\n",
            "10 циклов: 0.46ms\n"
          ],
          "name": "stdout"
        }
      ]
    },
    {
      "cell_type": "markdown",
      "metadata": {
        "id": "ya0ZTsC3DNBF"
      },
      "source": [
        "В отличие от графического процессора, использование TPU требует явного подключения к TPU. Поэтому необходимо настроить свое обучение и определение логического вывода, чтобы наблюдать ускорение\n",
        "\n",
        "пример работы с TPU на будущее https://colab.research.google.com/github/tensorflow/tpu/blob/master/tools/colab/shakespeare_with_tpu_and_keras.ipynb"
      ]
    },
    {
      "cell_type": "markdown",
      "metadata": {
        "id": "Tc9NTP1_FzQC"
      },
      "source": [
        "Функции tensorflow призваны ускорить вычисления, давайте посмотрим на следующий пример - "
      ]
    },
    {
      "cell_type": "code",
      "metadata": {
        "id": "qBUSq3dWHUjF",
        "colab": {
          "base_uri": "https://localhost:8080/"
        },
        "outputId": "dfe81815-e113-4108-95ed-ebd02eee5c6a"
      },
      "source": [
        "from tensorflow.keras.datasets import mnist\n",
        "\n",
        "\n",
        "(X_train, y_train_labels), (X_test, y_test_labels) = mnist.load_data()\n",
        "\n",
        "# Нормализация\n",
        "X_train = (X_train / 255.0)\n",
        "X_test = (X_test / 255.0)\n",
        "\n",
        "# Векторизация\n",
        "X_train = X_train.reshape((-1, 28 * 28))\n",
        "X_test = X_test.reshape((-1, 28 * 28))\n",
        "\n",
        "print(X_train.shape) # (60000, 784)\n",
        "print(X_test.shape)  # (10000, 784)"
      ],
      "execution_count": null,
      "outputs": [
        {
          "output_type": "stream",
          "text": [
            "Downloading data from https://storage.googleapis.com/tensorflow/tf-keras-datasets/mnist.npz\n",
            "11493376/11490434 [==============================] - 0s 0us/step\n",
            "(60000, 784)\n",
            "(10000, 784)\n"
          ],
          "name": "stdout"
        }
      ]
    },
    {
      "cell_type": "code",
      "metadata": {
        "id": "ozb2tTqNIBzX"
      },
      "source": [
        "from tensorflow.keras.models import Sequential\n",
        "from tensorflow.keras.layers import Dense\n",
        "from tensorflow.keras.utils import to_categorical"
      ],
      "execution_count": null,
      "outputs": []
    },
    {
      "cell_type": "code",
      "metadata": {
        "id": "NInsePV5QKs4"
      },
      "source": [
        "import matplotlib.pyplot as plt"
      ],
      "execution_count": null,
      "outputs": []
    },
    {
      "cell_type": "code",
      "metadata": {
        "id": "PIIwUIB_GWzd",
        "colab": {
          "base_uri": "https://localhost:8080/"
        },
        "outputId": "4e79aae2-ebc8-4f83-8128-0bdeea944716"
      },
      "source": [
        "model = Sequential([\n",
        "    Dense(64, activation='relu', input_shape=(784,)),\n",
        "    Dense(32, activation='linear'),\n",
        "    Dense(10, activation='sigmoid')\n",
        "])\n",
        "\n",
        "model.compile(optimizer='adam',\n",
        "              loss='categorical_crossentropy',\n",
        "              metrics=['accuracy'])\n",
        "\n",
        "model.summary()"
      ],
      "execution_count": null,
      "outputs": [
        {
          "output_type": "stream",
          "text": [
            "Model: \"sequential\"\n",
            "_________________________________________________________________\n",
            "Layer (type)                 Output Shape              Param #   \n",
            "=================================================================\n",
            "dense (Dense)                (None, 64)                50240     \n",
            "_________________________________________________________________\n",
            "dense_1 (Dense)              (None, 32)                2080      \n",
            "_________________________________________________________________\n",
            "dense_2 (Dense)              (None, 10)                330       \n",
            "=================================================================\n",
            "Total params: 52,650\n",
            "Trainable params: 52,650\n",
            "Non-trainable params: 0\n",
            "_________________________________________________________________\n"
          ],
          "name": "stdout"
        }
      ]
    },
    {
      "cell_type": "code",
      "metadata": {
        "id": "UmAqbArVIkl9",
        "colab": {
          "base_uri": "https://localhost:8080/"
        },
        "outputId": "09230a33-d843-4d03-bbcc-84ee1d313291"
      },
      "source": [
        "history = model.fit(X_train, to_categorical(y_train_labels),\n",
        "                    epochs=2,\n",
        "                    batch_size=2,\n",
        "                    validation_data=(X_test, to_categorical(y_test_labels)))"
      ],
      "execution_count": null,
      "outputs": [
        {
          "output_type": "stream",
          "text": [
            "Epoch 1/2\n",
            "30000/30000 [==============================] - 54s 2ms/step - loss: 0.3340 - accuracy: 0.8987 - val_loss: 0.1536 - val_accuracy: 0.9523\n",
            "Epoch 2/2\n",
            "30000/30000 [==============================] - 53s 2ms/step - loss: 0.1265 - accuracy: 0.9621 - val_loss: 0.1412 - val_accuracy: 0.9598\n"
          ],
          "name": "stdout"
        }
      ]
    },
    {
      "cell_type": "code",
      "metadata": {
        "id": "8RzpMwruRFdS",
        "colab": {
          "base_uri": "https://localhost:8080/",
          "height": 295
        },
        "outputId": "fd250c64-2678-4bd1-8363-38b2df0515f0"
      },
      "source": [
        "plt.plot(history.history['val_accuracy'], label='val')\n",
        "plt.plot(history.history['accuracy'], label='train')\n",
        "plt.legend()\n",
        "plt.xlabel('epoch')\n",
        "plt.ylabel('accuracy')\n",
        "plt.title('точность сети от эпох')\n",
        "plt.show()"
      ],
      "execution_count": null,
      "outputs": [
        {
          "output_type": "display_data",
          "data": {
            "image/png": "[encoded data removed]",
            "text/plain": [
              "<Figure size 432x288 with 1 Axes>"
            ]
          },
          "metadata": {
            "tags": [],
            "needs_background": "light"
          }
        }
      ]
    },
    {
      "cell_type": "markdown",
      "metadata": {
        "id": "3ryqbwOjgEVE"
      },
      "source": [
        "Из-за маленького значения batch_size обучение занимает очень много времени, попробуем увеличить его до 2000."
      ]
    },
    {
      "cell_type": "code",
      "metadata": {
        "id": "2Zm-TPIKO-Y_",
        "colab": {
          "base_uri": "https://localhost:8080/"
        },
        "outputId": "d343af88-efac-487f-9858-687bee593d16"
      },
      "source": [
        "model2 = Sequential([\n",
        "    Dense(64, activation='relu', input_shape=(784,)),\n",
        "    Dense(32, activation='linear'),\n",
        "    Dense(10, activation='sigmoid')\n",
        "])\n",
        "\n",
        "model2.compile(optimizer='adam',\n",
        "              loss='categorical_crossentropy',\n",
        "              metrics=['accuracy'])\n",
        "\n",
        "history2 = model2.fit(X_train, to_categorical(y_train_labels),\n",
        "                      epochs=5,\n",
        "                      batch_size=2000,\n",
        "                      validation_data=(X_test, to_categorical(y_test_labels)))"
      ],
      "execution_count": null,
      "outputs": [
        {
          "output_type": "stream",
          "text": [
            "Epoch 1/5\n",
            "30/30 [==============================] - 1s 11ms/step - loss: 1.7878 - accuracy: 0.4350 - val_loss: 0.6215 - val_accuracy: 0.8380\n",
            "Epoch 2/5\n",
            "30/30 [==============================] - 0s 6ms/step - loss: 0.5453 - accuracy: 0.8495 - val_loss: 0.3771 - val_accuracy: 0.8967\n",
            "Epoch 3/5\n",
            "30/30 [==============================] - 0s 6ms/step - loss: 0.3696 - accuracy: 0.8957 - val_loss: 0.3109 - val_accuracy: 0.9129\n",
            "Epoch 4/5\n",
            "30/30 [==============================] - 0s 6ms/step - loss: 0.3096 - accuracy: 0.9122 - val_loss: 0.2736 - val_accuracy: 0.9222\n",
            "Epoch 5/5\n",
            "30/30 [==============================] - 0s 6ms/step - loss: 0.2764 - accuracy: 0.9215 - val_loss: 0.2501 - val_accuracy: 0.9286\n"
          ],
          "name": "stdout"
        }
      ]
    },
    {
      "cell_type": "code",
      "metadata": {
        "id": "PhX7tQdBSOI5",
        "colab": {
          "base_uri": "https://localhost:8080/",
          "height": 295
        },
        "outputId": "c2c1de04-d87a-4845-9d7a-2f6fd13ed0af"
      },
      "source": [
        "plt.plot(history2.history['val_accuracy'], label='val')\n",
        "plt.plot(history2.history['accuracy'], label='train')\n",
        "plt.legend()\n",
        "plt.xlabel('epoch')\n",
        "plt.ylabel('accuracy')\n",
        "plt.title('точность сети от эпох')\n",
        "plt.show()"
      ],
      "execution_count": null,
      "outputs": [
        {
          "output_type": "display_data",
          "data": {
            "image/png": "[encoded data removed]",
            "text/plain": [
              "<Figure size 432x288 with 1 Axes>"
            ]
          },
          "metadata": {
            "tags": [],
            "needs_background": "light"
          }
        }
      ]
    },
    {
      "cell_type": "markdown",
      "metadata": {
        "id": "ubaqhSOiTj9R"
      },
      "source": [
        "### Оптимизаторы"
      ]
    },
    {
      "cell_type": "code",
      "metadata": {
        "id": "5g3px8aXXse6"
      },
      "source": [
        "from tensorflow.keras.optimizers import Adam, SGD"
      ],
      "execution_count": null,
      "outputs": []
    },
    {
      "cell_type": "code",
      "metadata": {
        "id": "51b163fhReiz",
        "colab": {
          "base_uri": "https://localhost:8080/",
          "height": 1000
        },
        "outputId": "7305f635-b9cf-4db4-adcf-5e04e44e0673"
      },
      "source": [
        "colors = ['r', 'b', 'g']\n",
        "\n",
        "for i, optim in enumerate([Adam(),\n",
        "                           SGD()]):\n",
        "  model = Sequential([\n",
        "        Dense(64, activation='relu', input_shape=(784,)),\n",
        "        Dense(32, activation='linear'),\n",
        "        Dense(10, activation='sigmoid')\n",
        "    ])\n",
        "\n",
        "  model.compile(optimizer=optim,\n",
        "                loss='categorical_crossentropy',\n",
        "                metrics=['accuracy'])\n",
        "\n",
        "  history = model.fit(X_train, to_categorical(y_train_labels),\n",
        "                      epochs=25,\n",
        "                      batch_size=2000,\n",
        "                      validation_data=(X_test, to_categorical(y_test_labels)))\n",
        "  \n",
        "  plt.plot(history.history['val_accuracy'], '--', color=colors[i], label=f\"val {optim.get_config()['name']}\")\n",
        "  plt.plot(history.history['accuracy'], color=colors[i], label=f\"train {optim.get_config()['name']}\")\n",
        "\n",
        "\n",
        "plt.legend()\n",
        "plt.xlabel('epoch')\n",
        "plt.ylabel('accuracy')\n",
        "plt.title('точность сети от эпох')\n",
        "plt.show()"
      ],
      "execution_count": null,
      "outputs": [
        {
          "output_type": "stream",
          "text": [
            "Epoch 1/25\n",
            "30/30 [==============================] - 1s 10ms/step - loss: 1.7627 - accuracy: 0.4301 - val_loss: 0.6154 - val_accuracy: 0.8416\n",
            "Epoch 2/25\n",
            "30/30 [==============================] - 0s 6ms/step - loss: 0.5396 - accuracy: 0.8532 - val_loss: 0.3601 - val_accuracy: 0.9034\n",
            "Epoch 3/25\n",
            "30/30 [==============================] - 0s 7ms/step - loss: 0.3450 - accuracy: 0.9033 - val_loss: 0.2986 - val_accuracy: 0.9164\n",
            "Epoch 4/25\n",
            "30/30 [==============================] - 0s 6ms/step - loss: 0.2907 - accuracy: 0.9183 - val_loss: 0.2600 - val_accuracy: 0.9261\n",
            "Epoch 5/25\n",
            "30/30 [==============================] - 0s 6ms/step - loss: 0.2545 - accuracy: 0.9283 - val_loss: 0.2350 - val_accuracy: 0.9334\n",
            "Epoch 6/25\n",
            "30/30 [==============================] - 0s 6ms/step - loss: 0.2307 - accuracy: 0.9357 - val_loss: 0.2152 - val_accuracy: 0.9377\n",
            "Epoch 7/25\n",
            "30/30 [==============================] - 0s 6ms/step - loss: 0.2095 - accuracy: 0.9405 - val_loss: 0.2019 - val_accuracy: 0.9405\n",
            "Epoch 8/25\n",
            "30/30 [==============================] - 0s 6ms/step - loss: 0.1917 - accuracy: 0.9461 - val_loss: 0.1843 - val_accuracy: 0.9471\n",
            "Epoch 9/25\n",
            "30/30 [==============================] - 0s 6ms/step - loss: 0.1742 - accuracy: 0.9512 - val_loss: 0.1725 - val_accuracy: 0.9505\n",
            "Epoch 10/25\n",
            "30/30 [==============================] - 0s 6ms/step - loss: 0.1641 - accuracy: 0.9535 - val_loss: 0.1640 - val_accuracy: 0.9538\n",
            "Epoch 11/25\n",
            "30/30 [==============================] - 0s 6ms/step - loss: 0.1548 - accuracy: 0.9561 - val_loss: 0.1561 - val_accuracy: 0.9545\n",
            "Epoch 12/25\n",
            "30/30 [==============================] - 0s 6ms/step - loss: 0.1456 - accuracy: 0.9588 - val_loss: 0.1464 - val_accuracy: 0.9571\n",
            "Epoch 13/25\n",
            "30/30 [==============================] - 0s 6ms/step - loss: 0.1337 - accuracy: 0.9626 - val_loss: 0.1414 - val_accuracy: 0.9597\n",
            "Epoch 14/25\n",
            "30/30 [==============================] - 0s 6ms/step - loss: 0.1260 - accuracy: 0.9632 - val_loss: 0.1370 - val_accuracy: 0.9596\n",
            "Epoch 15/25\n",
            "30/30 [==============================] - 0s 6ms/step - loss: 0.1185 - accuracy: 0.9666 - val_loss: 0.1309 - val_accuracy: 0.9617\n",
            "Epoch 16/25\n",
            "30/30 [==============================] - 0s 6ms/step - loss: 0.1099 - accuracy: 0.9691 - val_loss: 0.1271 - val_accuracy: 0.9630\n",
            "Epoch 17/25\n",
            "30/30 [==============================] - 0s 6ms/step - loss: 0.1036 - accuracy: 0.9701 - val_loss: 0.1236 - val_accuracy: 0.9632\n",
            "Epoch 18/25\n",
            "30/30 [==============================] - 0s 6ms/step - loss: 0.0982 - accuracy: 0.9722 - val_loss: 0.1201 - val_accuracy: 0.9635\n",
            "Epoch 19/25\n",
            "30/30 [==============================] - 0s 6ms/step - loss: 0.0959 - accuracy: 0.9729 - val_loss: 0.1161 - val_accuracy: 0.9665\n",
            "Epoch 20/25\n",
            "30/30 [==============================] - 0s 6ms/step - loss: 0.0902 - accuracy: 0.9742 - val_loss: 0.1150 - val_accuracy: 0.9657\n",
            "Epoch 21/25\n",
            "30/30 [==============================] - 0s 6ms/step - loss: 0.0857 - accuracy: 0.9752 - val_loss: 0.1106 - val_accuracy: 0.9671\n",
            "Epoch 22/25\n",
            "30/30 [==============================] - 0s 6ms/step - loss: 0.0810 - accuracy: 0.9769 - val_loss: 0.1081 - val_accuracy: 0.9687\n",
            "Epoch 23/25\n",
            "30/30 [==============================] - 0s 6ms/step - loss: 0.0751 - accuracy: 0.9791 - val_loss: 0.1055 - val_accuracy: 0.9690\n",
            "Epoch 24/25\n",
            "30/30 [==============================] - 0s 6ms/step - loss: 0.0719 - accuracy: 0.9799 - val_loss: 0.1044 - val_accuracy: 0.9694\n",
            "Epoch 25/25\n",
            "30/30 [==============================] - 0s 6ms/step - loss: 0.0726 - accuracy: 0.9802 - val_loss: 0.1025 - val_accuracy: 0.9696\n",
            "Epoch 1/25\n",
            "30/30 [==============================] - 1s 10ms/step - loss: 2.2852 - accuracy: 0.1464 - val_loss: 2.0345 - val_accuracy: 0.3575\n",
            "Epoch 2/25\n",
            "30/30 [==============================] - 0s 6ms/step - loss: 1.9821 - accuracy: 0.4004 - val_loss: 1.7648 - val_accuracy: 0.5459\n",
            "Epoch 3/25\n",
            "30/30 [==============================] - 0s 6ms/step - loss: 1.7243 - accuracy: 0.5582 - val_loss: 1.5171 - val_accuracy: 0.6482\n",
            "Epoch 4/25\n",
            "30/30 [==============================] - 0s 6ms/step - loss: 1.4921 - accuracy: 0.6455 - val_loss: 1.3093 - val_accuracy: 0.7085\n",
            "Epoch 5/25\n",
            "30/30 [==============================] - 0s 6ms/step - loss: 1.2910 - accuracy: 0.7089 - val_loss: 1.1412 - val_accuracy: 0.7464\n",
            "Epoch 6/25\n",
            "30/30 [==============================] - 0s 6ms/step - loss: 1.1370 - accuracy: 0.7448 - val_loss: 1.0086 - val_accuracy: 0.7785\n",
            "Epoch 7/25\n",
            "30/30 [==============================] - 0s 6ms/step - loss: 1.0067 - accuracy: 0.7760 - val_loss: 0.9046 - val_accuracy: 0.7975\n",
            "Epoch 8/25\n",
            "30/30 [==============================] - 0s 6ms/step - loss: 0.9091 - accuracy: 0.7934 - val_loss: 0.8225 - val_accuracy: 0.8133\n",
            "Epoch 9/25\n",
            "30/30 [==============================] - 0s 6ms/step - loss: 0.8302 - accuracy: 0.8086 - val_loss: 0.7572 - val_accuracy: 0.8221\n",
            "Epoch 10/25\n",
            "30/30 [==============================] - 0s 6ms/step - loss: 0.7707 - accuracy: 0.8192 - val_loss: 0.7046 - val_accuracy: 0.8326\n",
            "Epoch 11/25\n",
            "30/30 [==============================] - 0s 6ms/step - loss: 0.7145 - accuracy: 0.8296 - val_loss: 0.6615 - val_accuracy: 0.8390\n",
            "Epoch 12/25\n",
            "30/30 [==============================] - 0s 6ms/step - loss: 0.6766 - accuracy: 0.8361 - val_loss: 0.6258 - val_accuracy: 0.8449\n",
            "Epoch 13/25\n",
            "30/30 [==============================] - 0s 6ms/step - loss: 0.6393 - accuracy: 0.8416 - val_loss: 0.5958 - val_accuracy: 0.8517\n",
            "Epoch 14/25\n",
            "30/30 [==============================] - 0s 6ms/step - loss: 0.6163 - accuracy: 0.8466 - val_loss: 0.5703 - val_accuracy: 0.8558\n",
            "Epoch 15/25\n",
            "30/30 [==============================] - 0s 6ms/step - loss: 0.5899 - accuracy: 0.8517 - val_loss: 0.5482 - val_accuracy: 0.8589\n",
            "Epoch 16/25\n",
            "30/30 [==============================] - 0s 6ms/step - loss: 0.5596 - accuracy: 0.8581 - val_loss: 0.5290 - val_accuracy: 0.8629\n",
            "Epoch 17/25\n",
            "30/30 [==============================] - 0s 6ms/step - loss: 0.5443 - accuracy: 0.8603 - val_loss: 0.5122 - val_accuracy: 0.8684\n",
            "Epoch 18/25\n",
            "30/30 [==============================] - 0s 6ms/step - loss: 0.5227 - accuracy: 0.8663 - val_loss: 0.4972 - val_accuracy: 0.8709\n",
            "Epoch 19/25\n",
            "30/30 [==============================] - 0s 6ms/step - loss: 0.5133 - accuracy: 0.8649 - val_loss: 0.4838 - val_accuracy: 0.8737\n",
            "Epoch 20/25\n",
            "30/30 [==============================] - 0s 6ms/step - loss: 0.5024 - accuracy: 0.8672 - val_loss: 0.4719 - val_accuracy: 0.8763\n",
            "Epoch 21/25\n",
            "30/30 [==============================] - 0s 6ms/step - loss: 0.4893 - accuracy: 0.8702 - val_loss: 0.4610 - val_accuracy: 0.8791\n",
            "Epoch 22/25\n",
            "30/30 [==============================] - 0s 6ms/step - loss: 0.4811 - accuracy: 0.8707 - val_loss: 0.4512 - val_accuracy: 0.8810\n",
            "Epoch 23/25\n",
            "30/30 [==============================] - 0s 6ms/step - loss: 0.4671 - accuracy: 0.8736 - val_loss: 0.4421 - val_accuracy: 0.8827\n",
            "Epoch 24/25\n",
            "30/30 [==============================] - 0s 6ms/step - loss: 0.4566 - accuracy: 0.8781 - val_loss: 0.4339 - val_accuracy: 0.8841\n",
            "Epoch 25/25\n",
            "30/30 [==============================] - 0s 6ms/step - loss: 0.4541 - accuracy: 0.8772 - val_loss: 0.4263 - val_accuracy: 0.8852\n"
          ],
          "name": "stdout"
        },
        {
          "output_type": "display_data",
          "data": {
            "image/png": "[encoded data removed]",
            "text/plain": [
              "<Figure size 432x288 with 1 Axes>"
            ]
          },
          "metadata": {
            "tags": [],
            "needs_background": "light"
          }
        }
      ]
    },
    {
      "cell_type": "markdown",
      "metadata": {
        "id": "jYysdyb-CaWM"
      },
      "source": [
        "# Классификация изображений одежды"
      ]
    },
    {
      "cell_type": "markdown",
      "metadata": {
        "id": "FbVhjPpzn6BM"
      },
      "source": [
        "Давайте разберем использование tensorflow 2 на примере датасета с одеждой. В этом датасете будут находиться маленькие изображения на белом фоне, такие как кросовки, футболки и прочее.\n",
        "\n",
        "В данном случае мы будем использовать High API от TensorFlow"
      ]
    },
    {
      "cell_type": "code",
      "metadata": {
        "id": "dzLKpmZICaWN",
        "colab": {
          "base_uri": "https://localhost:8080/"
        },
        "outputId": "9854eeb8-760b-4ff8-c13a-3285c734f17b"
      },
      "source": [
        "import tensorflow as tf\n",
        "\n",
        "import numpy as np\n",
        "import matplotlib.pyplot as plt\n",
        "\n",
        "print(tf.__version__)"
      ],
      "execution_count": null,
      "outputs": [
        {
          "output_type": "stream",
          "text": [
            "2.4.1\n"
          ],
          "name": "stdout"
        }
      ]
    },
    {
      "cell_type": "markdown",
      "metadata": {
        "id": "DLdCchMdCaWQ"
      },
      "source": [
        "Мы будет использовать следующий датасет -  [Fashion MNIST](https://github.com/zalandoresearch/fashion-mnist) Этот датасет содержит 70.000 черно-белых изображений в 10 категориях. Изображения имеют разрешение 28x28 пикселей.\n",
        "\n",
        "<table>\n",
        "  <tr><td>\n",
        "    <img src=\"https://tensorflow.org/images/fashion-mnist-sprite.png\"\n",
        "         alt=\"Fashion MNIST sprite\"  width=\"600\">\n",
        "  </td></tr>\n",
        "  <tr><td align=\"center\">\n",
        "    <b>Figure 1.</b> <a href=\"https://github.com/zalandoresearch/fashion-mnist\">Fashion-MNIST samples</a> (by Zalando, MIT License).<br/>&nbsp;\n",
        "  </td></tr>\n",
        "</table>\n",
        "\n",
        "Долгое время в машинном обучение для программ Hello world использовался датасет MNIST с рукописными цифрами. Данный датасет призван несколько усложнить задачу распознования но также подходит в качестве программы Hello world.\n",
        "\n",
        "В этом датасете 60 000 тренировочных изображений и 10 000 тестовых."
      ]
    },
    {
      "cell_type": "code",
      "metadata": {
        "id": "7MqDQO0KCaWS",
        "colab": {
          "base_uri": "https://localhost:8080/"
        },
        "outputId": "cff6e7ad-9e26-4644-dc1a-08532ce9deb0"
      },
      "source": [
        "from keras.datasets import fashion_mnist\n",
        "\n",
        "(X_train, y_train_labels), (X_test, y_test_labels) = fashion_mnist.load_data()"
      ],
      "execution_count": null,
      "outputs": [
        {
          "output_type": "stream",
          "text": [
            "Downloading data from https://storage.googleapis.com/tensorflow/tf-keras-datasets/train-labels-idx1-ubyte.gz\n",
            "32768/29515 [=================================] - 0s 0us/step\n",
            "Downloading data from https://storage.googleapis.com/tensorflow/tf-keras-datasets/train-images-idx3-ubyte.gz\n",
            "26427392/26421880 [==============================] - 0s 0us/step\n",
            "Downloading data from https://storage.googleapis.com/tensorflow/tf-keras-datasets/t10k-labels-idx1-ubyte.gz\n",
            "8192/5148 [===============================================] - 0s 0us/step\n",
            "Downloading data from https://storage.googleapis.com/tensorflow/tf-keras-datasets/t10k-images-idx3-ubyte.gz\n",
            "4423680/4422102 [==============================] - 0s 0us/step\n"
          ],
          "name": "stdout"
        }
      ]
    },
    {
      "cell_type": "markdown",
      "metadata": {
        "id": "t9FDsUlxCaWW"
      },
      "source": [
        "Датасет содержит следующие классы:\n",
        "\n",
        "<table>\n",
        "  <tr>\n",
        "    <th>Label</th>\n",
        "    <th>Class</th>\n",
        "  </tr>\n",
        "  <tr>\n",
        "    <td>0</td>\n",
        "    <td>T-shirt/top</td>\n",
        "  </tr>\n",
        "  <tr>\n",
        "    <td>1</td>\n",
        "    <td>Trouser</td>\n",
        "  </tr>\n",
        "    <tr>\n",
        "    <td>2</td>\n",
        "    <td>Pullover</td>\n",
        "  </tr>\n",
        "    <tr>\n",
        "    <td>3</td>\n",
        "    <td>Dress</td>\n",
        "  </tr>\n",
        "    <tr>\n",
        "    <td>4</td>\n",
        "    <td>Coat</td>\n",
        "  </tr>\n",
        "    <tr>\n",
        "    <td>5</td>\n",
        "    <td>Sandal</td>\n",
        "  </tr>\n",
        "    <tr>\n",
        "    <td>6</td>\n",
        "    <td>Shirt</td>\n",
        "  </tr>\n",
        "    <tr>\n",
        "    <td>7</td>\n",
        "    <td>Sneaker</td>\n",
        "  </tr>\n",
        "    <tr>\n",
        "    <td>8</td>\n",
        "    <td>Bag</td>\n",
        "  </tr>\n",
        "    <tr>\n",
        "    <td>9</td>\n",
        "    <td>Ankle boot</td>\n",
        "  </tr>\n",
        "</table>\n",
        "\n",
        "Каждому классу обозначенному цифрой мы можем присвоить текстовое значение -"
      ]
    },
    {
      "cell_type": "code",
      "metadata": {
        "id": "IjnLH5S2CaWx"
      },
      "source": [
        "class_names = ['T-shirt/top',\n",
        "               'Trouser',\n",
        "               'Pullover',\n",
        "               'Dress',\n",
        "               'Coat',\n",
        "               'Sandal',\n",
        "               'Shirt',\n",
        "               'Sneaker',\n",
        "               'Bag',\n",
        "               'Ankle boot']"
      ],
      "execution_count": null,
      "outputs": []
    },
    {
      "cell_type": "markdown",
      "metadata": {
        "id": "Brm0b_KACaWX"
      },
      "source": [
        "Давайте посмотрим структуры полученного массива данных:"
      ]
    },
    {
      "cell_type": "code",
      "metadata": {
        "id": "zW5k_xz1CaWX",
        "colab": {
          "base_uri": "https://localhost:8080/"
        },
        "outputId": "3a40421f-c85f-485b-9c6d-ba6a931cc80a"
      },
      "source": [
        "X_train.shape"
      ],
      "execution_count": null,
      "outputs": [
        {
          "output_type": "execute_result",
          "data": {
            "text/plain": [
              "(60000, 28, 28)"
            ]
          },
          "metadata": {
            "tags": []
          },
          "execution_count": 33
        }
      ]
    },
    {
      "cell_type": "code",
      "metadata": {
        "id": "TRFYHB2mCaWb",
        "colab": {
          "base_uri": "https://localhost:8080/"
        },
        "outputId": "8e5ff297-f14d-4da7-99a2-e61eb13284da"
      },
      "source": [
        "len(y_train_labels)"
      ],
      "execution_count": null,
      "outputs": [
        {
          "output_type": "execute_result",
          "data": {
            "text/plain": [
              "60000"
            ]
          },
          "metadata": {
            "tags": []
          },
          "execution_count": 34
        }
      ]
    },
    {
      "cell_type": "code",
      "metadata": {
        "id": "XKnCTHz4CaWg",
        "colab": {
          "base_uri": "https://localhost:8080/"
        },
        "outputId": "89d41bb4-a824-4c81-8837-8f03f9fa28f3"
      },
      "source": [
        "y_train_labels"
      ],
      "execution_count": null,
      "outputs": [
        {
          "output_type": "execute_result",
          "data": {
            "text/plain": [
              "array([9, 0, 0, ..., 3, 0, 5], dtype=uint8)"
            ]
          },
          "metadata": {
            "tags": []
          },
          "execution_count": 35
        }
      ]
    },
    {
      "cell_type": "markdown",
      "metadata": {
        "id": "TMPI88iZpO2T"
      },
      "source": [
        "Проанализируем тестовую выборку:"
      ]
    },
    {
      "cell_type": "code",
      "metadata": {
        "id": "2KFnYlcwCaWl",
        "colab": {
          "base_uri": "https://localhost:8080/"
        },
        "outputId": "13e3d0d0-9108-43ba-cb31-190fbda5d995"
      },
      "source": [
        "X_test.shape"
      ],
      "execution_count": null,
      "outputs": [
        {
          "output_type": "execute_result",
          "data": {
            "text/plain": [
              "(10000, 28, 28)"
            ]
          },
          "metadata": {
            "tags": []
          },
          "execution_count": 36
        }
      ]
    },
    {
      "cell_type": "code",
      "metadata": {
        "id": "iJmPr5-ACaWn",
        "colab": {
          "base_uri": "https://localhost:8080/"
        },
        "outputId": "4dc75ea5-146b-48c8-d365-38d910b64c45"
      },
      "source": [
        "len(y_test_labels)"
      ],
      "execution_count": null,
      "outputs": [
        {
          "output_type": "execute_result",
          "data": {
            "text/plain": [
              "10000"
            ]
          },
          "metadata": {
            "tags": []
          },
          "execution_count": 37
        }
      ]
    },
    {
      "cell_type": "code",
      "metadata": {
        "id": "1PHqiEKY8Ktu"
      },
      "source": [
        "y_train = to_categorical(y_train_labels)\n",
        "y_test = to_categorical(y_test_labels)"
      ],
      "execution_count": null,
      "outputs": []
    },
    {
      "cell_type": "markdown",
      "metadata": {
        "id": "ES6uQoLKCaWr"
      },
      "source": [
        "## Подготовка данных\n",
        "\n",
        "Давайте взглянем на конкретный пример изображений с помощью matplotlib:"
      ]
    },
    {
      "cell_type": "code",
      "metadata": {
        "id": "m4VEw8Ud9Quh",
        "colab": {
          "base_uri": "https://localhost:8080/",
          "height": 265
        },
        "outputId": "0c4fbe59-b38a-4ede-cfe1-240b2af787b7"
      },
      "source": [
        "plt.figure()\n",
        "plt.imshow(X_train[0])\n",
        "plt.colorbar()\n",
        "plt.show()"
      ],
      "execution_count": null,
      "outputs": [
        {
          "output_type": "display_data",
          "data": {
            "image/png": "[encoded data removed]",
            "text/plain": [
              "<Figure size 432x288 with 2 Axes>"
            ]
          },
          "metadata": {
            "tags": [],
            "needs_background": "light"
          }
        }
      ]
    },
    {
      "cell_type": "markdown",
      "metadata": {
        "id": "Wz7l27Lz9S1P"
      },
      "source": [
        "Для процесса обучения нейронной сети нам важно перевести данные из диапазона от 0 до 255 в диапазон от 0 до 1:"
      ]
    },
    {
      "cell_type": "code",
      "metadata": {
        "id": "bW5WzIPlCaWv"
      },
      "source": [
        "X_train = X_train / 255.0\n",
        "X_test = X_test / 255.0"
      ],
      "execution_count": null,
      "outputs": []
    },
    {
      "cell_type": "markdown",
      "metadata": {
        "id": "Ee638AlnCaWz"
      },
      "source": [
        "Посмотрим первые 25 изображений:"
      ]
    },
    {
      "cell_type": "code",
      "metadata": {
        "id": "oZTImqg_CaW1",
        "colab": {
          "base_uri": "https://localhost:8080/",
          "height": 589
        },
        "outputId": "f7961ed8-f391-451d-9103-75520644b8c9"
      },
      "source": [
        "plt.figure(figsize=(10, 10))\n",
        "\n",
        "for i in range(25):\n",
        "    plt.subplot(5, 5, i+1)\n",
        "    plt.xticks([])\n",
        "    plt.yticks([])\n",
        "    plt.imshow(X_train[i], cmap=plt.cm.binary)\n",
        "    plt.xlabel(class_names[y_train_labels[i]])\n",
        "plt.show()"
      ],
      "execution_count": null,
      "outputs": [
        {
          "output_type": "display_data",
          "data": {
            "image/png": "[encoded data removed]",
            "text/plain": [
              "<Figure size 720x720 with 25 Axes>"
            ]
          },
          "metadata": {
            "tags": []
          }
        }
      ]
    },
    {
      "cell_type": "markdown",
      "metadata": {
        "id": "59veuiEZCaW4"
      },
      "source": [
        "## Построение модели\n",
        "\n",
        "Построение нейронной сети подразумевает конфигурацию ее слоев и последующую компиляцию."
      ]
    },
    {
      "cell_type": "markdown",
      "metadata": {
        "id": "Gxg1XGm0eOBy"
      },
      "source": [
        "### Определение слоев\n",
        "\n",
        "Давайте создадим 3 слоя нейронной сети с помощью функционала Keras.layers"
      ]
    },
    {
      "cell_type": "code",
      "metadata": {
        "id": "UqVUwO9Px9iQ"
      },
      "source": [
        "from tensorflow.keras.layers import Input, Flatten, Dense\n",
        "from tensorflow.keras.models import Model"
      ],
      "execution_count": null,
      "outputs": []
    },
    {
      "cell_type": "markdown",
      "metadata": {
        "id": "SPGsEc5l4_8J"
      },
      "source": [
        "Соберем модель в функциональной форме (функциональное API Keras) \n",
        "\n",
        "Сеть собираем как последовательности соединей узлов:\n",
        " \n",
        " вход -> слой 1 -> слой 2 -> выход\n",
        "\n",
        " связь идет через тензоры"
      ]
    },
    {
      "cell_type": "code",
      "metadata": {
        "id": "9ODch-OFCaW4",
        "colab": {
          "base_uri": "https://localhost:8080/"
        },
        "outputId": "38ae0df6-f045-49cf-a3f1-302dc45a418d"
      },
      "source": [
        "model = Sequential([\n",
        "    Flatten(input_shape=(28, 28)),\n",
        "    Dense(128, activation='relu'),\n",
        "    Dense(10)\n",
        "])\n",
        "\n",
        "model.summary()"
      ],
      "execution_count": null,
      "outputs": [
        {
          "output_type": "stream",
          "text": [
            "Model: \"sequential_6\"\n",
            "_________________________________________________________________\n",
            "Layer (type)                 Output Shape              Param #   \n",
            "=================================================================\n",
            "flatten (Flatten)            (None, 784)               0         \n",
            "_________________________________________________________________\n",
            "dense_18 (Dense)             (None, 128)               100480    \n",
            "_________________________________________________________________\n",
            "dense_19 (Dense)             (None, 10)                1290      \n",
            "=================================================================\n",
            "Total params: 101,770\n",
            "Trainable params: 101,770\n",
            "Non-trainable params: 0\n",
            "_________________________________________________________________\n"
          ],
          "name": "stdout"
        }
      ]
    },
    {
      "cell_type": "markdown",
      "metadata": {
        "id": "gut8A_7rCaW6"
      },
      "source": [
        "Первый слой, `tf.keras.layers.Flatten`, трасформирует двумерный массив на входе в одномерный массив.\n",
        "\n",
        "Получившиеся 784(28 x 28) входных нейрона присоединяем к полносвязному слою из 128 нейронов , которые будут использовать функцию активации relu. В выходном слое будет 10 нейронов, по числу классов, которые он должен предсказывать."
      ]
    },
    {
      "cell_type": "code",
      "metadata": {
        "id": "P9V7ENde4t1S",
        "colab": {
          "base_uri": "https://localhost:8080/"
        },
        "outputId": "d769ba7e-483f-4a43-ee67-2484258b85f0"
      },
      "source": [
        "inputs = Input(shape=(28, 28))\n",
        "x_1 = Flatten()(inputs)\n",
        "x_2 = Dense(128, activation='relu')(x_1)\n",
        "outputs = Dense(10)(x_2)\n",
        "\n",
        "x_1, x_2, outputs"
      ],
      "execution_count": null,
      "outputs": [
        {
          "output_type": "execute_result",
          "data": {
            "text/plain": [
              "(<KerasTensor: shape=(None, 784) dtype=float32 (created by layer 'flatten_1')>,\n",
              " <KerasTensor: shape=(None, 128) dtype=float32 (created by layer 'dense_20')>,\n",
              " <KerasTensor: shape=(None, 10) dtype=float32 (created by layer 'dense_21')>)"
            ]
          },
          "metadata": {
            "tags": []
          },
          "execution_count": 43
        }
      ]
    },
    {
      "cell_type": "code",
      "metadata": {
        "id": "prhavY9JioU-"
      },
      "source": [
        "model = Model(inputs, outputs)"
      ],
      "execution_count": null,
      "outputs": []
    },
    {
      "cell_type": "code",
      "metadata": {
        "colab": {
          "base_uri": "https://localhost:8080/"
        },
        "id": "Cu7Rm7zw6Una",
        "outputId": "f6b40ccd-a893-44f1-98b6-d827e099a720"
      },
      "source": [
        "model.summary()"
      ],
      "execution_count": null,
      "outputs": [
        {
          "output_type": "stream",
          "text": [
            "Model: \"model\"\n",
            "_________________________________________________________________\n",
            "Layer (type)                 Output Shape              Param #   \n",
            "=================================================================\n",
            "input_1 (InputLayer)         [(None, 28, 28)]          0         \n",
            "_________________________________________________________________\n",
            "flatten_1 (Flatten)          (None, 784)               0         \n",
            "_________________________________________________________________\n",
            "dense_20 (Dense)             (None, 128)               100480    \n",
            "_________________________________________________________________\n",
            "dense_21 (Dense)             (None, 10)                1290      \n",
            "=================================================================\n",
            "Total params: 101,770\n",
            "Trainable params: 101,770\n",
            "Non-trainable params: 0\n",
            "_________________________________________________________________\n"
          ],
          "name": "stdout"
        }
      ]
    },
    {
      "cell_type": "markdown",
      "metadata": {
        "id": "n3SWLueHyQDU"
      },
      "source": [
        "\n",
        "### Компиляция модели\n",
        "\n",
        "Давайте вспомним ключевые понятия, которые нам понадобяться при компиляции:\n",
        "\n",
        "* *Loss function* — меряет как точно работает нейросеть.\n",
        "* *Optimizer* — определяет способ корректировки весов.\n",
        "* *Metrics* — определяет за какие характеристики будут отражаться в процессе обучения."
      ]
    },
    {
      "cell_type": "code",
      "metadata": {
        "id": "Lhan11blCaW7"
      },
      "source": [
        "from tensorflow.keras.losses import CategoricalCrossentropy, SparseCategoricalCrossentropy\n",
        "\n",
        "model.compile(optimizer=Adam(),\n",
        "              loss=CategoricalCrossentropy(from_logits=True),\n",
        "              metrics=['accuracy'])"
      ],
      "execution_count": null,
      "outputs": []
    },
    {
      "cell_type": "markdown",
      "metadata": {
        "id": "qKF6uW-BCaW-"
      },
      "source": [
        "## Тренировка модели\n",
        "\n",
        "Здесь все стандартно - данные передаются в нейросеть и сопоставляются изображения и лейблы.\n",
        "\n"
      ]
    },
    {
      "cell_type": "markdown",
      "metadata": {
        "id": "Z4P4zIV7E28Z"
      },
      "source": [
        "### Передача данных в модель\n",
        "\n",
        "Команда непосредственно запускающая процесс обучения называется - `model.fit`:"
      ]
    },
    {
      "cell_type": "code",
      "metadata": {
        "id": "xvwvpA64CaW_",
        "colab": {
          "base_uri": "https://localhost:8080/"
        },
        "outputId": "1e0896db-86f5-430b-c923-9a333a049ef6"
      },
      "source": [
        "model.fit(X_train, y_train,\n",
        "          epochs=5,\n",
        "          batch_size=256,\n",
        "          validation_data=(X_test, y_test))"
      ],
      "execution_count": null,
      "outputs": [
        {
          "output_type": "stream",
          "text": [
            "Epoch 1/5\n",
            "235/235 [==============================] - 1s 3ms/step - loss: 0.8476 - accuracy: 0.7167 - val_loss: 0.4751 - val_accuracy: 0.8381\n",
            "Epoch 2/5\n",
            "235/235 [==============================] - 1s 3ms/step - loss: 0.4351 - accuracy: 0.8474 - val_loss: 0.4339 - val_accuracy: 0.8470\n",
            "Epoch 3/5\n",
            "235/235 [==============================] - 1s 3ms/step - loss: 0.3866 - accuracy: 0.8637 - val_loss: 0.4027 - val_accuracy: 0.8589\n",
            "Epoch 4/5\n",
            "235/235 [==============================] - 1s 3ms/step - loss: 0.3659 - accuracy: 0.8700 - val_loss: 0.4169 - val_accuracy: 0.8473\n",
            "Epoch 5/5\n",
            "235/235 [==============================] - 1s 3ms/step - loss: 0.3378 - accuracy: 0.8810 - val_loss: 0.3818 - val_accuracy: 0.8627\n"
          ],
          "name": "stdout"
        },
        {
          "output_type": "execute_result",
          "data": {
            "text/plain": [
              "<tensorflow.python.keras.callbacks.History at 0x7fede20cafd0>"
            ]
          },
          "metadata": {
            "tags": []
          },
          "execution_count": 47
        }
      ]
    },
    {
      "cell_type": "code",
      "metadata": {
        "id": "VflXLEeECaXC",
        "colab": {
          "base_uri": "https://localhost:8080/"
        },
        "outputId": "f369904a-196e-4d0c-d01d-402982cafe35"
      },
      "source": [
        "test_loss, test_acc = model.evaluate(X_test, y_test, verbose=2)\n",
        "\n",
        "print('\\nTest accuracy:', test_acc)"
      ],
      "execution_count": null,
      "outputs": [
        {
          "output_type": "stream",
          "text": [
            "313/313 - 0s - loss: 0.3818 - accuracy: 0.8627\n",
            "\n",
            "Test accuracy: 0.8626999855041504\n"
          ],
          "name": "stdout"
        }
      ]
    },
    {
      "cell_type": "markdown",
      "metadata": {
        "id": "ThiOOMngFzRw"
      },
      "source": [
        "В выводе выше мы следим за точностью в процессе обучения, проверяем точность на тестовых данных и меняем параметры нейросети если точность на тестовых данных нас не устраивает."
      ]
    },
    {
      "cell_type": "markdown",
      "metadata": {
        "id": "iZQu7LGtjVqk"
      },
      "source": [
        "На данный момент наша модель отвечает линейно:"
      ]
    },
    {
      "cell_type": "code",
      "metadata": {
        "colab": {
          "base_uri": "https://localhost:8080/"
        },
        "id": "nt_ZrOAwjOw4",
        "outputId": "87b80f76-2763-4672-b4fd-59fcdc84d9f4"
      },
      "source": [
        "model.predict(X_test[:1])"
      ],
      "execution_count": null,
      "outputs": [
        {
          "output_type": "execute_result",
          "data": {
            "text/plain": [
              "array([[-4.345751  , -8.902042  , -6.7689276 , -5.86921   , -4.8799434 ,\n",
              "         3.3918624 , -3.653017  ,  3.3571103 , -0.24772644,  5.3948245 ]],\n",
              "      dtype=float32)"
            ]
          },
          "metadata": {
            "tags": []
          },
          "execution_count": 49
        }
      ]
    },
    {
      "cell_type": "code",
      "metadata": {
        "colab": {
          "base_uri": "https://localhost:8080/"
        },
        "id": "DGoZ49vKmf7v",
        "outputId": "bc110cdd-6d4d-4efd-9282-3fedb1aac18a"
      },
      "source": [
        "y_train[:1]"
      ],
      "execution_count": null,
      "outputs": [
        {
          "output_type": "execute_result",
          "data": {
            "text/plain": [
              "array([[0., 0., 0., 0., 0., 0., 0., 0., 0., 1.]], dtype=float32)"
            ]
          },
          "metadata": {
            "tags": []
          },
          "execution_count": 50
        }
      ]
    },
    {
      "cell_type": "markdown",
      "metadata": {
        "id": "v-PyD1SYE28q"
      },
      "source": [
        "### Предсказания нейросети\n",
        "\n",
        "Команды ниже позволяют проверить работу натренированной ранее нейросети. "
      ]
    },
    {
      "cell_type": "markdown",
      "metadata": {
        "id": "4prKqteTMZcd"
      },
      "source": [
        "**Softmax**\n",
        "\n",
        "<img src='https://drive.google.com/uc?export=view&id=1dW-Hk-qogTWG-x3bkzlM5aHsWhxe3juX'>"
      ]
    },
    {
      "cell_type": "code",
      "metadata": {
        "id": "DnfNA0CrQLSD"
      },
      "source": [
        "probability_model = Sequential([\n",
        "    model, \n",
        "    tf.keras.layers.Softmax()\n",
        "])"
      ],
      "execution_count": null,
      "outputs": []
    },
    {
      "cell_type": "code",
      "metadata": {
        "id": "Gl91RPhdCaXI"
      },
      "source": [
        "predictions = probability_model.predict(X_test)"
      ],
      "execution_count": null,
      "outputs": []
    },
    {
      "cell_type": "code",
      "metadata": {
        "id": "3DmJEUinCaXK",
        "colab": {
          "base_uri": "https://localhost:8080/"
        },
        "outputId": "cff7dfd2-a8db-4277-9107-aa382b3a1c08"
      },
      "source": [
        "predictions[0]"
      ],
      "execution_count": null,
      "outputs": [
        {
          "output_type": "execute_result",
          "data": {
            "text/plain": [
              "array([4.63712167e-05, 4.86940849e-07, 4.11032170e-06, 1.01069118e-05,\n",
              "       2.71800964e-05, 1.06328875e-01, 9.27040164e-05, 1.02697238e-01,\n",
              "       2.79253139e-03, 7.88000345e-01], dtype=float32)"
            ]
          },
          "metadata": {
            "tags": []
          },
          "execution_count": 53
        }
      ]
    },
    {
      "cell_type": "code",
      "metadata": {
        "id": "qsqenuPnCaXO",
        "colab": {
          "base_uri": "https://localhost:8080/"
        },
        "outputId": "c1fb5988-daf3-4c5d-f7b4-e7e895047665"
      },
      "source": [
        "np.argmax(predictions[0])"
      ],
      "execution_count": null,
      "outputs": [
        {
          "output_type": "execute_result",
          "data": {
            "text/plain": [
              "9"
            ]
          },
          "metadata": {
            "tags": []
          },
          "execution_count": 54
        }
      ]
    },
    {
      "cell_type": "code",
      "metadata": {
        "id": "Sd7Pgsu6CaXP",
        "colab": {
          "base_uri": "https://localhost:8080/"
        },
        "outputId": "e069621e-7aa9-4d84-eba3-9ada92c00844"
      },
      "source": [
        "y_test_labels[0]"
      ],
      "execution_count": null,
      "outputs": [
        {
          "output_type": "execute_result",
          "data": {
            "text/plain": [
              "9"
            ]
          },
          "metadata": {
            "tags": []
          },
          "execution_count": 55
        }
      ]
    },
    {
      "cell_type": "code",
      "metadata": {
        "id": "DvYmmrpIy6Y1"
      },
      "source": [
        "def plot_image(i, predictions_array, true_label, img):\n",
        "    predictions_array, true_label, img = predictions_array[i], true_label[i], img[i]\n",
        "    plt.grid(False)\n",
        "    plt.xticks([])\n",
        "    plt.yticks([])\n",
        "\n",
        "    plt.imshow(img, cmap=plt.cm.binary)\n",
        "\n",
        "    predicted_label = np.argmax(predictions_array)\n",
        "    if predicted_label == true_label:\n",
        "        color = 'blue'\n",
        "    else:\n",
        "        color = 'red'\n",
        "\n",
        "    plt.xlabel(\"{} {:2.0f}% ({})\".format(class_names[predicted_label],\n",
        "                                         100*np.max(predictions_array),\n",
        "                                         class_names[true_label]),\n",
        "                                         color=color)\n",
        "\n",
        "def plot_value_array(i, predictions_array, true_label):\n",
        "    predictions_array, true_label = predictions_array[i], true_label[i]\n",
        "    plt.grid(False)\n",
        "    plt.xticks(range(10))\n",
        "    plt.yticks([])\n",
        "    thisplot = plt.bar(range(10), predictions_array, color=\"#777777\")\n",
        "    plt.ylim([0, 1])\n",
        "    predicted_label = np.argmax(predictions_array)\n",
        "\n",
        "    thisplot[predicted_label].set_color('red')\n",
        "    thisplot[true_label].set_color('blue')"
      ],
      "execution_count": null,
      "outputs": []
    },
    {
      "cell_type": "markdown",
      "metadata": {
        "id": "Zh9yABaME29S"
      },
      "source": [
        "### Проверка предсказаний\n",
        "\n",
        "Matplotlib нам дает возможность посмотреть наше предсказание графически:"
      ]
    },
    {
      "cell_type": "code",
      "metadata": {
        "id": "HV5jw-5HwSmO",
        "colab": {
          "base_uri": "https://localhost:8080/",
          "height": 211
        },
        "outputId": "aa481f14-f393-4a64-cfed-465377d7478d"
      },
      "source": [
        "i = 7\n",
        "plt.figure(figsize=(6,3))\n",
        "plt.subplot(1,2,1)\n",
        "plot_image(i, predictions, y_test_labels, X_test)\n",
        "plt.subplot(1,2,2)\n",
        "plot_value_array(i, predictions, y_test_labels)\n",
        "plt.show()"
      ],
      "execution_count": null,
      "outputs": [
        {
          "output_type": "display_data",
          "data": {
            "image/png": "[encoded data removed]",
            "text/plain": [
              "<Figure size 432x216 with 2 Axes>"
            ]
          },
          "metadata": {
            "tags": [],
            "needs_background": "light"
          }
        }
      ]
    },
    {
      "cell_type": "code",
      "metadata": {
        "id": "Ko-uzOufSCSe",
        "colab": {
          "base_uri": "https://localhost:8080/",
          "height": 211
        },
        "outputId": "63df2a29-94be-435a-8508-2ee85d88ded8"
      },
      "source": [
        "i = 12\n",
        "plt.figure(figsize=(6,3))\n",
        "plt.subplot(1,2,1)\n",
        "plot_image(i, predictions, y_test_labels, X_test)\n",
        "plt.subplot(1,2,2)\n",
        "plot_value_array(i, predictions, y_test_labels)\n",
        "plt.show()"
      ],
      "execution_count": null,
      "outputs": [
        {
          "output_type": "display_data",
          "data": {
            "image/png": "[encoded data removed]",
            "text/plain": [
              "<Figure size 432x216 with 2 Axes>"
            ]
          },
          "metadata": {
            "tags": [],
            "needs_background": "light"
          }
        }
      ]
    },
    {
      "cell_type": "markdown",
      "metadata": {
        "id": "kgdvGD52CaXR"
      },
      "source": [
        "Давайте сделаем еще несколько предсказаний - "
      ]
    },
    {
      "cell_type": "code",
      "metadata": {
        "id": "hQlnbqaw2Qu_",
        "colab": {
          "base_uri": "https://localhost:8080/",
          "height": 729
        },
        "outputId": "4fa2cc4f-3cef-426e-9b0e-e0afbfc1fbe2"
      },
      "source": [
        "num_rows = 5\n",
        "num_cols = 3\n",
        "num_images = num_rows * num_cols\n",
        "plt.figure(figsize=(2 * 2 * num_cols, 2 * num_rows))\n",
        "\n",
        "for i in range(num_images):\n",
        "    plt.subplot(num_rows, 2 * num_cols, 2 * i + 1)\n",
        "    plot_image(i, predictions, y_test_labels, X_test)\n",
        "    plt.subplot(num_rows, 2 * num_cols, 2 * i + 2)\n",
        "    plot_value_array(i, predictions, y_test_labels)\n",
        "\n",
        "plt.tight_layout()\n",
        "plt.show()"
      ],
      "execution_count": null,
      "outputs": [
        {
          "output_type": "display_data",
          "data": {
            "image/png": "[encoded data removed]",
            "text/plain": [
              "<Figure size 864x720 with 30 Axes>"
            ]
          },
          "metadata": {
            "tags": [],
            "needs_background": "light"
          }
        }
      ]
    },
    {
      "cell_type": "markdown",
      "metadata": {
        "id": "R32zteKHCaXT"
      },
      "source": [
        "## Использование полученной модели\n",
        "\n",
        "Давайте возьмем одно изображение из тестовой выборки и посмотрим предсказание нейронной сети."
      ]
    },
    {
      "cell_type": "code",
      "metadata": {
        "id": "yRJ7JU7JCaXT",
        "colab": {
          "base_uri": "https://localhost:8080/"
        },
        "outputId": "072cdf40-9721-47c3-b5e8-a06f092df02d"
      },
      "source": [
        "i = 0\n",
        "img = X_test[i]\n",
        "\n",
        "print(img.shape)"
      ],
      "execution_count": null,
      "outputs": [
        {
          "output_type": "stream",
          "text": [
            "(28, 28)\n"
          ],
          "name": "stdout"
        }
      ]
    },
    {
      "cell_type": "code",
      "metadata": {
        "id": "lDFh5yF_CaXW",
        "colab": {
          "base_uri": "https://localhost:8080/",
          "height": 72
        },
        "outputId": "f61bc620-5421-40d2-d567-c8100338b4ea"
      },
      "source": [
        "# Add the image to a batch where it's the only member\n",
        "imgs = np.expand_dims(img, 0)\n",
        "\n",
        "print(imgs.shape)\n",
        "\n",
        "display(img.reshape((1, img.shape[0], img.shape[0])).shape, img[None].shape)"
      ],
      "execution_count": null,
      "outputs": [
        {
          "output_type": "stream",
          "text": [
            "(1, 28, 28)\n"
          ],
          "name": "stdout"
        },
        {
          "output_type": "display_data",
          "data": {
            "text/plain": [
              "(1, 28, 28)"
            ]
          },
          "metadata": {
            "tags": []
          }
        },
        {
          "output_type": "display_data",
          "data": {
            "text/plain": [
              "(1, 28, 28)"
            ]
          },
          "metadata": {
            "tags": []
          }
        }
      ]
    },
    {
      "cell_type": "code",
      "metadata": {
        "id": "o_rzNSdrCaXY",
        "colab": {
          "base_uri": "https://localhost:8080/"
        },
        "outputId": "331fc7c5-cf0f-4efd-b9fe-b1ef0c551890"
      },
      "source": [
        "predictions_single = probability_model.predict(imgs)\n",
        "\n",
        "predictions_single"
      ],
      "execution_count": null,
      "outputs": [
        {
          "output_type": "execute_result",
          "data": {
            "text/plain": [
              "array([[4.63711876e-05, 4.86940507e-07, 4.11032624e-06, 1.01069136e-05,\n",
              "        2.71801273e-05, 1.06328838e-01, 9.27040310e-05, 1.02697164e-01,\n",
              "        2.79252953e-03, 7.88000464e-01]], dtype=float32)"
            ]
          },
          "metadata": {
            "tags": []
          },
          "execution_count": 70
        }
      ]
    },
    {
      "cell_type": "code",
      "metadata": {
        "id": "6Ai-cpLjO-3A",
        "colab": {
          "base_uri": "https://localhost:8080/",
          "height": 545
        },
        "outputId": "b95372d7-c0ba-4aeb-8f20-07cf5beab93b"
      },
      "source": [
        "plot_image(i, predictions, y_test_labels, X_test)\n",
        "plt.show()\n",
        "plot_value_array(i, predictions_single, y_test_labels)\n",
        "plt.xticks(range(10), class_names, rotation=45);"
      ],
      "execution_count": null,
      "outputs": [
        {
          "output_type": "display_data",
          "data": {
            "image/png": "[encoded data removed]",
            "text/plain": [
              "<Figure size 432x288 with 1 Axes>"
            ]
          },
          "metadata": {
            "tags": []
          }
        },
        {
          "output_type": "display_data",
          "data": {
            "image/png": "[encoded data removed]",
            "text/plain": [
              "<Figure size 432x288 with 1 Axes>"
            ]
          },
          "metadata": {
            "tags": [],
            "needs_background": "light"
          }
        }
      ]
    },
    {
      "cell_type": "markdown",
      "metadata": {
        "id": "cU1Y2OAMCaXb"
      },
      "source": [
        "`keras.Model.predict` возвращает список списков — по одному списку для каждого предсказания в батче. Нам нужны предсказания только для одного изображения:"
      ]
    },
    {
      "cell_type": "code",
      "metadata": {
        "id": "2tRmdq_8CaXb",
        "colab": {
          "base_uri": "https://localhost:8080/"
        },
        "outputId": "220ef64e-1cbf-4576-bd3d-cfaa5207cbfa"
      },
      "source": [
        "np.argmax(predictions_single[0])"
      ],
      "execution_count": null,
      "outputs": [
        {
          "output_type": "execute_result",
          "data": {
            "text/plain": [
              "9"
            ]
          },
          "metadata": {
            "tags": []
          },
          "execution_count": 72
        }
      ]
    },
    {
      "cell_type": "markdown",
      "metadata": {
        "id": "oiAdZfhLtMJ5"
      },
      "source": [
        "## **Проведем анализ работы модели по слоям**\n",
        "\n",
        "Состояние узлов в сети по эпохам (пакетам) и слоям можно оценить используя средства tensorflow через объект GradientTape() - исполняет шаг вычисления градиента для модели по ее loss для всех тренируемых весов модели (<имя модели>.trainable_weights) (см. https://www.tensorflow.org/guide/basic_training_loops, https://www.tensorflow.org/api_docs/python/tf/GradientTape)\n",
        "\n",
        "\n",
        "данные для обучения получим из tensorflow.data.Dataset (https://www.tensorflow.org/guide/data), куда передаем выборку , а на выходе получаем генератор пакетов заданного размера"
      ]
    },
    {
      "cell_type": "markdown",
      "metadata": {
        "id": "adqoo8fomCjR"
      },
      "source": [
        "Начнем с простого примера, который рассматривали на первом вебинаре, когда изучали граф вычислений.\n",
        "\n",
        "[Ссылка](https://docs.google.com/presentation/d/1Sfj8l91QFkFA6kMCe4CStCRDH5-pmfnZc8AEe8ujudg/edit) на презентацию."
      ]
    },
    {
      "cell_type": "code",
      "metadata": {
        "colab": {
          "base_uri": "https://localhost:8080/"
        },
        "id": "YHeKOSYSwj-m",
        "outputId": "8f349d13-4fc8-441d-a988-835487b6528d"
      },
      "source": [
        "inputs = Input(shape=(1)) \n",
        "outputs = Dense(1, activation='sigmoid')(inputs)\n",
        "model_toy = Model(inputs=inputs, outputs=outputs)\n",
        "\n",
        "# Создадим экземпляр оптимизатора\n",
        "optimizer = Adam(learning_rate=0.01)\n",
        "\n",
        "# Создадим экспемпляр функции потерь\n",
        "loss_fn = tf.keras.losses.MeanSquaredError()\n",
        "\n",
        "model_toy.summary()"
      ],
      "execution_count": null,
      "outputs": [
        {
          "output_type": "stream",
          "text": [
            "Model: \"model_1\"\n",
            "_________________________________________________________________\n",
            "Layer (type)                 Output Shape              Param #   \n",
            "=================================================================\n",
            "input_2 (InputLayer)         [(None, 1)]               0         \n",
            "_________________________________________________________________\n",
            "dense_22 (Dense)             (None, 1)                 2         \n",
            "=================================================================\n",
            "Total params: 2\n",
            "Trainable params: 2\n",
            "Non-trainable params: 0\n",
            "_________________________________________________________________\n"
          ],
          "name": "stdout"
        }
      ]
    },
    {
      "cell_type": "code",
      "metadata": {
        "id": "HlcF27r-eoAC",
        "colab": {
          "base_uri": "https://localhost:8080/"
        },
        "outputId": "ce775320-38b0-47ef-8a67-23b616fd1754"
      },
      "source": [
        "# зададим начальные значения весов\n",
        "params = [np.empty(shape = (1,1), dtype = np.float32), np.empty(shape = (1,), dtype = np.float32)]\n",
        "params[0][0] = 0.417\n",
        "params[1][0] = 0.72\n",
        "\n",
        "model_toy.set_weights(params)\n",
        "model_toy.get_weights()"
      ],
      "execution_count": null,
      "outputs": [
        {
          "output_type": "execute_result",
          "data": {
            "text/plain": [
              "[array([[0.417]], dtype=float32), array([0.72], dtype=float32)]"
            ]
          },
          "metadata": {
            "tags": []
          },
          "execution_count": 86
        }
      ]
    },
    {
      "cell_type": "code",
      "metadata": {
        "colab": {
          "base_uri": "https://localhost:8080/"
        },
        "id": "4z69kC7OuVYz",
        "outputId": "e264011e-ef5c-4de1-eb41-c2b6f102af85"
      },
      "source": [
        "# вычисление сигмоид функции\n",
        "def sigmoid(x):\n",
        "    return 1 / (1 + np.exp(-x))\n",
        "\n",
        "# X_toy = tf.constant([1.0])\n",
        "# y_toy = tf.constant([1.0])\n",
        "\n",
        "X_toy = tf.constant([0.0, 1.0])\n",
        "y_toy = tf.constant([0.0, 1.0])\n",
        "\n",
        "\n",
        "for epoch in range(100):     \n",
        "    # Откроем GradientTape чтобы записать операции\n",
        "    # выполняемые во время прямого прохода, включающего автодифференцирование\n",
        "    with tf.GradientTape() as tape: \n",
        "        # Запустим прямой проход слоя\n",
        "        pred = model_toy(X_toy)\n",
        "        print('Prediction is', pred.numpy())\n",
        "\n",
        "        # Вычислим значение потерь\n",
        "        loss_value = loss_fn(y_toy, pred)\n",
        "        print('Loss is', loss_value.numpy())\n",
        "\n",
        "        # Используем gradient tape для автоматического извлечения градиентов \n",
        "        # обучаемых переменных относительно потерь\n",
        "        grads = tape.gradient(loss_value, model_toy.trainable_weights) \n",
        "        print('Grad are', grads)\n",
        "        \n",
        "\n",
        "    # Выполним один шаг градиентного спуска,\n",
        "    # обновив значение переменных минимизирующих потери\n",
        "    optimizer.apply_gradients(zip(grads, model_toy.trainable_weights)) "
      ],
      "execution_count": null,
      "outputs": [
        {
          "output_type": "stream",
          "text": [
            "Prediction is [[0.23107967]\n",
            " [0.8220184 ]]\n",
            "Loss is 0.042537633\n",
            "Grad are [<tf.Tensor: shape=(1, 1), dtype=float32, numpy=array([[-0.02603945]], dtype=float32)>, <tf.Tensor: shape=(1,), dtype=float32, numpy=array([0.01501921], dtype=float32)>]\n",
            "Prediction is [[0.22975875]\n",
            " [0.8229421 ]]\n",
            "Loss is 0.042069294\n",
            "Grad are [<tf.Tensor: shape=(1, 1), dtype=float32, numpy=array([[-0.02579883]], dtype=float32)>, <tf.Tensor: shape=(1,), dtype=float32, numpy=array([0.0148615], dtype=float32)>]\n",
            "Prediction is [[0.22845681]\n",
            " [0.82385176]]\n",
            "Loss is 0.041610356\n",
            "Grad are [<tf.Tensor: shape=(1, 1), dtype=float32, numpy=array([[-0.02556264]], dtype=float32)>, <tf.Tensor: shape=(1,), dtype=float32, numpy=array([0.01470614], dtype=float32)>]\n",
            "Prediction is [[0.22717348]\n",
            " [0.824748  ]]\n",
            "Loss is 0.04116053\n",
            "Grad are [<tf.Tensor: shape=(1, 1), dtype=float32, numpy=array([[-0.02533071]], dtype=float32)>, <tf.Tensor: shape=(1,), dtype=float32, numpy=array([0.01455316], dtype=float32)>]\n",
            "Prediction is [[0.22590846]\n",
            " [0.8256312 ]]\n",
            "Loss is 0.040719554\n",
            "Grad are [<tf.Tensor: shape=(1, 1), dtype=float32, numpy=array([[-0.02510289]], dtype=float32)>, <tf.Tensor: shape=(1,), dtype=float32, numpy=array([0.01440259], dtype=float32)>]\n",
            "Prediction is [[0.22466134]\n",
            " [0.8265017 ]]\n",
            "Loss is 0.04028718\n",
            "Grad are [<tf.Tensor: shape=(1, 1), dtype=float32, numpy=array([[-0.02487906]], dtype=float32)>, <tf.Tensor: shape=(1,), dtype=float32, numpy=array([0.01425438], dtype=float32)>]\n",
            "Prediction is [[0.22343181]\n",
            " [0.82736   ]]\n",
            "Loss is 0.039863177\n",
            "Grad are [<tf.Tensor: shape=(1, 1), dtype=float32, numpy=array([[-0.02465912]], dtype=float32)>, <tf.Tensor: shape=(1,), dtype=float32, numpy=array([0.01410855], dtype=float32)>]\n",
            "Prediction is [[0.22221954]\n",
            " [0.8282064 ]]\n",
            "Loss is 0.039447278\n",
            "Grad are [<tf.Tensor: shape=(1, 1), dtype=float32, numpy=array([[-0.02444289]], dtype=float32)>, <tf.Tensor: shape=(1,), dtype=float32, numpy=array([0.0139651], dtype=float32)>]\n",
            "Prediction is [[0.22102426]\n",
            " [0.8290413 ]]\n",
            "Loss is 0.0390393\n",
            "Grad are [<tf.Tensor: shape=(1, 1), dtype=float32, numpy=array([[-0.02423029]], dtype=float32)>, <tf.Tensor: shape=(1,), dtype=float32, numpy=array([0.01382402], dtype=float32)>]\n",
            "Prediction is [[0.21984558]\n",
            " [0.82986504]]\n",
            "Loss is 0.03863899\n",
            "Grad are [<tf.Tensor: shape=(1, 1), dtype=float32, numpy=array([[-0.02402119]], dtype=float32)>, <tf.Tensor: shape=(1,), dtype=float32, numpy=array([0.01368529], dtype=float32)>]\n",
            "Prediction is [[0.2186832 ]\n",
            " [0.83067787]]\n",
            "Loss is 0.038246162\n",
            "Grad are [<tf.Tensor: shape=(1, 1), dtype=float32, numpy=array([[-0.02381552]], dtype=float32)>, <tf.Tensor: shape=(1,), dtype=float32, numpy=array([0.01354888], dtype=float32)>]\n",
            "Prediction is [[0.21753682]\n",
            " [0.8314801 ]]\n",
            "Loss is 0.037860617\n",
            "Grad are [<tf.Tensor: shape=(1, 1), dtype=float32, numpy=array([[-0.02361317]], dtype=float32)>, <tf.Tensor: shape=(1,), dtype=float32, numpy=array([0.01341476], dtype=float32)>]\n",
            "Prediction is [[0.2164061 ]\n",
            " [0.83227205]]\n",
            "Loss is 0.037482135\n",
            "Grad are [<tf.Tensor: shape=(1, 1), dtype=float32, numpy=array([[-0.02341403]], dtype=float32)>, <tf.Tensor: shape=(1,), dtype=float32, numpy=array([0.01328293], dtype=float32)>]\n",
            "Prediction is [[0.2152908 ]\n",
            " [0.83305407]]\n",
            "Loss is 0.037110537\n",
            "Grad are [<tf.Tensor: shape=(1, 1), dtype=float32, numpy=array([[-0.02321801]], dtype=float32)>, <tf.Tensor: shape=(1,), dtype=float32, numpy=array([0.01315337], dtype=float32)>]\n",
            "Prediction is [[0.21419056]\n",
            " [0.83382624]]\n",
            "Loss is 0.036745656\n",
            "Grad are [<tf.Tensor: shape=(1, 1), dtype=float32, numpy=array([[-0.02302504]], dtype=float32)>, <tf.Tensor: shape=(1,), dtype=float32, numpy=array([0.013026], dtype=float32)>]\n",
            "Prediction is [[0.21310511]\n",
            " [0.8345889 ]]\n",
            "Loss is 0.036387313\n",
            "Grad are [<tf.Tensor: shape=(1, 1), dtype=float32, numpy=array([[-0.02283505]], dtype=float32)>, <tf.Tensor: shape=(1,), dtype=float32, numpy=array([0.01290083], dtype=float32)>]\n",
            "Prediction is [[0.21203418]\n",
            " [0.83534235]]\n",
            "Loss is 0.036035318\n",
            "Grad are [<tf.Tensor: shape=(1, 1), dtype=float32, numpy=array([[-0.02264792]], dtype=float32)>, <tf.Tensor: shape=(1,), dtype=float32, numpy=array([0.01277784], dtype=float32)>]\n",
            "Prediction is [[0.21097744]\n",
            " [0.8360867 ]]\n",
            "Loss is 0.035689525\n",
            "Grad are [<tf.Tensor: shape=(1, 1), dtype=float32, numpy=array([[-0.02246362]], dtype=float32)>, <tf.Tensor: shape=(1,), dtype=float32, numpy=array([0.01265694], dtype=float32)>]\n",
            "Prediction is [[0.20993467]\n",
            " [0.83682215]]\n",
            "Loss is 0.035349786\n",
            "Grad are [<tf.Tensor: shape=(1, 1), dtype=float32, numpy=array([[-0.02228207]], dtype=float32)>, <tf.Tensor: shape=(1,), dtype=float32, numpy=array([0.01253813], dtype=float32)>]\n",
            "Prediction is [[0.20890552]\n",
            " [0.83754903]]\n",
            "Loss is 0.03501592\n",
            "Grad are [<tf.Tensor: shape=(1, 1), dtype=float32, numpy=array([[-0.02210318]], dtype=float32)>, <tf.Tensor: shape=(1,), dtype=float32, numpy=array([0.01242138], dtype=float32)>]\n",
            "Prediction is [[0.20788981]\n",
            " [0.83826745]]\n",
            "Loss is 0.034687795\n",
            "Grad are [<tf.Tensor: shape=(1, 1), dtype=float32, numpy=array([[-0.02192691]], dtype=float32)>, <tf.Tensor: shape=(1,), dtype=float32, numpy=array([0.01230664], dtype=float32)>]\n",
            "Prediction is [[0.20688722]\n",
            " [0.8389776 ]]\n",
            "Loss is 0.03436527\n",
            "Grad are [<tf.Tensor: shape=(1, 1), dtype=float32, numpy=array([[-0.0217532]], dtype=float32)>, <tf.Tensor: shape=(1,), dtype=float32, numpy=array([0.01219387], dtype=float32)>]\n",
            "Prediction is [[0.2058975 ]\n",
            " [0.83967966]]\n",
            "Loss is 0.034048196\n",
            "Grad are [<tf.Tensor: shape=(1, 1), dtype=float32, numpy=array([[-0.02158196]], dtype=float32)>, <tf.Tensor: shape=(1,), dtype=float32, numpy=array([0.01208304], dtype=float32)>]\n",
            "Prediction is [[0.20492037]\n",
            " [0.8403738 ]]\n",
            "Loss is 0.033736438\n",
            "Grad are [<tf.Tensor: shape=(1, 1), dtype=float32, numpy=array([[-0.02141316]], dtype=float32)>, <tf.Tensor: shape=(1,), dtype=float32, numpy=array([0.01197411], dtype=float32)>]\n",
            "Prediction is [[0.20395564]\n",
            " [0.84106016]]\n",
            "Loss is 0.033429887\n",
            "Grad are [<tf.Tensor: shape=(1, 1), dtype=float32, numpy=array([[-0.02124675]], dtype=float32)>, <tf.Tensor: shape=(1,), dtype=float32, numpy=array([0.01186702], dtype=float32)>]\n",
            "Prediction is [[0.20300303]\n",
            " [0.84173894]]\n",
            "Loss is 0.033128396\n",
            "Grad are [<tf.Tensor: shape=(1, 1), dtype=float32, numpy=array([[-0.02108267]], dtype=float32)>, <tf.Tensor: shape=(1,), dtype=float32, numpy=array([0.01176176], dtype=float32)>]\n",
            "Prediction is [[0.2020623 ]\n",
            " [0.84241027]]\n",
            "Loss is 0.032831848\n",
            "Grad are [<tf.Tensor: shape=(1, 1), dtype=float32, numpy=array([[-0.02092086]], dtype=float32)>, <tf.Tensor: shape=(1,), dtype=float32, numpy=array([0.01165828], dtype=float32)>]\n",
            "Prediction is [[0.20113322]\n",
            " [0.8430743 ]]\n",
            "Loss is 0.03254012\n",
            "Grad are [<tf.Tensor: shape=(1, 1), dtype=float32, numpy=array([[-0.02076127]], dtype=float32)>, <tf.Tensor: shape=(1,), dtype=float32, numpy=array([0.01155655], dtype=float32)>]\n",
            "Prediction is [[0.20021558]\n",
            " [0.84373116]]\n",
            "Loss is 0.032253113\n",
            "Grad are [<tf.Tensor: shape=(1, 1), dtype=float32, numpy=array([[-0.02060387]], dtype=float32)>, <tf.Tensor: shape=(1,), dtype=float32, numpy=array([0.01145651], dtype=float32)>]\n",
            "Prediction is [[0.19930913]\n",
            " [0.84438103]]\n",
            "Loss is 0.031970695\n",
            "Grad are [<tf.Tensor: shape=(1, 1), dtype=float32, numpy=array([[-0.0204486]], dtype=float32)>, <tf.Tensor: shape=(1,), dtype=float32, numpy=array([0.01135815], dtype=float32)>]\n",
            "Prediction is [[0.19841367]\n",
            " [0.8450239 ]]\n",
            "Loss is 0.03169279\n",
            "Grad are [<tf.Tensor: shape=(1, 1), dtype=float32, numpy=array([[-0.02029544]], dtype=float32)>, <tf.Tensor: shape=(1,), dtype=float32, numpy=array([0.01126139], dtype=float32)>]\n",
            "Prediction is [[0.19752897]\n",
            " [0.84566   ]]\n",
            "Loss is 0.03141927\n",
            "Grad are [<tf.Tensor: shape=(1, 1), dtype=float32, numpy=array([[-0.02014433]], dtype=float32)>, <tf.Tensor: shape=(1,), dtype=float32, numpy=array([0.01116624], dtype=float32)>]\n",
            "Prediction is [[0.19665483]\n",
            " [0.8462895 ]]\n",
            "Loss is 0.031150017\n",
            "Grad are [<tf.Tensor: shape=(1, 1), dtype=float32, numpy=array([[-0.01999521]], dtype=float32)>, <tf.Tensor: shape=(1,), dtype=float32, numpy=array([0.01107266], dtype=float32)>]\n",
            "Prediction is [[0.19579104]\n",
            " [0.8469124 ]]\n",
            "Loss is 0.030884974\n",
            "Grad are [<tf.Tensor: shape=(1, 1), dtype=float32, numpy=array([[-0.01984808]], dtype=float32)>, <tf.Tensor: shape=(1,), dtype=float32, numpy=array([0.01098057], dtype=float32)>]\n",
            "Prediction is [[0.1949374]\n",
            " [0.8475288]]\n",
            "Loss is 0.030624025\n",
            "Grad are [<tf.Tensor: shape=(1, 1), dtype=float32, numpy=array([[-0.01970289]], dtype=float32)>, <tf.Tensor: shape=(1,), dtype=float32, numpy=array([0.01088996], dtype=float32)>]\n",
            "Prediction is [[0.1940937]\n",
            " [0.8481389]]\n",
            "Loss is 0.030367076\n",
            "Grad are [<tf.Tensor: shape=(1, 1), dtype=float32, numpy=array([[-0.0195596]], dtype=float32)>, <tf.Tensor: shape=(1,), dtype=float32, numpy=array([0.0108008], dtype=float32)>]\n",
            "Prediction is [[0.19325979]\n",
            " [0.8487428 ]]\n",
            "Loss is 0.030114047\n",
            "Grad are [<tf.Tensor: shape=(1, 1), dtype=float32, numpy=array([[-0.01941817]], dtype=float32)>, <tf.Tensor: shape=(1,), dtype=float32, numpy=array([0.01071305], dtype=float32)>]\n",
            "Prediction is [[0.19243544]\n",
            " [0.84934056]]\n",
            "Loss is 0.029864835\n",
            "Grad are [<tf.Tensor: shape=(1, 1), dtype=float32, numpy=array([[-0.01927856]], dtype=float32)>, <tf.Tensor: shape=(1,), dtype=float32, numpy=array([0.01062669], dtype=float32)>]\n",
            "Prediction is [[0.1916205]\n",
            " [0.8499324]]\n",
            "Loss is 0.029619355\n",
            "Grad are [<tf.Tensor: shape=(1, 1), dtype=float32, numpy=array([[-0.01914073]], dtype=float32)>, <tf.Tensor: shape=(1,), dtype=float32, numpy=array([0.01054169], dtype=float32)>]\n",
            "Prediction is [[0.19081478]\n",
            " [0.85051817]]\n",
            "Loss is 0.02937755\n",
            "Grad are [<tf.Tensor: shape=(1, 1), dtype=float32, numpy=array([[-0.01900467]], dtype=float32)>, <tf.Tensor: shape=(1,), dtype=float32, numpy=array([0.01045799], dtype=float32)>]\n",
            "Prediction is [[0.19001813]\n",
            " [0.8510981 ]]\n",
            "Loss is 0.02913933\n",
            "Grad are [<tf.Tensor: shape=(1, 1), dtype=float32, numpy=array([[-0.01887035]], dtype=float32)>, <tf.Tensor: shape=(1,), dtype=float32, numpy=array([0.01037558], dtype=float32)>]\n",
            "Prediction is [[0.18923034]\n",
            " [0.85167235]]\n",
            "Loss is 0.028904606\n",
            "Grad are [<tf.Tensor: shape=(1, 1), dtype=float32, numpy=array([[-0.01873772]], dtype=float32)>, <tf.Tensor: shape=(1,), dtype=float32, numpy=array([0.01029442], dtype=float32)>]\n",
            "Prediction is [[0.18845126]\n",
            " [0.852241  ]]\n",
            "Loss is 0.028673302\n",
            "Grad are [<tf.Tensor: shape=(1, 1), dtype=float32, numpy=array([[-0.01860674]], dtype=float32)>, <tf.Tensor: shape=(1,), dtype=float32, numpy=array([0.0102145], dtype=float32)>]\n",
            "Prediction is [[0.18768074]\n",
            " [0.85280395]]\n",
            "Loss is 0.028445367\n",
            "Grad are [<tf.Tensor: shape=(1, 1), dtype=float32, numpy=array([[-0.01847743]], dtype=float32)>, <tf.Tensor: shape=(1,), dtype=float32, numpy=array([0.01013575], dtype=float32)>]\n",
            "Prediction is [[0.1869186]\n",
            " [0.8533615]]\n",
            "Loss is 0.02822071\n",
            "Grad are [<tf.Tensor: shape=(1, 1), dtype=float32, numpy=array([[-0.01834971]], dtype=float32)>, <tf.Tensor: shape=(1,), dtype=float32, numpy=array([0.01005819], dtype=float32)>]\n",
            "Prediction is [[0.1861647]\n",
            " [0.8539136]]\n",
            "Loss is 0.027999267\n",
            "Grad are [<tf.Tensor: shape=(1, 1), dtype=float32, numpy=array([[-0.01822357]], dtype=float32)>, <tf.Tensor: shape=(1,), dtype=float32, numpy=array([0.00998176], dtype=float32)>]\n",
            "Prediction is [[0.18541892]\n",
            " [0.85446036]]\n",
            "Loss is 0.02778098\n",
            "Grad are [<tf.Tensor: shape=(1, 1), dtype=float32, numpy=array([[-0.018099]], dtype=float32)>, <tf.Tensor: shape=(1,), dtype=float32, numpy=array([0.00990644], dtype=float32)>]\n",
            "Prediction is [[0.18468107]\n",
            " [0.85500187]]\n",
            "Loss is 0.02756578\n",
            "Grad are [<tf.Tensor: shape=(1, 1), dtype=float32, numpy=array([[-0.01797595]], dtype=float32)>, <tf.Tensor: shape=(1,), dtype=float32, numpy=array([0.00983221], dtype=float32)>]\n",
            "Prediction is [[0.18395102]\n",
            " [0.85553825]]\n",
            "Loss is 0.027353588\n",
            "Grad are [<tf.Tensor: shape=(1, 1), dtype=float32, numpy=array([[-0.0178544]], dtype=float32)>, <tf.Tensor: shape=(1,), dtype=float32, numpy=array([0.00975905], dtype=float32)>]\n",
            "Prediction is [[0.18322863]\n",
            " [0.8560695 ]]\n",
            "Loss is 0.027144358\n",
            "Grad are [<tf.Tensor: shape=(1, 1), dtype=float32, numpy=array([[-0.01773432]], dtype=float32)>, <tf.Tensor: shape=(1,), dtype=float32, numpy=array([0.00968692], dtype=float32)>]\n",
            "Prediction is [[0.18251379]\n",
            " [0.8565959 ]]\n",
            "Loss is 0.026938014\n",
            "Grad are [<tf.Tensor: shape=(1, 1), dtype=float32, numpy=array([[-0.01761567]], dtype=float32)>, <tf.Tensor: shape=(1,), dtype=float32, numpy=array([0.00961584], dtype=float32)>]\n",
            "Prediction is [[0.18180633]\n",
            " [0.8571171 ]]\n",
            "Loss is 0.026734529\n",
            "Grad are [<tf.Tensor: shape=(1, 1), dtype=float32, numpy=array([[-0.01749849]], dtype=float32)>, <tf.Tensor: shape=(1,), dtype=float32, numpy=array([0.00954571], dtype=float32)>]\n",
            "Prediction is [[0.18110614]\n",
            " [0.85763365]]\n",
            "Loss is 0.026533805\n",
            "Grad are [<tf.Tensor: shape=(1, 1), dtype=float32, numpy=array([[-0.01738267]], dtype=float32)>, <tf.Tensor: shape=(1,), dtype=float32, numpy=array([0.00947659], dtype=float32)>]\n",
            "Prediction is [[0.1804131 ]\n",
            " [0.85814524]]\n",
            "Loss is 0.02633583\n",
            "Grad are [<tf.Tensor: shape=(1, 1), dtype=float32, numpy=array([[-0.01726826]], dtype=float32)>, <tf.Tensor: shape=(1,), dtype=float32, numpy=array([0.00940838], dtype=float32)>]\n",
            "Prediction is [[0.17972708]\n",
            " [0.85865223]]\n",
            "Loss is 0.026140505\n",
            "Grad are [<tf.Tensor: shape=(1, 1), dtype=float32, numpy=array([[-0.01715518]], dtype=float32)>, <tf.Tensor: shape=(1,), dtype=float32, numpy=array([0.00934113], dtype=float32)>]\n",
            "Prediction is [[0.17904796]\n",
            " [0.85915446]]\n",
            "Loss is 0.025947819\n",
            "Grad are [<tf.Tensor: shape=(1, 1), dtype=float32, numpy=array([[-0.01704345]], dtype=float32)>, <tf.Tensor: shape=(1,), dtype=float32, numpy=array([0.00927478], dtype=float32)>]\n",
            "Prediction is [[0.17837562]\n",
            " [0.8596521 ]]\n",
            "Loss is 0.025757696\n",
            "Grad are [<tf.Tensor: shape=(1, 1), dtype=float32, numpy=array([[-0.01693303]], dtype=float32)>, <tf.Tensor: shape=(1,), dtype=float32, numpy=array([0.00920931], dtype=float32)>]\n",
            "Prediction is [[0.17770995]\n",
            " [0.8601453 ]]\n",
            "Loss is 0.025570087\n",
            "Grad are [<tf.Tensor: shape=(1, 1), dtype=float32, numpy=array([[-0.01682388]], dtype=float32)>, <tf.Tensor: shape=(1,), dtype=float32, numpy=array([0.00914472], dtype=float32)>]\n",
            "Prediction is [[0.17705084]\n",
            " [0.8606339 ]]\n",
            "Loss is 0.025384955\n",
            "Grad are [<tf.Tensor: shape=(1, 1), dtype=float32, numpy=array([[-0.01671601]], dtype=float32)>, <tf.Tensor: shape=(1,), dtype=float32, numpy=array([0.00908098], dtype=float32)>]\n",
            "Prediction is [[0.17639817]\n",
            " [0.86111814]]\n",
            "Loss is 0.025202245\n",
            "Grad are [<tf.Tensor: shape=(1, 1), dtype=float32, numpy=array([[-0.01660939]], dtype=float32)>, <tf.Tensor: shape=(1,), dtype=float32, numpy=array([0.00901806], dtype=float32)>]\n",
            "Prediction is [[0.17575185]\n",
            " [0.861598  ]]\n",
            "Loss is 0.02502191\n",
            "Grad are [<tf.Tensor: shape=(1, 1), dtype=float32, numpy=array([[-0.016504]], dtype=float32)>, <tf.Tensor: shape=(1,), dtype=float32, numpy=array([0.00895596], dtype=float32)>]\n",
            "Prediction is [[0.17511176]\n",
            " [0.86207366]]\n",
            "Loss is 0.024843901\n",
            "Grad are [<tf.Tensor: shape=(1, 1), dtype=float32, numpy=array([[-0.01639981]], dtype=float32)>, <tf.Tensor: shape=(1,), dtype=float32, numpy=array([0.00889467], dtype=float32)>]\n",
            "Prediction is [[0.17447782]\n",
            " [0.8625451 ]]\n",
            "Loss is 0.024668183\n",
            "Grad are [<tf.Tensor: shape=(1, 1), dtype=float32, numpy=array([[-0.0162968]], dtype=float32)>, <tf.Tensor: shape=(1,), dtype=float32, numpy=array([0.00883416], dtype=float32)>]\n",
            "Prediction is [[0.17384991]\n",
            " [0.8630124 ]]\n",
            "Loss is 0.0244947\n",
            "Grad are [<tf.Tensor: shape=(1, 1), dtype=float32, numpy=array([[-0.01619495]], dtype=float32)>, <tf.Tensor: shape=(1,), dtype=float32, numpy=array([0.00877443], dtype=float32)>]\n",
            "Prediction is [[0.17322795]\n",
            " [0.86347544]]\n",
            "Loss is 0.02432344\n",
            "Grad are [<tf.Tensor: shape=(1, 1), dtype=float32, numpy=array([[-0.01609428]], dtype=float32)>, <tf.Tensor: shape=(1,), dtype=float32, numpy=array([0.00871543], dtype=float32)>]\n",
            "Prediction is [[0.17261182]\n",
            " [0.8639345 ]]\n",
            "Loss is 0.024154328\n",
            "Grad are [<tf.Tensor: shape=(1, 1), dtype=float32, numpy=array([[-0.01599472]], dtype=float32)>, <tf.Tensor: shape=(1,), dtype=float32, numpy=array([0.00865717], dtype=float32)>]\n",
            "Prediction is [[0.17200147]\n",
            " [0.8643896 ]]\n",
            "Loss is 0.023987342\n",
            "Grad are [<tf.Tensor: shape=(1, 1), dtype=float32, numpy=array([[-0.01589628]], dtype=float32)>, <tf.Tensor: shape=(1,), dtype=float32, numpy=array([0.00859964], dtype=float32)>]\n",
            "Prediction is [[0.17139678]\n",
            " [0.8648408 ]]\n",
            "Loss is 0.02382243\n",
            "Grad are [<tf.Tensor: shape=(1, 1), dtype=float32, numpy=array([[-0.01579892]], dtype=float32)>, <tf.Tensor: shape=(1,), dtype=float32, numpy=array([0.00854284], dtype=float32)>]\n",
            "Prediction is [[0.17079766]\n",
            " [0.8652881 ]]\n",
            "Loss is 0.023659572\n",
            "Grad are [<tf.Tensor: shape=(1, 1), dtype=float32, numpy=array([[-0.01570264]], dtype=float32)>, <tf.Tensor: shape=(1,), dtype=float32, numpy=array([0.00848671], dtype=float32)>]\n",
            "Prediction is [[0.17020403]\n",
            " [0.8657315 ]]\n",
            "Loss is 0.023498723\n",
            "Grad are [<tf.Tensor: shape=(1, 1), dtype=float32, numpy=array([[-0.01560744]], dtype=float32)>, <tf.Tensor: shape=(1,), dtype=float32, numpy=array([0.00843126], dtype=float32)>]\n",
            "Prediction is [[0.1696158 ]\n",
            " [0.86617106]]\n",
            "Loss is 0.023339853\n",
            "Grad are [<tf.Tensor: shape=(1, 1), dtype=float32, numpy=array([[-0.01551328]], dtype=float32)>, <tf.Tensor: shape=(1,), dtype=float32, numpy=array([0.00837647], dtype=float32)>]\n",
            "Prediction is [[0.16903292]\n",
            " [0.86660707]]\n",
            "Loss is 0.0231829\n",
            "Grad are [<tf.Tensor: shape=(1, 1), dtype=float32, numpy=array([[-0.01542012]], dtype=float32)>, <tf.Tensor: shape=(1,), dtype=float32, numpy=array([0.00832237], dtype=float32)>]\n",
            "Prediction is [[0.16845526]\n",
            " [0.8670392 ]]\n",
            "Loss is 0.023027875\n",
            "Grad are [<tf.Tensor: shape=(1, 1), dtype=float32, numpy=array([[-0.01532802]], dtype=float32)>, <tf.Tensor: shape=(1,), dtype=float32, numpy=array([0.00826887], dtype=float32)>]\n",
            "Prediction is [[0.16788277]\n",
            " [0.8674679 ]]\n",
            "Loss is 0.022874694\n",
            "Grad are [<tf.Tensor: shape=(1, 1), dtype=float32, numpy=array([[-0.01523687]], dtype=float32)>, <tf.Tensor: shape=(1,), dtype=float32, numpy=array([0.00821604], dtype=float32)>]\n",
            "Prediction is [[0.16731538]\n",
            " [0.86789286]]\n",
            "Loss is 0.022723366\n",
            "Grad are [<tf.Tensor: shape=(1, 1), dtype=float32, numpy=array([[-0.01514672]], dtype=float32)>, <tf.Tensor: shape=(1,), dtype=float32, numpy=array([0.00816381], dtype=float32)>]\n",
            "Prediction is [[0.166753 ]\n",
            " [0.8683144]]\n",
            "Loss is 0.022573832\n",
            "Grad are [<tf.Tensor: shape=(1, 1), dtype=float32, numpy=array([[-0.01505753]], dtype=float32)>, <tf.Tensor: shape=(1,), dtype=float32, numpy=array([0.00811221], dtype=float32)>]\n",
            "Prediction is [[0.16619554]\n",
            " [0.86873233]]\n",
            "Loss is 0.02242608\n",
            "Grad are [<tf.Tensor: shape=(1, 1), dtype=float32, numpy=array([[-0.0149693]], dtype=float32)>, <tf.Tensor: shape=(1,), dtype=float32, numpy=array([0.00806118], dtype=float32)>]\n",
            "Prediction is [[0.16564296]\n",
            " [0.86914694]]\n",
            "Loss is 0.022280056\n",
            "Grad are [<tf.Tensor: shape=(1, 1), dtype=float32, numpy=array([[-0.01488199]], dtype=float32)>, <tf.Tensor: shape=(1,), dtype=float32, numpy=array([0.00801076], dtype=float32)>]\n",
            "Prediction is [[0.16509518]\n",
            " [0.8695581 ]]\n",
            "Loss is 0.022135753\n",
            "Grad are [<tf.Tensor: shape=(1, 1), dtype=float32, numpy=array([[-0.01479561]], dtype=float32)>, <tf.Tensor: shape=(1,), dtype=float32, numpy=array([0.0079609], dtype=float32)>]\n",
            "Prediction is [[0.16455212]\n",
            " [0.8699659 ]]\n",
            "Loss is 0.021993132\n",
            "Grad are [<tf.Tensor: shape=(1, 1), dtype=float32, numpy=array([[-0.01471014]], dtype=float32)>, <tf.Tensor: shape=(1,), dtype=float32, numpy=array([0.00791162], dtype=float32)>]\n",
            "Prediction is [[0.16401373]\n",
            " [0.87037045]]\n",
            "Loss is 0.021852162\n",
            "Grad are [<tf.Tensor: shape=(1, 1), dtype=float32, numpy=array([[-0.01462555]], dtype=float32)>, <tf.Tensor: shape=(1,), dtype=float32, numpy=array([0.0078629], dtype=float32)>]\n",
            "Prediction is [[0.16347992]\n",
            " [0.8707717 ]]\n",
            "Loss is 0.021712817\n",
            "Grad are [<tf.Tensor: shape=(1, 1), dtype=float32, numpy=array([[-0.01454184]], dtype=float32)>, <tf.Tensor: shape=(1,), dtype=float32, numpy=array([0.00781473], dtype=float32)>]\n",
            "Prediction is [[0.16295063]\n",
            " [0.8711697 ]]\n",
            "Loss is 0.02157508\n",
            "Grad are [<tf.Tensor: shape=(1, 1), dtype=float32, numpy=array([[-0.01445902]], dtype=float32)>, <tf.Tensor: shape=(1,), dtype=float32, numpy=array([0.00776708], dtype=float32)>]\n",
            "Prediction is [[0.16242582]\n",
            " [0.8715645 ]]\n",
            "Loss is 0.021438912\n",
            "Grad are [<tf.Tensor: shape=(1, 1), dtype=float32, numpy=array([[-0.01437705]], dtype=float32)>, <tf.Tensor: shape=(1,), dtype=float32, numpy=array([0.00771996], dtype=float32)>]\n",
            "Prediction is [[0.1619054]\n",
            " [0.8719562]]\n",
            "Loss is 0.021304281\n",
            "Grad are [<tf.Tensor: shape=(1, 1), dtype=float32, numpy=array([[-0.0142959]], dtype=float32)>, <tf.Tensor: shape=(1,), dtype=float32, numpy=array([0.00767337], dtype=float32)>]\n",
            "Prediction is [[0.16138932]\n",
            " [0.8723448 ]]\n",
            "Loss is 0.021171182\n",
            "Grad are [<tf.Tensor: shape=(1, 1), dtype=float32, numpy=array([[-0.0142156]], dtype=float32)>, <tf.Tensor: shape=(1,), dtype=float32, numpy=array([0.00762728], dtype=float32)>]\n",
            "Prediction is [[0.16087751]\n",
            " [0.8727303 ]]\n",
            "Loss is 0.021039573\n",
            "Grad are [<tf.Tensor: shape=(1, 1), dtype=float32, numpy=array([[-0.01413611]], dtype=float32)>, <tf.Tensor: shape=(1,), dtype=float32, numpy=array([0.0075817], dtype=float32)>]\n",
            "Prediction is [[0.16036995]\n",
            " [0.87311286]]\n",
            "Loss is 0.020909432\n",
            "Grad are [<tf.Tensor: shape=(1, 1), dtype=float32, numpy=array([[-0.01405742]], dtype=float32)>, <tf.Tensor: shape=(1,), dtype=float32, numpy=array([0.00753662], dtype=float32)>]\n",
            "Prediction is [[0.15986653]\n",
            " [0.8734924 ]]\n",
            "Loss is 0.020780737\n",
            "Grad are [<tf.Tensor: shape=(1, 1), dtype=float32, numpy=array([[-0.01397952]], dtype=float32)>, <tf.Tensor: shape=(1,), dtype=float32, numpy=array([0.00749203], dtype=float32)>]\n",
            "Prediction is [[0.15936722]\n",
            " [0.87386906]]\n",
            "Loss is 0.020653462\n",
            "Grad are [<tf.Tensor: shape=(1, 1), dtype=float32, numpy=array([[-0.01390239]], dtype=float32)>, <tf.Tensor: shape=(1,), dtype=float32, numpy=array([0.00744792], dtype=float32)>]\n",
            "Prediction is [[0.15887196]\n",
            " [0.8742427 ]]\n",
            "Loss is 0.020527598\n",
            "Grad are [<tf.Tensor: shape=(1, 1), dtype=float32, numpy=array([[-0.01382605]], dtype=float32)>, <tf.Tensor: shape=(1,), dtype=float32, numpy=array([0.00740427], dtype=float32)>]\n",
            "Prediction is [[0.1583807]\n",
            " [0.8746135]]\n",
            "Loss is 0.020403108\n",
            "Grad are [<tf.Tensor: shape=(1, 1), dtype=float32, numpy=array([[-0.01375047]], dtype=float32)>, <tf.Tensor: shape=(1,), dtype=float32, numpy=array([0.00736108], dtype=float32)>]\n",
            "Prediction is [[0.15789339]\n",
            " [0.8749815 ]]\n",
            "Loss is 0.02027997\n",
            "Grad are [<tf.Tensor: shape=(1, 1), dtype=float32, numpy=array([[-0.01367563]], dtype=float32)>, <tf.Tensor: shape=(1,), dtype=float32, numpy=array([0.00731836], dtype=float32)>]\n",
            "Prediction is [[0.15740998]\n",
            " [0.8753467 ]]\n",
            "Loss is 0.020158172\n",
            "Grad are [<tf.Tensor: shape=(1, 1), dtype=float32, numpy=array([[-0.01360152]], dtype=float32)>, <tf.Tensor: shape=(1,), dtype=float32, numpy=array([0.00727609], dtype=float32)>]\n",
            "Prediction is [[0.15693039]\n",
            " [0.8757092 ]]\n",
            "Loss is 0.020037677\n",
            "Grad are [<tf.Tensor: shape=(1, 1), dtype=float32, numpy=array([[-0.01352814]], dtype=float32)>, <tf.Tensor: shape=(1,), dtype=float32, numpy=array([0.00723426], dtype=float32)>]\n",
            "Prediction is [[0.1564546 ]\n",
            " [0.87606883]]\n",
            "Loss is 0.019918486\n",
            "Grad are [<tf.Tensor: shape=(1, 1), dtype=float32, numpy=array([[-0.01345548]], dtype=float32)>, <tf.Tensor: shape=(1,), dtype=float32, numpy=array([0.00719285], dtype=float32)>]\n",
            "Prediction is [[0.15598252]\n",
            " [0.8764258 ]]\n",
            "Loss is 0.019800564\n",
            "Grad are [<tf.Tensor: shape=(1, 1), dtype=float32, numpy=array([[-0.01338353]], dtype=float32)>, <tf.Tensor: shape=(1,), dtype=float32, numpy=array([0.00715188], dtype=float32)>]\n",
            "Prediction is [[0.15551417]\n",
            " [0.87678015]]\n",
            "Loss is 0.019683894\n",
            "Grad are [<tf.Tensor: shape=(1, 1), dtype=float32, numpy=array([[-0.01331227]], dtype=float32)>, <tf.Tensor: shape=(1,), dtype=float32, numpy=array([0.00711133], dtype=float32)>]\n",
            "Prediction is [[0.15504944]\n",
            " [0.8771319 ]]\n",
            "Loss is 0.019568453\n",
            "Grad are [<tf.Tensor: shape=(1, 1), dtype=float32, numpy=array([[-0.01324169]], dtype=float32)>, <tf.Tensor: shape=(1,), dtype=float32, numpy=array([0.0070712], dtype=float32)>]\n",
            "Prediction is [[0.15458831]\n",
            " [0.87748104]]\n",
            "Loss is 0.01945422\n",
            "Grad are [<tf.Tensor: shape=(1, 1), dtype=float32, numpy=array([[-0.01317178]], dtype=float32)>, <tf.Tensor: shape=(1,), dtype=float32, numpy=array([0.00703149], dtype=float32)>]\n"
          ],
          "name": "stdout"
        }
      ]
    },
    {
      "cell_type": "code",
      "metadata": {
        "id": "mhdCwrGLldAb",
        "colab": {
          "base_uri": "https://localhost:8080/"
        },
        "outputId": "4126f000-380f-4af4-e0cc-9c6c3f319445"
      },
      "source": [
        "model_toy.trainable_weights"
      ],
      "execution_count": null,
      "outputs": [
        {
          "output_type": "execute_result",
          "data": {
            "text/plain": [
              "[<tf.Variable 'dense_22/kernel:0' shape=(1, 1) dtype=float32, numpy=array([[3.67458]], dtype=float32)>,\n",
              " <tf.Variable 'dense_22/bias:0' shape=(1,) dtype=float32, numpy=array([-1.7025636], dtype=float32)>]"
            ]
          },
          "metadata": {
            "tags": []
          },
          "execution_count": 91
        }
      ]
    },
    {
      "cell_type": "code",
      "metadata": {
        "id": "8pvPjKb9-mxY",
        "colab": {
          "base_uri": "https://localhost:8080/"
        },
        "outputId": "2d2bc794-9c53-49ab-808b-659d2b2d5d2d"
      },
      "source": [
        "model_toy.predict([0.0, 1.0])"
      ],
      "execution_count": null,
      "outputs": [
        {
          "output_type": "execute_result",
          "data": {
            "text/plain": [
              "array([[0.15413074],\n",
              "       [0.8778276 ]], dtype=float32)"
            ]
          },
          "metadata": {
            "tags": []
          },
          "execution_count": 92
        }
      ]
    },
    {
      "cell_type": "markdown",
      "metadata": {
        "id": "H94Am0OOmdk9"
      },
      "source": [
        "Теперь возвращаемся к примеру с картинками."
      ]
    },
    {
      "cell_type": "code",
      "metadata": {
        "id": "OCMo1w13mswi",
        "colab": {
          "base_uri": "https://localhost:8080/"
        },
        "outputId": "770f9c3d-f385-4cf4-d986-a3fcd65e3767"
      },
      "source": [
        "# собираем сеть\n",
        "# level = 2\n",
        "level = 6\n",
        "\n",
        "inputs = Input(shape=(28, 28, 1), name='digits') \n",
        "x = Flatten()(inputs)\n",
        "\n",
        "for i in range(level):\n",
        "    # x = Dense(64, activation='sigmoid', name=f'dense_{i}')(x)\n",
        "    x = Dense(64, activation='relu', name=f'dense_{i}')(x)\n",
        "\n",
        "\n",
        "outputs = Dense(10, activation='sigmoid', name='predictions')(x) \n",
        "modelg = Model(inputs=inputs, outputs=outputs) \n",
        "modelg.summary()"
      ],
      "execution_count": null,
      "outputs": [
        {
          "output_type": "stream",
          "text": [
            "Model: \"model_5\"\n",
            "_________________________________________________________________\n",
            "Layer (type)                 Output Shape              Param #   \n",
            "=================================================================\n",
            "digits (InputLayer)          [(None, 28, 28, 1)]       0         \n",
            "_________________________________________________________________\n",
            "flatten_5 (Flatten)          (None, 784)               0         \n",
            "_________________________________________________________________\n",
            "dense_0 (Dense)              (None, 64)                50240     \n",
            "_________________________________________________________________\n",
            "dense_1 (Dense)              (None, 64)                4160      \n",
            "_________________________________________________________________\n",
            "dense_2 (Dense)              (None, 64)                4160      \n",
            "_________________________________________________________________\n",
            "dense_3 (Dense)              (None, 64)                4160      \n",
            "_________________________________________________________________\n",
            "dense_4 (Dense)              (None, 64)                4160      \n",
            "_________________________________________________________________\n",
            "dense_5 (Dense)              (None, 64)                4160      \n",
            "_________________________________________________________________\n",
            "predictions (Dense)          (None, 10)                650       \n",
            "=================================================================\n",
            "Total params: 71,690\n",
            "Trainable params: 71,690\n",
            "Non-trainable params: 0\n",
            "_________________________________________________________________\n"
          ],
          "name": "stdout"
        }
      ]
    },
    {
      "cell_type": "code",
      "metadata": {
        "id": "N_SOf1L5pLNw"
      },
      "source": [
        "# Создадим экземпляр оптимизатора\n",
        "optimizer = Adam(learning_rate=1e-3) \n",
        "\n",
        "# Создадим экспемпляр функции потерь\n",
        "loss_fn = tf.keras.losses.MeanSquaredError()\n",
        "\n",
        "# Подготовим тренировочный датасет\n",
        "batch_size = 64\n",
        "train_dataset = tf.data.Dataset.from_tensor_slices((X_train, y_train)) \n",
        "train_dataset = train_dataset.shuffle(buffer_size=X_train.shape[0]).batch(batch_size) "
      ],
      "execution_count": null,
      "outputs": []
    },
    {
      "cell_type": "code",
      "metadata": {
        "id": "iVBfZM_0M6Ds",
        "colab": {
          "base_uri": "https://localhost:8080/"
        },
        "outputId": "bbd0b911-e94d-4a1f-fac4-0dc6e3d28a92"
      },
      "source": [
        "for batch in train_dataset:\n",
        "    print('Shape of images', batch[0].shape)\n",
        "    print('Shape of labels', batch[1].shape)\n",
        "    break"
      ],
      "execution_count": null,
      "outputs": [
        {
          "output_type": "stream",
          "text": [
            "Shape of images (64, 28, 28)\n",
            "Shape of labels (64, 10)\n"
          ],
          "name": "stdout"
        }
      ]
    },
    {
      "cell_type": "code",
      "metadata": {
        "colab": {
          "base_uri": "https://localhost:8080/"
        },
        "id": "MCylIliIpcSK",
        "outputId": "52f8860e-1f07-4621-9680-03375f7bf664"
      },
      "source": [
        "# Итерируем по эпохам\n",
        "grad_log = []\n",
        "\n",
        "epochs = 2  # учим немного, т.к. задача посмотреть , что происходит с градиентом\n",
        "\n",
        "for epoch in range(epochs): \n",
        "    print(f'\\nНачинаем эпоху {epoch}') \n",
        "\n",
        "    # Итерируем по батчам в датасете\n",
        "    for step, (x_batch_train, y_batch_train) in enumerate(train_dataset): \n",
        "        \n",
        "        # Откроем GradientTape чтобы записать операции\n",
        "        # выполняемые во время прямого прохода, включающего автодифференцирование\n",
        "        with tf.GradientTape() as tape: \n",
        "            # Запустим прямой проход слоя\n",
        "            preds = modelg(x_batch_train) \n",
        "\n",
        "            # Вычислим значение потерь для этого батча\n",
        "            loss_value = loss_fn(y_batch_train, preds)\n",
        "\n",
        "            # Используем gradient tape для автоматического извлечения градиентов \n",
        "            # обучаемых переменных относительно потерь\n",
        "            grads = tape.gradient(loss_value, modelg.trainable_weights) \n",
        "            g_g = []\n",
        "\n",
        "            # пишем логи для сохранения значений градиента и веса по одной цепи \n",
        "            for g_s in grads:\n",
        "                # допишем логи значений градиента в зависимости от размера тензора градиента\n",
        "                # if len(g_s.numpy().shape) == 1:\n",
        "                #     g_g.append(g_s.numpy()[0])\n",
        "                if len(g_s.numpy().shape) == 2:\n",
        "                    g_g.append(g_s.numpy()[0, 0]) \n",
        "\n",
        "                \n",
        "        # добавляем текущие логи по слоям к общей записи\n",
        "        grad_log.append(g_g)\n",
        "\n",
        "        # Выполним один шаг градиентного спуска,\n",
        "        # обновив значение переменных минимизирующих потери\n",
        "        optimizer.apply_gradients(zip(grads, modelg.trainable_weights)) \n",
        "\n",
        "        # Пишем лог каждые 200 шагов\n",
        "        if step % 200 == 0:\n",
        "            print(f'Эпоха {epoch + 1}/{epochs}', end='. ')\n",
        "            print(f'Шаг {step}. Лосс на обучении (для одного батча) на шаге: {loss_value}') \n",
        "            print(f'Уже увидели: {(step + 1) * batch_size} примеров')"
      ],
      "execution_count": null,
      "outputs": [
        {
          "output_type": "stream",
          "text": [
            "\n",
            "Начинаем эпоху 0\n",
            "Эпоха 1/2. Шаг 0. Лосс на обучении (для одного батча) на шаге: 0.2480945885181427\n",
            "Уже увидели: 64 примеров\n",
            "Эпоха 1/2. Шаг 200. Лосс на обучении (для одного батча) на шаге: 0.07683099061250687\n",
            "Уже увидели: 12864 примеров\n",
            "Эпоха 1/2. Шаг 400. Лосс на обучении (для одного батча) на шаге: 0.06105969101190567\n",
            "Уже увидели: 25664 примеров\n",
            "Эпоха 1/2. Шаг 600. Лосс на обучении (для одного батча) на шаге: 0.036271750926971436\n",
            "Уже увидели: 38464 примеров\n",
            "Эпоха 1/2. Шаг 800. Лосс на обучении (для одного батча) на шаге: 0.025264441967010498\n",
            "Уже увидели: 51264 примеров\n",
            "\n",
            "Начинаем эпоху 1\n",
            "Эпоха 2/2. Шаг 0. Лосс на обучении (для одного батча) на шаге: 0.03457394987344742\n",
            "Уже увидели: 64 примеров\n",
            "Эпоха 2/2. Шаг 200. Лосс на обучении (для одного батча) на шаге: 0.018355362117290497\n",
            "Уже увидели: 12864 примеров\n",
            "Эпоха 2/2. Шаг 400. Лосс на обучении (для одного батча) на шаге: 0.02395709604024887\n",
            "Уже увидели: 25664 примеров\n",
            "Эпоха 2/2. Шаг 600. Лосс на обучении (для одного батча) на шаге: 0.019206227734684944\n",
            "Уже увидели: 38464 примеров\n",
            "Эпоха 2/2. Шаг 800. Лосс на обучении (для одного батча) на шаге: 0.012875717133283615\n",
            "Уже увидели: 51264 примеров\n"
          ],
          "name": "stdout"
        }
      ]
    },
    {
      "cell_type": "code",
      "metadata": {
        "colab": {
          "base_uri": "https://localhost:8080/",
          "height": 350
        },
        "id": "PN7GXEPBri2u",
        "outputId": "90f91f21-ec4c-420e-a84c-2e40c9589cfa"
      },
      "source": [
        "grad_log = np.array(grad_log)\n",
        "\n",
        "plt.figure(figsize=(16, 5))\n",
        "plt.title('Градиент по слоям')\n",
        "plt.xlabel('№ layer')\n",
        "plt.ylabel('grad')\n",
        "plt.grid()\n",
        "plt.plot(np.abs(grad_log[0, :]), label='step 0')\n",
        "plt.plot(np.abs(grad_log[10, :]), label='step 10')\n",
        "plt.plot(np.abs(grad_log[100, :]), label='step 100')\n",
        "plt.plot(np.abs(grad_log[700, :]), label='step 700')\n",
        "plt.legend()\n",
        "plt.show()"
      ],
      "execution_count": null,
      "outputs": [
        {
          "output_type": "display_data",
          "data": {
            "image/png": "[encoded data removed]",
            "text/plain": [
              "<Figure size 1152x360 with 1 Axes>"
            ]
          },
          "metadata": {
            "tags": [],
            "needs_background": "light"
          }
        }
      ]
    },
    {
      "cell_type": "markdown",
      "metadata": {
        "id": "t3U0Cng8tDQg"
      },
      "source": [
        "Видим, что чем дальше слой от функции потерь, чем он ближе к началу, тем градиент становится меньше.\n",
        "\n",
        "Итого, если хочется более детально и низкоуровнево следить за обучением модели, нужно сделать следующие шаги:\n",
        "1. Взять батч объектов\n",
        "2. Получить предсказания модель на объктах\n",
        "3. Посчитать ошибку предсказания\n",
        "4. Посчитать градиенты\n",
        "5. Сделать шаг оптимизации"
      ]
    },
    {
      "cell_type": "markdown",
      "metadata": {
        "id": "Eh-unHPRwe7M"
      },
      "source": [
        "### Сделаем анализ ошибок модели"
      ]
    },
    {
      "cell_type": "code",
      "metadata": {
        "id": "5c6MdztxalDc"
      },
      "source": [
        "from sklearn.metrics import confusion_matrix, ConfusionMatrixDisplay"
      ],
      "execution_count": null,
      "outputs": []
    },
    {
      "cell_type": "code",
      "metadata": {
        "colab": {
          "base_uri": "https://localhost:8080/"
        },
        "id": "ApcYAUE4dr8q",
        "outputId": "2c2b986a-ea50-4b54-8d30-77f7c9208a96"
      },
      "source": [
        "y_pred = np.argmax(modelg.predict(X_test), axis=1)\n",
        "y_pred[:10]"
      ],
      "execution_count": null,
      "outputs": [
        {
          "output_type": "execute_result",
          "data": {
            "text/plain": [
              "array([9, 2, 1, 1, 6, 1, 4, 6, 5, 7])"
            ]
          },
          "metadata": {
            "tags": []
          },
          "execution_count": 114
        }
      ]
    },
    {
      "cell_type": "code",
      "metadata": {
        "colab": {
          "base_uri": "https://localhost:8080/"
        },
        "id": "DG7c3AV9ekyg",
        "outputId": "cfd7bcd8-051d-4fc4-f426-aa2fcbe98887"
      },
      "source": [
        "CM = confusion_matrix(y_test_labels, y_pred)\n",
        "print(CM)"
      ],
      "execution_count": null,
      "outputs": [
        {
          "output_type": "stream",
          "text": [
            "[[770   2  24  78   7   0 112   0   6   1]\n",
            " [  3 947   6  36   6   0   1   0   1   0]\n",
            " [ 16   0 803  13  66   0 101   0   1   0]\n",
            " [ 16   7  19 881  44   0  31   0   2   0]\n",
            " [  0   0 187  31 654   0 125   0   3   0]\n",
            " [  0   0   0   1   0 929   1  46   4  19]\n",
            " [126   1 103  46  61   0 654   0   9   0]\n",
            " [  0   0   0   0   0  23   0 934   1  42]\n",
            " [  7   1  20   8  12   3  16   5 928   0]\n",
            " [  0   0   0   0   0   6   0  36   1 957]]\n"
          ],
          "name": "stdout"
        }
      ]
    },
    {
      "cell_type": "code",
      "metadata": {
        "colab": {
          "base_uri": "https://localhost:8080/",
          "height": 600
        },
        "id": "V2kt2VW0i82L",
        "outputId": "117f4a80-a5b2-478e-b47f-7bec8346de8d"
      },
      "source": [
        "disp = ConfusionMatrixDisplay(confusion_matrix=CM, display_labels=class_names)\n",
        "\n",
        "fig, ax = plt.subplots(figsize=(10, 10))\n",
        "disp.plot(values_format='.3g', ax=ax)\n",
        "plt.xticks(rotation=70)\n",
        "plt.show();"
      ],
      "execution_count": null,
      "outputs": [
        {
          "output_type": "display_data",
          "data": {
            "image/png": "[encoded data removed]",
            "text/plain": [
              "<Figure size 720x720 with 2 Axes>"
            ]
          },
          "metadata": {
            "tags": [],
            "needs_background": "light"
          }
        }
      ]
    },
    {
      "cell_type": "markdown",
      "metadata": {
        "id": "FEq8mmOM3knb"
      },
      "source": [
        "Сеть делает ошибки. Можно их попробовать исправить, если сделать комбинацию сетей (ансамбль) . Проверим вариант усреднения."
      ]
    },
    {
      "cell_type": "markdown",
      "metadata": {
        "id": "f_dWDPIIuE6e"
      },
      "source": [
        "## **Ансамбль сетей**\n",
        "\n",
        "Использование функционального API для построения сложных сетей"
      ]
    },
    {
      "cell_type": "markdown",
      "metadata": {
        "id": "hcSnl7L5FzTA"
      },
      "source": [
        "Нейросеть при хорошо подобранных параметрах должна была выдать корректное предсказание\n",
        "\n",
        "\n",
        "Реализуем одинаковые сети в разном стиле:\n",
        "- model1 - линейная модель через список\n",
        "- model2 - линейная модель через добавление слоев по очереди\n",
        "- model3 - модель через функциональное описание\n"
      ]
    },
    {
      "cell_type": "code",
      "metadata": {
        "id": "mubsCHw0p81r"
      },
      "source": [
        "# заполняем модель списком\n",
        "model1 = Sequential([\n",
        "    Flatten(input_shape=(28, 28)),\n",
        "    Dense(128, activation='relu'),\n",
        "    Dense(10, activation='softmax')\n",
        "])\n",
        "\n",
        "# заполняем модель, добавляя слои последовательно \n",
        "model2 = Sequential()\n",
        "model2.add(Flatten(input_shape=(28, 28)))\n",
        "model2.add(Dense(256, activation='relu'))\n",
        "model2.add(Dense(10, activation='softmax'))\n",
        "\n",
        "\n",
        "# Заполняем модель, формируя граф передачи тензоров\n",
        "input = Input(shape=(28, 28))\n",
        "x = Flatten()(input)\n",
        "x = Dense(256, activation='relu')(x)\n",
        "output = Dense(10, activation='softmax')(x)\n",
        "model3 = Model(input, output)"
      ],
      "execution_count": null,
      "outputs": []
    },
    {
      "cell_type": "markdown",
      "metadata": {
        "id": "c2yLQbLup-vN"
      },
      "source": [
        "### Функции потерь"
      ]
    },
    {
      "cell_type": "markdown",
      "metadata": {
        "id": "nMZjD7ubqLJL"
      },
      "source": [
        "1. Абсолютная\n",
        "$$L(y, \\hat{y}) = |y - \\hat{y}|$$\n",
        "2. Квадратичная\n",
        "$$L(y, \\hat{y}) = (y - \\hat{y})^2$$\n",
        "3. Бинарная кросс-энтропия (BinaryCrossentropy)\n",
        "$$L(y, \\hat{y}) = -\\frac{1}{N}(y\\log(\\hat{y}) + (1 - y)\\log(1-\\hat{y}))$$\n",
        "\n",
        "4. Категориальная кросс-энтропия (CategoricalCrossentropy, Softmax Loss)<br>\n",
        "Функция ожидает метки классов в формате One-hot-encoding.\n",
        "$$CE = - \\log \\frac{e_i}{\\sum_j^C{e_j}}$$\n",
        "\n",
        "5. Спарс категориальная кросс-энтропия (SparseCategoricalCrossentropy)<br>\n",
        "Функция ожидает метки классов в формате Label-encoding."
      ]
    },
    {
      "cell_type": "code",
      "metadata": {
        "id": "pyurjN_EJN9P",
        "colab": {
          "base_uri": "https://localhost:8080/"
        },
        "outputId": "6b46e7e4-4a33-416f-ca45-021178d38715"
      },
      "source": [
        "model1.compile(optimizer='sgd',\n",
        "               loss=SparseCategoricalCrossentropy(from_logits=True),\n",
        "               metrics=['accuracy'])\n",
        "model2.compile(optimizer='rmsprop',\n",
        "               loss=SparseCategoricalCrossentropy(from_logits=True),\n",
        "               metrics=['accuracy'])\n",
        "model3.compile(optimizer='adam',\n",
        "               loss=SparseCategoricalCrossentropy(from_logits=True),\n",
        "               metrics=['accuracy'])\n",
        "\n",
        "\n",
        "hist1 = model1.fit(X_train, y_train_labels,\n",
        "                   epochs=5,\n",
        "                   batch_size=256,\n",
        "                   validation_data=(X_test, y_test_labels))\n",
        "print()\n",
        "hist2 = model2.fit(X_train, y_train_labels,\n",
        "                   epochs=5,\n",
        "                   batch_size=256,\n",
        "                   validation_data=(X_test, y_test_labels))\n",
        "print()\n",
        "hist3 = model3.fit(X_train, y_train_labels,\n",
        "                   epochs=5,\n",
        "                   batch_size=256,\n",
        "                   validation_data=(X_test, y_test_labels))"
      ],
      "execution_count": null,
      "outputs": [
        {
          "output_type": "stream",
          "text": [
            "Epoch 1/5\n",
            "235/235 [==============================] - 1s 3ms/step - loss: 1.6554 - accuracy: 0.5012 - val_loss: 0.9451 - val_accuracy: 0.6984\n",
            "Epoch 2/5\n",
            "235/235 [==============================] - 1s 3ms/step - loss: 0.8730 - accuracy: 0.7232 - val_loss: 0.7759 - val_accuracy: 0.7431\n",
            "Epoch 3/5\n",
            "235/235 [==============================] - 1s 3ms/step - loss: 0.7329 - accuracy: 0.7638 - val_loss: 0.7007 - val_accuracy: 0.7686\n",
            "Epoch 4/5\n",
            "235/235 [==============================] - 1s 3ms/step - loss: 0.6625 - accuracy: 0.7859 - val_loss: 0.6549 - val_accuracy: 0.7798\n",
            "Epoch 5/5\n",
            "235/235 [==============================] - 1s 3ms/step - loss: 0.6204 - accuracy: 0.7993 - val_loss: 0.6228 - val_accuracy: 0.7912\n",
            "\n",
            "Epoch 1/5\n",
            "235/235 [==============================] - 1s 3ms/step - loss: 0.8653 - accuracy: 0.7034 - val_loss: 0.5399 - val_accuracy: 0.8013\n",
            "Epoch 2/5\n",
            "235/235 [==============================] - 1s 3ms/step - loss: 0.4557 - accuracy: 0.8380 - val_loss: 0.4411 - val_accuracy: 0.8397\n",
            "Epoch 3/5\n",
            "235/235 [==============================] - 1s 3ms/step - loss: 0.3831 - accuracy: 0.8625 - val_loss: 0.3964 - val_accuracy: 0.8606\n",
            "Epoch 4/5\n",
            "235/235 [==============================] - 1s 3ms/step - loss: 0.3455 - accuracy: 0.8751 - val_loss: 0.3588 - val_accuracy: 0.8711\n",
            "Epoch 5/5\n",
            "235/235 [==============================] - 1s 3ms/step - loss: 0.3214 - accuracy: 0.8826 - val_loss: 0.3733 - val_accuracy: 0.8676\n",
            "\n",
            "Epoch 1/5\n",
            "235/235 [==============================] - 1s 3ms/step - loss: 0.7892 - accuracy: 0.7293 - val_loss: 0.4736 - val_accuracy: 0.8316\n",
            "Epoch 2/5\n",
            "235/235 [==============================] - 1s 3ms/step - loss: 0.4320 - accuracy: 0.8494 - val_loss: 0.4268 - val_accuracy: 0.8479\n",
            "Epoch 3/5\n",
            "235/235 [==============================] - 1s 3ms/step - loss: 0.3776 - accuracy: 0.8673 - val_loss: 0.3914 - val_accuracy: 0.8583\n",
            "Epoch 4/5\n",
            "235/235 [==============================] - 1s 3ms/step - loss: 0.3428 - accuracy: 0.8758 - val_loss: 0.3805 - val_accuracy: 0.8623\n",
            "Epoch 5/5\n",
            "235/235 [==============================] - 1s 3ms/step - loss: 0.3199 - accuracy: 0.8840 - val_loss: 0.3633 - val_accuracy: 0.8696\n"
          ],
          "name": "stdout"
        }
      ]
    },
    {
      "cell_type": "code",
      "metadata": {
        "id": "N8SMebNEMi37",
        "colab": {
          "base_uri": "https://localhost:8080/",
          "height": 295
        },
        "outputId": "06b3e5b7-ed63-4689-d591-d92de5c4356b"
      },
      "source": [
        "plt.plot(hist1.history['accuracy'], label='model1 acc sgd')\n",
        "plt.plot(hist2.history['accuracy'], label='model2 acc rmsprop')\n",
        "plt.plot(hist3.history['accuracy'], label='model3 acc adam')\n",
        "plt.title('точность сетей от эпох')\n",
        "plt.xlabel('эпоха')\n",
        "plt.legend()\n",
        "plt.show()"
      ],
      "execution_count": null,
      "outputs": [
        {
          "output_type": "display_data",
          "data": {
            "image/png": "[encoded data removed]",
            "text/plain": [
              "<Figure size 432x288 with 1 Axes>"
            ]
          },
          "metadata": {
            "tags": [],
            "needs_background": "light"
          }
        }
      ]
    },
    {
      "cell_type": "code",
      "metadata": {
        "id": "iD4oM4JhPHWn"
      },
      "source": [
        "y_pred1 = np.argmax(model1.predict(X_test), axis=1)\n",
        "y_pred2 = np.argmax(model2.predict(X_test), axis=1)\n",
        "y_pred3 = np.argmax(model3.predict(X_test), axis=1)\n",
        "\n",
        "CM1 = confusion_matrix(y_test_labels, y_pred1)\n",
        "CM2 = confusion_matrix(y_test_labels, y_pred2)\n",
        "CM3 = confusion_matrix(y_test_labels, y_pred3)"
      ],
      "execution_count": null,
      "outputs": []
    },
    {
      "cell_type": "code",
      "metadata": {
        "colab": {
          "base_uri": "https://localhost:8080/",
          "height": 400
        },
        "id": "_3DBsXLN-Q2T",
        "outputId": "a46e30e0-46fe-498b-f525-376fab4593ee"
      },
      "source": [
        "fig, (ax1, ax2, ax3) = plt.subplots(1, 3, figsize=(20, 6))\n",
        "\n",
        "disp1 = ConfusionMatrixDisplay(confusion_matrix=CM1, display_labels=class_names)\n",
        "disp1.plot(ax=ax1, values_format='.3g')\n",
        "plt.setp(ax1.xaxis.get_majorticklabels(), rotation=70)\n",
        "\n",
        "disp2 = ConfusionMatrixDisplay(confusion_matrix=CM2, display_labels=class_names)\n",
        "disp2.plot(ax=ax2, values_format='.3g')\n",
        "plt.setp(ax2.xaxis.get_majorticklabels(), rotation=70)\n",
        "\n",
        "disp3 = ConfusionMatrixDisplay(confusion_matrix=CM3, display_labels=class_names)\n",
        "disp3.plot(ax=ax3, values_format='.3g')\n",
        "plt.xticks(rotation=70)\n",
        "\n",
        "plt.show()"
      ],
      "execution_count": null,
      "outputs": [
        {
          "output_type": "display_data",
          "data": {
            "image/png": "[encoded data removed]",
            "text/plain": [
              "<Figure size 1440x432 with 6 Axes>"
            ]
          },
          "metadata": {
            "tags": [],
            "needs_background": "light"
          }
        }
      ]
    },
    {
      "cell_type": "code",
      "metadata": {
        "id": "stCJv8cZMQZf"
      },
      "source": [
        "# сохранить модели на диск.\n",
        "model1.save('model1.h5')\n",
        "model2.save('model2.h5')\n",
        "model3.save('model3.h5')\n",
        "\n",
        "# прочитать модели с диска\n",
        "# model = load_model('model.h5')"
      ],
      "execution_count": null,
      "outputs": []
    },
    {
      "cell_type": "markdown",
      "metadata": {
        "id": "tBd6kDX9qCZ1"
      },
      "source": [
        "Выгрузим на локальную машину нашу модель"
      ]
    },
    {
      "cell_type": "code",
      "metadata": {
        "id": "2mIfT7C773y4"
      },
      "source": [
        "from google.colab import files\n",
        "\n",
        "# files.download('model1.h5')"
      ],
      "execution_count": null,
      "outputs": []
    },
    {
      "cell_type": "markdown",
      "metadata": {
        "id": "RP9nm6V6qS7q"
      },
      "source": [
        "Сделаем предсказание на тестовом изображении"
      ]
    },
    {
      "cell_type": "code",
      "metadata": {
        "id": "QvkvodqxWmVn"
      },
      "source": [
        "y_pred_proba = model3.predict(X_test)\n",
        "y_pred = np.argmax(y_pred_proba, axis=1)"
      ],
      "execution_count": null,
      "outputs": []
    },
    {
      "cell_type": "markdown",
      "metadata": {
        "id": "b2WJFW5kqagU"
      },
      "source": [
        "Отобразим значения на выходах сети (10 выходов - 10 точек графика)"
      ]
    },
    {
      "cell_type": "code",
      "metadata": {
        "id": "EF18AOsTbsih",
        "colab": {
          "base_uri": "https://localhost:8080/",
          "height": 295
        },
        "outputId": "ed270c88-2c45-4cd9-8d46-8590e5140d05"
      },
      "source": [
        "N = 10 \n",
        "plt.plot(y_pred_proba[N, :])\n",
        "plt.title(f'объект {class_names[y_test_labels[N]]} #{str(y_test_labels[N])}')\n",
        "plt.xlabel('номер выхода сети')\n",
        "plt.ylabel('значение на выходе')\n",
        "plt.show()"
      ],
      "execution_count": null,
      "outputs": [
        {
          "output_type": "display_data",
          "data": {
            "image/png": "[encoded data removed]",
            "text/plain": [
              "<Figure size 432x288 with 1 Axes>"
            ]
          },
          "metadata": {
            "tags": [],
            "needs_background": "light"
          }
        }
      ]
    },
    {
      "cell_type": "code",
      "metadata": {
        "id": "K0cGPgqBc-sb",
        "colab": {
          "base_uri": "https://localhost:8080/"
        },
        "outputId": "5e966299-1b8c-49c1-d854-669708dd4e8c"
      },
      "source": [
        "test_loss, test_acc = model1.evaluate(X_test, y_test_labels, verbose=2)\n",
        "test_loss, test_acc = model2.evaluate(X_test, y_test_labels, verbose=2)\n",
        "test_loss, test_acc = model3.evaluate(X_test, y_test_labels, verbose=2)"
      ],
      "execution_count": null,
      "outputs": [
        {
          "output_type": "stream",
          "text": [
            "313/313 - 0s - loss: 0.6228 - accuracy: 0.7912\n",
            "313/313 - 0s - loss: 0.3733 - accuracy: 0.8676\n",
            "313/313 - 0s - loss: 0.3633 - accuracy: 0.8696\n"
          ],
          "name": "stdout"
        }
      ]
    },
    {
      "cell_type": "markdown",
      "metadata": {
        "id": "2TQpdoQi26b8"
      },
      "source": [
        "Усреднение моделей"
      ]
    },
    {
      "cell_type": "code",
      "metadata": {
        "id": "3cJ-0N8Es0gB"
      },
      "source": [
        "input = Input(shape=(28, 28))\n",
        "flat = Flatten()(input)\n",
        "\n",
        "x1 = Dense(128, activation='relu')(flat)\n",
        "x1 = Dense(10, activation='softmax')(x1)\n",
        "model1 = Model(inputs=input, outputs=x1)\n",
        "\n",
        "\n",
        "x2 = Dense(256, activation='relu')(flat)\n",
        "x2 = Dense(10, activation='softmax')(x2)\n",
        "model2 = Model(inputs=input, outputs=x2)\n",
        "\n",
        "\n",
        "x3 = Dense(256, activation='relu')(flat)\n",
        "x3 = Dense(10, activation='softmax')(x3)\n",
        "model3 = Model(inputs=input, outputs=x3)\n",
        "\n",
        "\n",
        "# усредняем выходы сетей\n",
        "out_all = tf.keras.layers.Average()([model1.output, model2.output, model3.output])\n",
        "out_all = tf.keras.layers.Softmax()(out_all)\n",
        "\n",
        "model_all = Model(inputs=[input], outputs=out_all)\n",
        "model_all.compile(optimizer='adam',\n",
        "                  loss=SparseCategoricalCrossentropy(from_logits=True),\n",
        "                  metrics=['accuracy'])\n",
        "\n",
        "\n",
        "model1.load_weights('model1.h5')\n",
        "model2.load_weights('model2.h5')\n",
        "model3.load_weights('model3.h5')"
      ],
      "execution_count": null,
      "outputs": []
    },
    {
      "cell_type": "code",
      "metadata": {
        "id": "uyUsa1Afs6cW",
        "colab": {
          "base_uri": "https://localhost:8080/"
        },
        "outputId": "ab359ad0-2541-41ed-98cf-08730308893c"
      },
      "source": [
        "model_all.summary()"
      ],
      "execution_count": null,
      "outputs": [
        {
          "output_type": "stream",
          "text": [
            "Model: \"model_10\"\n",
            "__________________________________________________________________________________________________\n",
            "Layer (type)                    Output Shape         Param #     Connected to                     \n",
            "==================================================================================================\n",
            "input_4 (InputLayer)            [(None, 28, 28)]     0                                            \n",
            "__________________________________________________________________________________________________\n",
            "flatten_9 (Flatten)             (None, 784)          0           input_4[0][0]                    \n",
            "__________________________________________________________________________________________________\n",
            "dense_29 (Dense)                (None, 128)          100480      flatten_9[0][0]                  \n",
            "__________________________________________________________________________________________________\n",
            "dense_31 (Dense)                (None, 256)          200960      flatten_9[0][0]                  \n",
            "__________________________________________________________________________________________________\n",
            "dense_33 (Dense)                (None, 256)          200960      flatten_9[0][0]                  \n",
            "__________________________________________________________________________________________________\n",
            "dense_30 (Dense)                (None, 10)           1290        dense_29[0][0]                   \n",
            "__________________________________________________________________________________________________\n",
            "dense_32 (Dense)                (None, 10)           2570        dense_31[0][0]                   \n",
            "__________________________________________________________________________________________________\n",
            "dense_34 (Dense)                (None, 10)           2570        dense_33[0][0]                   \n",
            "__________________________________________________________________________________________________\n",
            "average (Average)               (None, 10)           0           dense_30[0][0]                   \n",
            "                                                                 dense_32[0][0]                   \n",
            "                                                                 dense_34[0][0]                   \n",
            "__________________________________________________________________________________________________\n",
            "softmax_1 (Softmax)             (None, 10)           0           average[0][0]                    \n",
            "==================================================================================================\n",
            "Total params: 508,830\n",
            "Trainable params: 508,830\n",
            "Non-trainable params: 0\n",
            "__________________________________________________________________________________________________\n"
          ],
          "name": "stdout"
        }
      ]
    },
    {
      "cell_type": "code",
      "metadata": {
        "id": "ET_usPF9ejrP",
        "colab": {
          "base_uri": "https://localhost:8080/",
          "height": 564
        },
        "outputId": "3ad2c0da-d204-4148-9d22-a0dff815617e"
      },
      "source": [
        "from tensorflow.keras.utils import plot_model\n",
        "plot_model(model_all)"
      ],
      "execution_count": null,
      "outputs": [
        {
          "output_type": "execute_result",
          "data": {
            "image/png": "[encoded data removed]",
            "text/plain": [
              "<IPython.core.display.Image object>"
            ]
          },
          "metadata": {
            "tags": []
          },
          "execution_count": 115
        }
      ]
    },
    {
      "cell_type": "code",
      "metadata": {
        "id": "9nqTRLVhts6i",
        "colab": {
          "base_uri": "https://localhost:8080/"
        },
        "outputId": "fee047ce-3b0f-4bf1-86d1-e5ad188bfcad"
      },
      "source": [
        "predictions_single = model_all.predict(imgs)\n",
        "predictions_single"
      ],
      "execution_count": null,
      "outputs": [
        {
          "output_type": "execute_result",
          "data": {
            "text/plain": [
              "array([[0.08861196, 0.08861364, 0.08862148, 0.08860976, 0.08864549,\n",
              "        0.10786329, 0.08863939, 0.10338891, 0.08961471, 0.16739134]],\n",
              "      dtype=float32)"
            ]
          },
          "metadata": {
            "tags": []
          },
          "execution_count": 128
        }
      ]
    },
    {
      "cell_type": "code",
      "metadata": {
        "id": "ZRejlxRetwpq",
        "colab": {
          "base_uri": "https://localhost:8080/",
          "height": 300
        },
        "outputId": "326ee8a9-b359-45c0-d5c8-a4752460e587"
      },
      "source": [
        "plot_value_array(0, predictions_single, y_test_labels)\n",
        "_ = plt.xticks(range(10), class_names, rotation=45)"
      ],
      "execution_count": null,
      "outputs": [
        {
          "output_type": "display_data",
          "data": {
            "image/png": "[encoded data removed]",
            "text/plain": [
              "<Figure size 432x288 with 1 Axes>"
            ]
          },
          "metadata": {
            "tags": [],
            "needs_background": "light"
          }
        }
      ]
    },
    {
      "cell_type": "code",
      "metadata": {
        "id": "OnUoZIIgt10d",
        "colab": {
          "base_uri": "https://localhost:8080/"
        },
        "outputId": "19fc1417-4aeb-4981-ed1b-570483d27a53"
      },
      "source": [
        "test_loss, test_acc = model_all.evaluate(X_test, y_test_labels, verbose=2)"
      ],
      "execution_count": null,
      "outputs": [
        {
          "output_type": "stream",
          "text": [
            "313/313 - 1s - loss: 2.2117 - accuracy: 0.8697\n"
          ],
          "name": "stdout"
        }
      ]
    },
    {
      "cell_type": "code",
      "metadata": {
        "id": "IkT0L8D-Oi4x",
        "colab": {
          "base_uri": "https://localhost:8080/",
          "height": 279
        },
        "outputId": "f46c3f4c-f198-4f00-fabe-05ad704d96ac"
      },
      "source": [
        "y_pred_all = np.argmax(model_all.predict(X_test), axis=1)\n",
        "\n",
        "CM_all = confusion_matrix(y_test_labels, y_pred_all)\n",
        "disp_all = ConfusionMatrixDisplay(confusion_matrix=CM_all, display_labels=np.arange(10))\n",
        "disp_all.plot(values_format ='.3g')\n",
        "plt.show()"
      ],
      "execution_count": null,
      "outputs": [
        {
          "output_type": "display_data",
          "data": {
            "image/png": "[encoded data removed]",
            "text/plain": [
              "<Figure size 432x288 with 2 Axes>"
            ]
          },
          "metadata": {
            "tags": [],
            "needs_background": "light"
          }
        }
      ]
    },
    {
      "cell_type": "code",
      "metadata": {
        "colab": {
          "base_uri": "https://localhost:8080/"
        },
        "id": "ieChLpxhBicr",
        "outputId": "806373d6-d566-45d8-ecbb-618df66861bd"
      },
      "source": [
        "hist1 = model_all.fit(X_train, y_train_labels,\n",
        "                      epochs=5,\n",
        "                      batch_size=256,\n",
        "                      validation_data=(X_test, y_test_labels))"
      ],
      "execution_count": null,
      "outputs": [
        {
          "output_type": "stream",
          "text": [
            "Epoch 1/5\n",
            "235/235 [==============================] - 1s 4ms/step - loss: 2.2015 - accuracy: 0.8666 - val_loss: 2.1974 - val_accuracy: 0.8605\n",
            "Epoch 2/5\n",
            "235/235 [==============================] - 1s 3ms/step - loss: 2.1943 - accuracy: 0.8786 - val_loss: 2.1958 - val_accuracy: 0.8584\n",
            "Epoch 3/5\n",
            "235/235 [==============================] - 1s 3ms/step - loss: 2.1927 - accuracy: 0.8821 - val_loss: 2.1941 - val_accuracy: 0.8681\n",
            "Epoch 4/5\n",
            "235/235 [==============================] - 1s 3ms/step - loss: 2.1914 - accuracy: 0.8883 - val_loss: 2.1940 - val_accuracy: 0.8716\n",
            "Epoch 5/5\n",
            "235/235 [==============================] - 1s 3ms/step - loss: 2.1910 - accuracy: 0.8890 - val_loss: 2.1932 - val_accuracy: 0.8726\n"
          ],
          "name": "stdout"
        }
      ]
    },
    {
      "cell_type": "code",
      "metadata": {
        "colab": {
          "base_uri": "https://localhost:8080/",
          "height": 279
        },
        "id": "Z1O8A5dlBfq0",
        "outputId": "b974d1e5-3c11-4d21-c128-6a4b7b85485a"
      },
      "source": [
        "y_pred_all = np.argmax(model_all.predict(X_test), axis=1)\n",
        "\n",
        "CM_all = confusion_matrix(y_test_labels, y_pred_all)\n",
        "disp_all = ConfusionMatrixDisplay(confusion_matrix=CM_all, display_labels=np.arange(10))\n",
        "disp_all.plot(values_format ='.3g')\n",
        "plt.show()"
      ],
      "execution_count": null,
      "outputs": [
        {
          "output_type": "display_data",
          "data": {
            "image/png": "[encoded data removed]",
            "text/plain": [
              "<Figure size 432x288 with 2 Axes>"
            ]
          },
          "metadata": {
            "tags": [],
            "needs_background": "light"
          }
        }
      ]
    },
    {
      "cell_type": "code",
      "metadata": {
        "id": "62dsQKqQ12tn",
        "colab": {
          "base_uri": "https://localhost:8080/"
        },
        "outputId": "c45777b0-5e75-4a5d-a887-fb9ffcea1d4d"
      },
      "source": [
        "test_loss, test_acc = model_all.evaluate(X_test, y_test_labels, verbose=2)"
      ],
      "execution_count": null,
      "outputs": [
        {
          "output_type": "stream",
          "text": [
            "313/313 - 0s - loss: 2.1932 - accuracy: 0.8726\n"
          ],
          "name": "stdout"
        }
      ]
    },
    {
      "cell_type": "markdown",
      "metadata": {
        "id": "bNM2ojaL3Ahr"
      },
      "source": [
        "Обучение только новых слоев. Старые слои моделей замораживаем и не обучаем."
      ]
    },
    {
      "cell_type": "code",
      "metadata": {
        "id": "eAJ0gHjr3Ekp",
        "colab": {
          "base_uri": "https://localhost:8080/"
        },
        "outputId": "21addfad-67f0-47cb-eb1b-e080c19486e3"
      },
      "source": [
        "input = Input(shape=(28, 28))\n",
        "flat = Flatten()(input)\n",
        "\n",
        "x1 = Dense(128, activation='relu')(flat)\n",
        "x1 = Dense(10, activation='softmax')(x1)\n",
        "model1 = Model(inputs=input, outputs=x1)\n",
        "# не обучаем слои модели\n",
        "for layer in model1.layers:\n",
        "    layer.trainable = False\n",
        "\n",
        "\n",
        "x2 = Dense(256, activation='relu')(flat)\n",
        "x2 = Dense(10, activation='softmax')(x2)\n",
        "model2 = Model(inputs=input, outputs=x2)\n",
        "# не обучаем слои модели\n",
        "for layer in model2.layers:\n",
        "    layer.trainable = False\n",
        "\n",
        "\n",
        "x3 = Dense(256, activation='relu')(flat)\n",
        "x3 = Dense(10, activation='softmax')(x3)\n",
        "model3 = Model(inputs=input, outputs=x3)\n",
        "# не обучаем слои модели\n",
        "for layer in model3.layers:\n",
        "    layer.trainable = False\n",
        "\n",
        "\n",
        "# усредняем выходы сетей\n",
        "out_all = tf.keras.layers.Average()([model1.output, model2.output, model3.output])\n",
        "# добавляем новый обучаемый слой\n",
        "# out_all = Dense(10, activation='relu')(out_all)\n",
        "\n",
        "out_all = tf.keras.layers.Softmax()(out_all)\n",
        "\n",
        "model_all = Model(inputs=[input], outputs=out_all)\n",
        "model_all.compile(optimizer='adam',\n",
        "                  loss=SparseCategoricalCrossentropy(from_logits=True),\n",
        "                  metrics=['accuracy'])\n",
        "\n",
        "\n",
        "model1.load_weights('model1.h5')\n",
        "model2.load_weights('model2.h5')\n",
        "model3.load_weights('model3.h5')\n",
        "\n",
        "model_all.summary()"
      ],
      "execution_count": null,
      "outputs": [
        {
          "output_type": "stream",
          "text": [
            "Model: \"model_18\"\n",
            "__________________________________________________________________________________________________\n",
            "Layer (type)                    Output Shape         Param #     Connected to                     \n",
            "==================================================================================================\n",
            "input_6 (InputLayer)            [(None, 28, 28)]     0                                            \n",
            "__________________________________________________________________________________________________\n",
            "flatten_11 (Flatten)            (None, 784)          0           input_6[0][0]                    \n",
            "__________________________________________________________________________________________________\n",
            "dense_42 (Dense)                (None, 128)          100480      flatten_11[0][0]                 \n",
            "__________________________________________________________________________________________________\n",
            "dense_44 (Dense)                (None, 256)          200960      flatten_11[0][0]                 \n",
            "__________________________________________________________________________________________________\n",
            "dense_46 (Dense)                (None, 256)          200960      flatten_11[0][0]                 \n",
            "__________________________________________________________________________________________________\n",
            "dense_43 (Dense)                (None, 10)           1290        dense_42[0][0]                   \n",
            "__________________________________________________________________________________________________\n",
            "dense_45 (Dense)                (None, 10)           2570        dense_44[0][0]                   \n",
            "__________________________________________________________________________________________________\n",
            "dense_47 (Dense)                (None, 10)           2570        dense_46[0][0]                   \n",
            "__________________________________________________________________________________________________\n",
            "average_2 (Average)             (None, 10)           0           dense_43[0][0]                   \n",
            "                                                                 dense_45[0][0]                   \n",
            "                                                                 dense_47[0][0]                   \n",
            "__________________________________________________________________________________________________\n",
            "softmax_3 (Softmax)             (None, 10)           0           average_2[0][0]                  \n",
            "==================================================================================================\n",
            "Total params: 508,830\n",
            "Trainable params: 0\n",
            "Non-trainable params: 508,830\n",
            "__________________________________________________________________________________________________\n"
          ],
          "name": "stdout"
        }
      ]
    },
    {
      "cell_type": "code",
      "metadata": {
        "id": "dwwrnJ1oLsiy",
        "colab": {
          "base_uri": "https://localhost:8080/"
        },
        "outputId": "29126431-486e-4daf-a7d6-0e1bb1bd6d0a"
      },
      "source": [
        "test_loss, test_acc = model_all.evaluate(X_test, y_test_labels, verbose=2)"
      ],
      "execution_count": null,
      "outputs": [
        {
          "output_type": "stream",
          "text": [
            "313/313 - 1s - loss: 2.2115 - accuracy: 0.8676\n"
          ],
          "name": "stdout"
        }
      ]
    },
    {
      "cell_type": "code",
      "metadata": {
        "id": "J0HcltPZ5St9",
        "colab": {
          "base_uri": "https://localhost:8080/"
        },
        "outputId": "c527d018-d9f4-4ea1-92b7-73e1e006e8d5"
      },
      "source": [
        "for layer in model_all.layers[:]:\n",
        "    layer.trainable = True\n",
        "\n",
        "model_all.summary()"
      ],
      "execution_count": null,
      "outputs": [
        {
          "output_type": "stream",
          "text": [
            "Model: \"model_18\"\n",
            "__________________________________________________________________________________________________\n",
            "Layer (type)                    Output Shape         Param #     Connected to                     \n",
            "==================================================================================================\n",
            "input_6 (InputLayer)            [(None, 28, 28)]     0                                            \n",
            "__________________________________________________________________________________________________\n",
            "flatten_11 (Flatten)            (None, 784)          0           input_6[0][0]                    \n",
            "__________________________________________________________________________________________________\n",
            "dense_42 (Dense)                (None, 128)          100480      flatten_11[0][0]                 \n",
            "__________________________________________________________________________________________________\n",
            "dense_44 (Dense)                (None, 256)          200960      flatten_11[0][0]                 \n",
            "__________________________________________________________________________________________________\n",
            "dense_46 (Dense)                (None, 256)          200960      flatten_11[0][0]                 \n",
            "__________________________________________________________________________________________________\n",
            "dense_43 (Dense)                (None, 10)           1290        dense_42[0][0]                   \n",
            "__________________________________________________________________________________________________\n",
            "dense_45 (Dense)                (None, 10)           2570        dense_44[0][0]                   \n",
            "__________________________________________________________________________________________________\n",
            "dense_47 (Dense)                (None, 10)           2570        dense_46[0][0]                   \n",
            "__________________________________________________________________________________________________\n",
            "average_2 (Average)             (None, 10)           0           dense_43[0][0]                   \n",
            "                                                                 dense_45[0][0]                   \n",
            "                                                                 dense_47[0][0]                   \n",
            "__________________________________________________________________________________________________\n",
            "softmax_3 (Softmax)             (None, 10)           0           average_2[0][0]                  \n",
            "==================================================================================================\n",
            "Total params: 508,830\n",
            "Trainable params: 508,830\n",
            "Non-trainable params: 0\n",
            "__________________________________________________________________________________________________\n"
          ],
          "name": "stdout"
        }
      ]
    },
    {
      "cell_type": "code",
      "metadata": {
        "id": "qeWqYkYU45wG",
        "colab": {
          "base_uri": "https://localhost:8080/"
        },
        "outputId": "59655716-5cd3-4bf2-cb2b-a51eb984b0d8"
      },
      "source": [
        "hist1 = model_all.fit(X_train, y_train_labels,\n",
        "                      epochs=10,\n",
        "                      batch_size=512,\n",
        "                      validation_data=(X_test, y_test_labels))"
      ],
      "execution_count": null,
      "outputs": [
        {
          "output_type": "stream",
          "text": [
            "Epoch 1/10\n",
            "118/118 [==============================] - 1s 3ms/step - loss: 2.2094 - accuracy: 0.8894 - val_loss: 2.2115 - val_accuracy: 0.8676\n",
            "Epoch 2/10\n",
            "118/118 [==============================] - 0s 3ms/step - loss: 2.2094 - accuracy: 0.8894 - val_loss: 2.2115 - val_accuracy: 0.8676\n",
            "Epoch 3/10\n",
            "118/118 [==============================] - 0s 3ms/step - loss: 2.2094 - accuracy: 0.8894 - val_loss: 2.2115 - val_accuracy: 0.8676\n",
            "Epoch 4/10\n",
            "118/118 [==============================] - 0s 3ms/step - loss: 2.2094 - accuracy: 0.8894 - val_loss: 2.2115 - val_accuracy: 0.8676\n",
            "Epoch 5/10\n",
            "118/118 [==============================] - 0s 3ms/step - loss: 2.2094 - accuracy: 0.8894 - val_loss: 2.2115 - val_accuracy: 0.8676\n",
            "Epoch 6/10\n",
            "118/118 [==============================] - 0s 3ms/step - loss: 2.2094 - accuracy: 0.8894 - val_loss: 2.2115 - val_accuracy: 0.8676\n",
            "Epoch 7/10\n",
            "118/118 [==============================] - 0s 3ms/step - loss: 2.2094 - accuracy: 0.8894 - val_loss: 2.2115 - val_accuracy: 0.8676\n",
            "Epoch 8/10\n",
            "118/118 [==============================] - 0s 3ms/step - loss: 2.2094 - accuracy: 0.8894 - val_loss: 2.2115 - val_accuracy: 0.8676\n",
            "Epoch 9/10\n",
            "118/118 [==============================] - 0s 3ms/step - loss: 2.2094 - accuracy: 0.8894 - val_loss: 2.2115 - val_accuracy: 0.8676\n",
            "Epoch 10/10\n",
            "118/118 [==============================] - 0s 3ms/step - loss: 2.2094 - accuracy: 0.8894 - val_loss: 2.2115 - val_accuracy: 0.8676\n"
          ],
          "name": "stdout"
        }
      ]
    },
    {
      "cell_type": "code",
      "metadata": {
        "id": "s35vELls45nW",
        "colab": {
          "base_uri": "https://localhost:8080/"
        },
        "outputId": "e07b8d3c-54ab-4a1e-d5dc-282bbf16c700"
      },
      "source": [
        "test_loss, test_acc = model_all.evaluate(X_test, y_test_labels, verbose=2)"
      ],
      "execution_count": null,
      "outputs": [
        {
          "output_type": "stream",
          "text": [
            "313/313 - 0s - loss: 2.2115 - accuracy: 0.8676\n"
          ],
          "name": "stdout"
        }
      ]
    },
    {
      "cell_type": "code",
      "metadata": {
        "id": "84IeaSup6PqQ"
      },
      "source": [
        "model_all.save('model_all.h5')"
      ],
      "execution_count": null,
      "outputs": []
    },
    {
      "cell_type": "code",
      "metadata": {
        "id": "4qYsA2yj6TRM",
        "colab": {
          "base_uri": "https://localhost:8080/"
        },
        "outputId": "9ceb8aee-211d-41de-8fd4-7b8c9daa319a"
      },
      "source": [
        "model_loaded = tf.keras.models.load_model('model_all.h5')\n",
        "test_loss, test_acc = model_loaded.evaluate(X_test, y_test_labels, verbose=2)"
      ],
      "execution_count": null,
      "outputs": [
        {
          "output_type": "stream",
          "text": [
            "WARNING:tensorflow:Error in loading the saved optimizer state. As a result, your model is starting with a freshly initialized optimizer.\n",
            "313/313 - 0s - loss: 2.2115 - accuracy: 0.8676\n"
          ],
          "name": "stdout"
        }
      ]
    },
    {
      "cell_type": "markdown",
      "metadata": {
        "id": "RY-X4hsB6zyc"
      },
      "source": [
        "Tensorflow - это про обработку нейросетей более сложным способом, с большей степенью интерактивности и воздействия на модель.\n",
        "\n",
        "Tensorflow позволяет обучать модели высокоуровнево, благодаря Keras, либо низкоуровнево через циклы, в которых нужно прописывать:\n",
        "1. Проход по батчу\n",
        "2. Предсказание модели на батче\n",
        "3. Подсчет ошибки\n",
        "4. Подсчет градиентов\n",
        "5. Обратный проход\n",
        "6. Логирование информации"
      ]
    },
    {
      "cell_type": "markdown",
      "metadata": {
        "id": "pZyy2UhoFzTB"
      },
      "source": [
        "## Домашнее задание\n",
        "\n",
        "  1. Постройте нейронную сеть (берем несложную полносвязную сеть, меняем число слоев, число нейронов, типы активации, тип оптимизатора) на датасете from sklearn.datasets import load_boston. \n",
        "  2. Измените функцию потерь и метрику для этой задачи. Постройте 10-15 вариантов и сведите результаты их работы в таблицу.  Опишите, какого результата вы добились от нейросети? Что помогло вам улучшить ее точность?\n",
        "\n",
        "    \n",
        "\n",
        "## Набор данных для курсового проекта\n",
        "\n",
        "https://www.notion.so/21f239a4d05e4cbf84a71c869668ecd3"
      ]
    },
    {
      "cell_type": "markdown",
      "metadata": {
        "id": "oNZ6hZcMFzTE"
      },
      "source": [
        "## Дополнительные материалы\n",
        "\n",
        "1. https://www.tensorflow.org/api_docs - Документация\n",
        "2. https://www.tensorflow.org/tutorials/ - Туториалы"
      ]
    },
    {
      "cell_type": "markdown",
      "metadata": {
        "id": "Q64Z2Kr_FzTF"
      },
      "source": [
        "## Используемая литература \n",
        "\n",
        "Для подготовки данного методического пособия были использованы следующие ресурсы:\n",
        "<ol>\n",
        "    <li>https://www.tensorflow.org/</li>\n",
        "    <li>https://www.tensorflow.org/tutorials/keras/classification</li>\n",
        "    <li>Singh P., Manure A. - Learn TensorFlow 2.0 - 2020</li>\n",
        "    <li>Шакла Н. — Машинное обучение и TensorFlow 2019</li>\n",
        "    <li>Википедия</li>\n",
        "    \n",
        "</ol>"
      ]
    }
  ]
}