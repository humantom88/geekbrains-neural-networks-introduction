{
 "metadata": {
  "language_info": {
   "codemirror_mode": {
    "name": "ipython",
    "version": 3
   },
   "file_extension": ".py",
   "mimetype": "text/x-python",
   "name": "python",
   "nbconvert_exporter": "python",
   "pygments_lexer": "ipython3",
   "version": "3.9.4-final"
  },
  "orig_nbformat": 2,
  "kernelspec": {
   "name": "python394jvsc74a57bd063fd5069d213b44bf678585dea6b12cceca9941eaf7f819626cde1f2670de90d",
   "display_name": "Python 3.9.4 64-bit"
  }
 },
 "nbformat": 4,
 "nbformat_minor": 2,
 "cells": [
  {
   "source": [
    "# Практическое задание к уроку 3. Tensorflow"
   ],
   "cell_type": "markdown",
   "metadata": {}
  },
  {
   "source": [
    "Постройте нейронную сеть (берем несложную полносвязную сеть, меняем число слоев, число нейронов, типы активации, тип оптимизатора) на датасете from sklearn.datasets import load_boston.\n",
    "Постройте 10-15 вариантов разных нейронных сетей и сведите результаты их работы в таблицу. Опишите, какого результата вы добились от нейросети? Что помогло вам улучшить ее точность?"
   ],
   "cell_type": "markdown",
   "metadata": {}
  },
  {
   "cell_type": "code",
   "execution_count": 1,
   "metadata": {},
   "outputs": [],
   "source": [
    "from sklearn.datasets import load_boston"
   ]
  },
  {
   "cell_type": "code",
   "execution_count": 2,
   "metadata": {},
   "outputs": [
    {
     "output_type": "stream",
     "name": "stdout",
     "text": [
      "INFO:tensorflow:Enabling eager execution\n",
      "INFO:tensorflow:Enabling v2 tensorshape\n",
      "INFO:tensorflow:Enabling resource variables\n",
      "INFO:tensorflow:Enabling tensor equality\n",
      "INFO:tensorflow:Enabling control flow v2\n",
      "2.5.0-rc1\n"
     ]
    }
   ],
   "source": [
    "import tensorflow as tf\n",
    "import numpy as np\n",
    "\n",
    "print(tf.__version__)"
   ]
  },
  {
   "cell_type": "code",
   "execution_count": 3,
   "metadata": {},
   "outputs": [],
   "source": [
    "import pandas as pd\n",
    "\n",
    "dataset = load_boston()\n",
    "X = dataset[\"data\"]\n",
    "y = dataset[\"target\"]\n",
    "feature_names = np.append(dataset[\"feature_names\"], ['target']) \n",
    "\n",
    "data = pd.DataFrame(data=np.c_[X, y], columns=feature_names)"
   ]
  },
  {
   "cell_type": "code",
   "execution_count": 4,
   "metadata": {},
   "outputs": [
    {
     "output_type": "execute_result",
     "data": {
      "text/plain": [
       "      CRIM    ZN  INDUS  CHAS    NOX     RM    AGE     DIS  RAD    TAX  \\\n",
       "0  0.00632  18.0   2.31   0.0  0.538  6.575   65.2  4.0900  1.0  296.0   \n",
       "1  0.02731   0.0   7.07   0.0  0.469  6.421   78.9  4.9671  2.0  242.0   \n",
       "2  0.02729   0.0   7.07   0.0  0.469  7.185   61.1  4.9671  2.0  242.0   \n",
       "3  0.03237   0.0   2.18   0.0  0.458  6.998   45.8  6.0622  3.0  222.0   \n",
       "4  0.06905   0.0   2.18   0.0  0.458  7.147   54.2  6.0622  3.0  222.0   \n",
       "5  0.02985   0.0   2.18   0.0  0.458  6.430   58.7  6.0622  3.0  222.0   \n",
       "6  0.08829  12.5   7.87   0.0  0.524  6.012   66.6  5.5605  5.0  311.0   \n",
       "7  0.14455  12.5   7.87   0.0  0.524  6.172   96.1  5.9505  5.0  311.0   \n",
       "8  0.21124  12.5   7.87   0.0  0.524  5.631  100.0  6.0821  5.0  311.0   \n",
       "9  0.17004  12.5   7.87   0.0  0.524  6.004   85.9  6.5921  5.0  311.0   \n",
       "\n",
       "   PTRATIO       B  LSTAT  target  \n",
       "0     15.3  396.90   4.98    24.0  \n",
       "1     17.8  396.90   9.14    21.6  \n",
       "2     17.8  392.83   4.03    34.7  \n",
       "3     18.7  394.63   2.94    33.4  \n",
       "4     18.7  396.90   5.33    36.2  \n",
       "5     18.7  394.12   5.21    28.7  \n",
       "6     15.2  395.60  12.43    22.9  \n",
       "7     15.2  396.90  19.15    27.1  \n",
       "8     15.2  386.63  29.93    16.5  \n",
       "9     15.2  386.71  17.10    18.9  "
      ],
      "text/html": "<div>\n<style scoped>\n    .dataframe tbody tr th:only-of-type {\n        vertical-align: middle;\n    }\n\n    .dataframe tbody tr th {\n        vertical-align: top;\n    }\n\n    .dataframe thead th {\n        text-align: right;\n    }\n</style>\n<table border=\"1\" class=\"dataframe\">\n  <thead>\n    <tr style=\"text-align: right;\">\n      <th></th>\n      <th>CRIM</th>\n      <th>ZN</th>\n      <th>INDUS</th>\n      <th>CHAS</th>\n      <th>NOX</th>\n      <th>RM</th>\n      <th>AGE</th>\n      <th>DIS</th>\n      <th>RAD</th>\n      <th>TAX</th>\n      <th>PTRATIO</th>\n      <th>B</th>\n      <th>LSTAT</th>\n      <th>target</th>\n    </tr>\n  </thead>\n  <tbody>\n    <tr>\n      <th>0</th>\n      <td>0.00632</td>\n      <td>18.0</td>\n      <td>2.31</td>\n      <td>0.0</td>\n      <td>0.538</td>\n      <td>6.575</td>\n      <td>65.2</td>\n      <td>4.0900</td>\n      <td>1.0</td>\n      <td>296.0</td>\n      <td>15.3</td>\n      <td>396.90</td>\n      <td>4.98</td>\n      <td>24.0</td>\n    </tr>\n    <tr>\n      <th>1</th>\n      <td>0.02731</td>\n      <td>0.0</td>\n      <td>7.07</td>\n      <td>0.0</td>\n      <td>0.469</td>\n      <td>6.421</td>\n      <td>78.9</td>\n      <td>4.9671</td>\n      <td>2.0</td>\n      <td>242.0</td>\n      <td>17.8</td>\n      <td>396.90</td>\n      <td>9.14</td>\n      <td>21.6</td>\n    </tr>\n    <tr>\n      <th>2</th>\n      <td>0.02729</td>\n      <td>0.0</td>\n      <td>7.07</td>\n      <td>0.0</td>\n      <td>0.469</td>\n      <td>7.185</td>\n      <td>61.1</td>\n      <td>4.9671</td>\n      <td>2.0</td>\n      <td>242.0</td>\n      <td>17.8</td>\n      <td>392.83</td>\n      <td>4.03</td>\n      <td>34.7</td>\n    </tr>\n    <tr>\n      <th>3</th>\n      <td>0.03237</td>\n      <td>0.0</td>\n      <td>2.18</td>\n      <td>0.0</td>\n      <td>0.458</td>\n      <td>6.998</td>\n      <td>45.8</td>\n      <td>6.0622</td>\n      <td>3.0</td>\n      <td>222.0</td>\n      <td>18.7</td>\n      <td>394.63</td>\n      <td>2.94</td>\n      <td>33.4</td>\n    </tr>\n    <tr>\n      <th>4</th>\n      <td>0.06905</td>\n      <td>0.0</td>\n      <td>2.18</td>\n      <td>0.0</td>\n      <td>0.458</td>\n      <td>7.147</td>\n      <td>54.2</td>\n      <td>6.0622</td>\n      <td>3.0</td>\n      <td>222.0</td>\n      <td>18.7</td>\n      <td>396.90</td>\n      <td>5.33</td>\n      <td>36.2</td>\n    </tr>\n    <tr>\n      <th>5</th>\n      <td>0.02985</td>\n      <td>0.0</td>\n      <td>2.18</td>\n      <td>0.0</td>\n      <td>0.458</td>\n      <td>6.430</td>\n      <td>58.7</td>\n      <td>6.0622</td>\n      <td>3.0</td>\n      <td>222.0</td>\n      <td>18.7</td>\n      <td>394.12</td>\n      <td>5.21</td>\n      <td>28.7</td>\n    </tr>\n    <tr>\n      <th>6</th>\n      <td>0.08829</td>\n      <td>12.5</td>\n      <td>7.87</td>\n      <td>0.0</td>\n      <td>0.524</td>\n      <td>6.012</td>\n      <td>66.6</td>\n      <td>5.5605</td>\n      <td>5.0</td>\n      <td>311.0</td>\n      <td>15.2</td>\n      <td>395.60</td>\n      <td>12.43</td>\n      <td>22.9</td>\n    </tr>\n    <tr>\n      <th>7</th>\n      <td>0.14455</td>\n      <td>12.5</td>\n      <td>7.87</td>\n      <td>0.0</td>\n      <td>0.524</td>\n      <td>6.172</td>\n      <td>96.1</td>\n      <td>5.9505</td>\n      <td>5.0</td>\n      <td>311.0</td>\n      <td>15.2</td>\n      <td>396.90</td>\n      <td>19.15</td>\n      <td>27.1</td>\n    </tr>\n    <tr>\n      <th>8</th>\n      <td>0.21124</td>\n      <td>12.5</td>\n      <td>7.87</td>\n      <td>0.0</td>\n      <td>0.524</td>\n      <td>5.631</td>\n      <td>100.0</td>\n      <td>6.0821</td>\n      <td>5.0</td>\n      <td>311.0</td>\n      <td>15.2</td>\n      <td>386.63</td>\n      <td>29.93</td>\n      <td>16.5</td>\n    </tr>\n    <tr>\n      <th>9</th>\n      <td>0.17004</td>\n      <td>12.5</td>\n      <td>7.87</td>\n      <td>0.0</td>\n      <td>0.524</td>\n      <td>6.004</td>\n      <td>85.9</td>\n      <td>6.5921</td>\n      <td>5.0</td>\n      <td>311.0</td>\n      <td>15.2</td>\n      <td>386.71</td>\n      <td>17.10</td>\n      <td>18.9</td>\n    </tr>\n  </tbody>\n</table>\n</div>"
     },
     "metadata": {},
     "execution_count": 4
    }
   ],
   "source": [
    "data.head(10)"
   ]
  },
  {
   "cell_type": "code",
   "execution_count": 5,
   "metadata": {},
   "outputs": [
    {
     "output_type": "execute_result",
     "data": {
      "text/plain": [
       "(506, 14)"
      ]
     },
     "metadata": {},
     "execution_count": 5
    }
   ],
   "source": [
    "data.shape"
   ]
  },
  {
   "cell_type": "code",
   "execution_count": 6,
   "metadata": {},
   "outputs": [],
   "source": [
    "from sklearn.model_selection import train_test_split\n",
    "\n",
    "X_train, X_test, y_train, y_test = train_test_split(X, y, test_size=0.33)"
   ]
  },
  {
   "cell_type": "code",
   "execution_count": 7,
   "metadata": {},
   "outputs": [],
   "source": [
    "from tensorflow.keras.layers import Input, Dense\n",
    "from tensorflow.keras.models import Model\n",
    "import matplotlib.pyplot as plt"
   ]
  },
  {
   "cell_type": "code",
   "execution_count": 8,
   "metadata": {},
   "outputs": [
    {
     "output_type": "stream",
     "name": "stdout",
     "text": [
      "Model: \"model\"\n_________________________________________________________________\nLayer (type)                 Output Shape              Param #   \n=================================================================\ninput_1 (InputLayer)         [(None, 13)]              0         \n_________________________________________________________________\ndense (Dense)                (None, 26)                364       \n_________________________________________________________________\ndense_2 (Dense)              (None, 26)                702       \n_________________________________________________________________\ndense_3 (Dense)              (None, 1)                 27        \n=================================================================\nTotal params: 1,093\nTrainable params: 1,093\nNon-trainable params: 0\n_________________________________________________________________\n"
     ]
    }
   ],
   "source": [
    "inputs = Input(shape=(13))\n",
    "x_1 = Dense(26, activation='relu')(inputs)\n",
    "x_2 = Dense(26, activation='relu')(x_1)\n",
    "x_2 = Dense(26, activation='relu')(x_1)\n",
    "outputs = Dense(1)(x_2)\n",
    "\n",
    "x_1, x_2, outputs\n",
    "\n",
    "model = Model(inputs, outputs)\n",
    "model.summary()"
   ]
  },
  {
   "cell_type": "code",
   "execution_count": 9,
   "metadata": {},
   "outputs": [],
   "source": [
    "from tensorflow.keras.losses import CategoricalCrossentropy, SparseCategoricalCrossentropy\n",
    "from tensorflow.keras.optimizers import Adam, SGD\n",
    "\n",
    "model.compile(optimizer=Adam(),\n",
    "              loss=\"mse\",\n",
    "              metrics=[tf.keras.metrics.MeanSquaredError()])"
   ]
  },
  {
   "cell_type": "code",
   "execution_count": 10,
   "metadata": {},
   "outputs": [],
   "source": [
    "def norm(x):\n",
    "  mean = x.mean(axis=0)\n",
    "  std = x.std(axis=0)\n",
    "  return (x - mean) / std"
   ]
  },
  {
   "cell_type": "code",
   "execution_count": 11,
   "metadata": {},
   "outputs": [],
   "source": [
    "X_train = norm(X_train)\n",
    "X_test = norm(X_test)"
   ]
  },
  {
   "cell_type": "code",
   "execution_count": 12,
   "metadata": {},
   "outputs": [
    {
     "output_type": "stream",
     "name": "stdout",
     "text": [
      "Epoch 1/100\n",
      "9/9 - 1s - loss: 634.0318 - mean_squared_error: 634.0318 - val_loss: 562.6766 - val_mean_squared_error: 562.6766\n",
      "Epoch 2/100\n",
      "9/9 - 0s - loss: 617.8674 - mean_squared_error: 617.8674 - val_loss: 547.4979 - val_mean_squared_error: 547.4979\n",
      "Epoch 3/100\n",
      "9/9 - 0s - loss: 602.2576 - mean_squared_error: 602.2576 - val_loss: 531.9523 - val_mean_squared_error: 531.9523\n",
      "Epoch 4/100\n",
      "9/9 - 0s - loss: 585.4257 - mean_squared_error: 585.4257 - val_loss: 515.3160 - val_mean_squared_error: 515.3160\n",
      "Epoch 5/100\n",
      "9/9 - 0s - loss: 567.4016 - mean_squared_error: 567.4016 - val_loss: 496.0649 - val_mean_squared_error: 496.0649\n",
      "Epoch 6/100\n",
      "9/9 - 0s - loss: 545.6177 - mean_squared_error: 545.6177 - val_loss: 473.8464 - val_mean_squared_error: 473.8464\n",
      "Epoch 7/100\n",
      "9/9 - 0s - loss: 520.2047 - mean_squared_error: 520.2047 - val_loss: 446.5796 - val_mean_squared_error: 446.5796\n",
      "Epoch 8/100\n",
      "9/9 - 0s - loss: 490.0525 - mean_squared_error: 490.0525 - val_loss: 413.4838 - val_mean_squared_error: 413.4838\n",
      "Epoch 9/100\n",
      "9/9 - 0s - loss: 453.3192 - mean_squared_error: 453.3192 - val_loss: 374.9580 - val_mean_squared_error: 374.9580\n",
      "Epoch 10/100\n",
      "9/9 - 0s - loss: 410.2342 - mean_squared_error: 410.2342 - val_loss: 330.3642 - val_mean_squared_error: 330.3642\n",
      "Epoch 11/100\n",
      "9/9 - 0s - loss: 361.5178 - mean_squared_error: 361.5178 - val_loss: 280.8711 - val_mean_squared_error: 280.8711\n",
      "Epoch 12/100\n",
      "9/9 - 0s - loss: 306.6071 - mean_squared_error: 306.6071 - val_loss: 231.3474 - val_mean_squared_error: 231.3474\n",
      "Epoch 13/100\n",
      "9/9 - 0s - loss: 253.0596 - mean_squared_error: 253.0596 - val_loss: 184.3832 - val_mean_squared_error: 184.3832\n",
      "Epoch 14/100\n",
      "9/9 - 0s - loss: 203.1449 - mean_squared_error: 203.1449 - val_loss: 144.5308 - val_mean_squared_error: 144.5308\n",
      "Epoch 15/100\n",
      "9/9 - 0s - loss: 156.7162 - mean_squared_error: 156.7162 - val_loss: 115.8304 - val_mean_squared_error: 115.8304\n",
      "Epoch 16/100\n",
      "9/9 - 0s - loss: 122.2343 - mean_squared_error: 122.2343 - val_loss: 96.7809 - val_mean_squared_error: 96.7809\n",
      "Epoch 17/100\n",
      "9/9 - 0s - loss: 99.1067 - mean_squared_error: 99.1067 - val_loss: 85.7263 - val_mean_squared_error: 85.7263\n",
      "Epoch 18/100\n",
      "9/9 - 0s - loss: 83.0747 - mean_squared_error: 83.0747 - val_loss: 79.0533 - val_mean_squared_error: 79.0533\n",
      "Epoch 19/100\n",
      "9/9 - 0s - loss: 72.0381 - mean_squared_error: 72.0381 - val_loss: 73.0824 - val_mean_squared_error: 73.0824\n",
      "Epoch 20/100\n",
      "9/9 - 0s - loss: 65.0339 - mean_squared_error: 65.0339 - val_loss: 67.3283 - val_mean_squared_error: 67.3283\n",
      "Epoch 21/100\n",
      "9/9 - 0s - loss: 58.6792 - mean_squared_error: 58.6792 - val_loss: 61.4386 - val_mean_squared_error: 61.4386\n",
      "Epoch 22/100\n",
      "9/9 - 0s - loss: 53.3495 - mean_squared_error: 53.3495 - val_loss: 56.3941 - val_mean_squared_error: 56.3941\n",
      "Epoch 23/100\n",
      "9/9 - 0s - loss: 48.9881 - mean_squared_error: 48.9881 - val_loss: 51.8179 - val_mean_squared_error: 51.8179\n",
      "Epoch 24/100\n",
      "9/9 - 0s - loss: 45.5393 - mean_squared_error: 45.5393 - val_loss: 47.5796 - val_mean_squared_error: 47.5796\n",
      "Epoch 25/100\n",
      "9/9 - 0s - loss: 42.2070 - mean_squared_error: 42.2070 - val_loss: 44.3803 - val_mean_squared_error: 44.3803\n",
      "Epoch 26/100\n",
      "9/9 - 0s - loss: 39.5241 - mean_squared_error: 39.5241 - val_loss: 41.4583 - val_mean_squared_error: 41.4583\n",
      "Epoch 27/100\n",
      "9/9 - 0s - loss: 37.3215 - mean_squared_error: 37.3215 - val_loss: 39.1590 - val_mean_squared_error: 39.1590\n",
      "Epoch 28/100\n",
      "9/9 - 0s - loss: 34.9967 - mean_squared_error: 34.9967 - val_loss: 37.2857 - val_mean_squared_error: 37.2857\n",
      "Epoch 29/100\n",
      "9/9 - 0s - loss: 33.4403 - mean_squared_error: 33.4403 - val_loss: 35.2476 - val_mean_squared_error: 35.2476\n",
      "Epoch 30/100\n",
      "9/9 - 0s - loss: 31.8669 - mean_squared_error: 31.8669 - val_loss: 33.6895 - val_mean_squared_error: 33.6895\n",
      "Epoch 31/100\n",
      "9/9 - 0s - loss: 30.6424 - mean_squared_error: 30.6424 - val_loss: 32.2558 - val_mean_squared_error: 32.2558\n",
      "Epoch 32/100\n",
      "9/9 - 0s - loss: 29.7518 - mean_squared_error: 29.7518 - val_loss: 31.2550 - val_mean_squared_error: 31.2550\n",
      "Epoch 33/100\n",
      "9/9 - 0s - loss: 28.6645 - mean_squared_error: 28.6645 - val_loss: 30.1425 - val_mean_squared_error: 30.1425\n",
      "Epoch 34/100\n",
      "9/9 - 0s - loss: 27.8276 - mean_squared_error: 27.8276 - val_loss: 28.8946 - val_mean_squared_error: 28.8946\n",
      "Epoch 35/100\n",
      "9/9 - 0s - loss: 26.9623 - mean_squared_error: 26.9623 - val_loss: 28.0777 - val_mean_squared_error: 28.0777\n",
      "Epoch 36/100\n",
      "9/9 - 0s - loss: 26.3282 - mean_squared_error: 26.3282 - val_loss: 27.2933 - val_mean_squared_error: 27.2933\n",
      "Epoch 37/100\n",
      "9/9 - 0s - loss: 25.6683 - mean_squared_error: 25.6683 - val_loss: 26.7451 - val_mean_squared_error: 26.7451\n",
      "Epoch 38/100\n",
      "9/9 - 0s - loss: 25.0685 - mean_squared_error: 25.0685 - val_loss: 26.1669 - val_mean_squared_error: 26.1669\n",
      "Epoch 39/100\n",
      "9/9 - 0s - loss: 24.4815 - mean_squared_error: 24.4815 - val_loss: 25.3830 - val_mean_squared_error: 25.3830\n",
      "Epoch 40/100\n",
      "9/9 - 0s - loss: 23.9100 - mean_squared_error: 23.9100 - val_loss: 24.8377 - val_mean_squared_error: 24.8377\n",
      "Epoch 41/100\n",
      "9/9 - 0s - loss: 23.4197 - mean_squared_error: 23.4197 - val_loss: 24.2899 - val_mean_squared_error: 24.2899\n",
      "Epoch 42/100\n",
      "9/9 - 0s - loss: 22.9630 - mean_squared_error: 22.9630 - val_loss: 23.8474 - val_mean_squared_error: 23.8474\n",
      "Epoch 43/100\n",
      "9/9 - 0s - loss: 22.5413 - mean_squared_error: 22.5413 - val_loss: 23.4007 - val_mean_squared_error: 23.4007\n",
      "Epoch 44/100\n",
      "9/9 - 0s - loss: 22.0841 - mean_squared_error: 22.0841 - val_loss: 22.6891 - val_mean_squared_error: 22.6891\n",
      "Epoch 45/100\n",
      "9/9 - 0s - loss: 21.6648 - mean_squared_error: 21.6648 - val_loss: 22.2029 - val_mean_squared_error: 22.2029\n",
      "Epoch 46/100\n",
      "9/9 - 0s - loss: 21.3380 - mean_squared_error: 21.3380 - val_loss: 21.9754 - val_mean_squared_error: 21.9754\n",
      "Epoch 47/100\n",
      "9/9 - 0s - loss: 20.8695 - mean_squared_error: 20.8695 - val_loss: 21.6400 - val_mean_squared_error: 21.6400\n",
      "Epoch 48/100\n",
      "9/9 - 0s - loss: 20.4972 - mean_squared_error: 20.4972 - val_loss: 21.3125 - val_mean_squared_error: 21.3125\n",
      "Epoch 49/100\n",
      "9/9 - 0s - loss: 20.1197 - mean_squared_error: 20.1197 - val_loss: 20.9183 - val_mean_squared_error: 20.9183\n",
      "Epoch 50/100\n",
      "9/9 - 0s - loss: 19.7059 - mean_squared_error: 19.7059 - val_loss: 20.3865 - val_mean_squared_error: 20.3865\n",
      "Epoch 51/100\n",
      "9/9 - 0s - loss: 19.3784 - mean_squared_error: 19.3784 - val_loss: 19.9420 - val_mean_squared_error: 19.9420\n",
      "Epoch 52/100\n",
      "9/9 - 0s - loss: 19.0112 - mean_squared_error: 19.0112 - val_loss: 19.5649 - val_mean_squared_error: 19.5649\n",
      "Epoch 53/100\n",
      "9/9 - 0s - loss: 18.6998 - mean_squared_error: 18.6998 - val_loss: 19.1336 - val_mean_squared_error: 19.1336\n",
      "Epoch 54/100\n",
      "9/9 - 0s - loss: 18.4043 - mean_squared_error: 18.4043 - val_loss: 18.8388 - val_mean_squared_error: 18.8388\n",
      "Epoch 55/100\n",
      "9/9 - 0s - loss: 18.0231 - mean_squared_error: 18.0231 - val_loss: 18.6145 - val_mean_squared_error: 18.6145\n",
      "Epoch 56/100\n",
      "9/9 - 0s - loss: 17.6942 - mean_squared_error: 17.6942 - val_loss: 18.3348 - val_mean_squared_error: 18.3348\n",
      "Epoch 57/100\n",
      "9/9 - 0s - loss: 17.4358 - mean_squared_error: 17.4358 - val_loss: 18.1181 - val_mean_squared_error: 18.1181\n",
      "Epoch 58/100\n",
      "9/9 - 0s - loss: 17.1380 - mean_squared_error: 17.1380 - val_loss: 17.8511 - val_mean_squared_error: 17.8511\n",
      "Epoch 59/100\n",
      "9/9 - 0s - loss: 16.9459 - mean_squared_error: 16.9459 - val_loss: 17.5790 - val_mean_squared_error: 17.5790\n",
      "Epoch 60/100\n",
      "9/9 - 0s - loss: 16.6138 - mean_squared_error: 16.6138 - val_loss: 17.2762 - val_mean_squared_error: 17.2762\n",
      "Epoch 61/100\n",
      "9/9 - 0s - loss: 16.3611 - mean_squared_error: 16.3611 - val_loss: 17.0440 - val_mean_squared_error: 17.0440\n",
      "Epoch 62/100\n",
      "9/9 - 0s - loss: 16.1017 - mean_squared_error: 16.1017 - val_loss: 16.9389 - val_mean_squared_error: 16.9389\n",
      "Epoch 63/100\n",
      "9/9 - 0s - loss: 15.8895 - mean_squared_error: 15.8895 - val_loss: 16.7215 - val_mean_squared_error: 16.7215\n",
      "Epoch 64/100\n",
      "9/9 - 0s - loss: 15.6175 - mean_squared_error: 15.6175 - val_loss: 16.4171 - val_mean_squared_error: 16.4171\n",
      "Epoch 65/100\n",
      "9/9 - 0s - loss: 15.3941 - mean_squared_error: 15.3941 - val_loss: 16.2300 - val_mean_squared_error: 16.2300\n",
      "Epoch 66/100\n",
      "9/9 - 0s - loss: 15.1425 - mean_squared_error: 15.1425 - val_loss: 16.0012 - val_mean_squared_error: 16.0012\n",
      "Epoch 67/100\n",
      "9/9 - 0s - loss: 14.9580 - mean_squared_error: 14.9580 - val_loss: 15.8186 - val_mean_squared_error: 15.8186\n",
      "Epoch 68/100\n",
      "9/9 - 0s - loss: 14.7244 - mean_squared_error: 14.7244 - val_loss: 15.6650 - val_mean_squared_error: 15.6650\n",
      "Epoch 69/100\n",
      "9/9 - 0s - loss: 14.5743 - mean_squared_error: 14.5743 - val_loss: 15.5251 - val_mean_squared_error: 15.5251\n",
      "Epoch 70/100\n",
      "9/9 - 0s - loss: 14.3247 - mean_squared_error: 14.3247 - val_loss: 15.4259 - val_mean_squared_error: 15.4259\n",
      "Epoch 71/100\n",
      "9/9 - 0s - loss: 14.1184 - mean_squared_error: 14.1184 - val_loss: 15.3129 - val_mean_squared_error: 15.3129\n",
      "Epoch 72/100\n",
      "9/9 - 0s - loss: 13.9543 - mean_squared_error: 13.9543 - val_loss: 15.1291 - val_mean_squared_error: 15.1291\n",
      "Epoch 73/100\n",
      "9/9 - 0s - loss: 13.7657 - mean_squared_error: 13.7657 - val_loss: 14.9193 - val_mean_squared_error: 14.9193\n",
      "Epoch 74/100\n",
      "9/9 - 0s - loss: 13.5998 - mean_squared_error: 13.5998 - val_loss: 14.9272 - val_mean_squared_error: 14.9272\n",
      "Epoch 75/100\n",
      "9/9 - 0s - loss: 13.4091 - mean_squared_error: 13.4091 - val_loss: 14.8007 - val_mean_squared_error: 14.8007\n",
      "Epoch 76/100\n",
      "9/9 - 0s - loss: 13.2791 - mean_squared_error: 13.2791 - val_loss: 14.8017 - val_mean_squared_error: 14.8017\n",
      "Epoch 77/100\n",
      "9/9 - 0s - loss: 13.1160 - mean_squared_error: 13.1160 - val_loss: 14.5985 - val_mean_squared_error: 14.5985\n",
      "Epoch 78/100\n",
      "9/9 - 0s - loss: 13.0387 - mean_squared_error: 13.0387 - val_loss: 14.4770 - val_mean_squared_error: 14.4770\n",
      "Epoch 79/100\n",
      "9/9 - 0s - loss: 12.8339 - mean_squared_error: 12.8339 - val_loss: 14.3601 - val_mean_squared_error: 14.3601\n",
      "Epoch 80/100\n",
      "9/9 - 0s - loss: 12.6777 - mean_squared_error: 12.6777 - val_loss: 14.2410 - val_mean_squared_error: 14.2410\n",
      "Epoch 81/100\n",
      "9/9 - 0s - loss: 12.5466 - mean_squared_error: 12.5466 - val_loss: 14.1345 - val_mean_squared_error: 14.1345\n",
      "Epoch 82/100\n",
      "9/9 - 0s - loss: 12.4132 - mean_squared_error: 12.4132 - val_loss: 14.0511 - val_mean_squared_error: 14.0511\n",
      "Epoch 83/100\n",
      "9/9 - 0s - loss: 12.3279 - mean_squared_error: 12.3279 - val_loss: 14.0196 - val_mean_squared_error: 14.0196\n",
      "Epoch 84/100\n",
      "9/9 - 0s - loss: 12.2074 - mean_squared_error: 12.2074 - val_loss: 14.0152 - val_mean_squared_error: 14.0152\n",
      "Epoch 85/100\n",
      "9/9 - 0s - loss: 12.0490 - mean_squared_error: 12.0490 - val_loss: 13.9116 - val_mean_squared_error: 13.9116\n",
      "Epoch 86/100\n",
      "9/9 - 0s - loss: 11.9064 - mean_squared_error: 11.9064 - val_loss: 13.9415 - val_mean_squared_error: 13.9415\n",
      "Epoch 87/100\n",
      "9/9 - 0s - loss: 11.8560 - mean_squared_error: 11.8560 - val_loss: 13.8797 - val_mean_squared_error: 13.8797\n",
      "Epoch 88/100\n",
      "9/9 - 0s - loss: 11.7033 - mean_squared_error: 11.7033 - val_loss: 13.9382 - val_mean_squared_error: 13.9382\n",
      "Epoch 89/100\n",
      "9/9 - 0s - loss: 11.6417 - mean_squared_error: 11.6417 - val_loss: 13.8259 - val_mean_squared_error: 13.8259\n",
      "Epoch 90/100\n",
      "9/9 - 0s - loss: 11.5856 - mean_squared_error: 11.5856 - val_loss: 13.5975 - val_mean_squared_error: 13.5975\n",
      "Epoch 91/100\n",
      "9/9 - 0s - loss: 11.4025 - mean_squared_error: 11.4025 - val_loss: 13.5339 - val_mean_squared_error: 13.5339\n",
      "Epoch 92/100\n",
      "9/9 - 0s - loss: 11.2429 - mean_squared_error: 11.2429 - val_loss: 13.6005 - val_mean_squared_error: 13.6005\n",
      "Epoch 93/100\n",
      "9/9 - 0s - loss: 11.1501 - mean_squared_error: 11.1501 - val_loss: 13.4788 - val_mean_squared_error: 13.4788\n",
      "Epoch 94/100\n",
      "9/9 - 0s - loss: 11.0446 - mean_squared_error: 11.0446 - val_loss: 13.4099 - val_mean_squared_error: 13.4099\n",
      "Epoch 95/100\n",
      "9/9 - 0s - loss: 10.9459 - mean_squared_error: 10.9459 - val_loss: 13.3904 - val_mean_squared_error: 13.3904\n",
      "Epoch 96/100\n",
      "9/9 - 0s - loss: 10.8432 - mean_squared_error: 10.8432 - val_loss: 13.3916 - val_mean_squared_error: 13.3916\n",
      "Epoch 97/100\n",
      "9/9 - 0s - loss: 10.7667 - mean_squared_error: 10.7667 - val_loss: 13.2676 - val_mean_squared_error: 13.2676\n",
      "Epoch 98/100\n",
      "9/9 - 0s - loss: 10.6749 - mean_squared_error: 10.6749 - val_loss: 13.2833 - val_mean_squared_error: 13.2833\n",
      "Epoch 99/100\n",
      "9/9 - 0s - loss: 10.6234 - mean_squared_error: 10.6234 - val_loss: 13.1494 - val_mean_squared_error: 13.1494\n",
      "Epoch 100/100\n",
      "9/9 - 0s - loss: 10.5687 - mean_squared_error: 10.5687 - val_loss: 13.1797 - val_mean_squared_error: 13.1797\n"
     ]
    }
   ],
   "source": [
    "history = model.fit(X_train, \n",
    "                    y_train, \n",
    "                    epochs=100,\n",
    "                    validation_split=0.2, \n",
    "                    verbose=2)"
   ]
  },
  {
   "cell_type": "code",
   "execution_count": 14,
   "metadata": {},
   "outputs": [
    {
     "output_type": "stream",
     "name": "stdout",
     "text": [
      "6/6 - 0s - loss: 25.0001 - mean_squared_error: 25.0001\n",
      "\n",
      "Test mse: 25.00014877319336\n"
     ]
    }
   ],
   "source": [
    "# Делаем прогноз. Возвращается копия предсказания в виде одномерного массива\n",
    "test_loss, test_acc = model.evaluate(X_test, y_test, verbose=2)\n",
    "\n",
    "print('\\nTest mse:', test_acc)"
   ]
  },
  {
   "cell_type": "code",
   "execution_count": null,
   "metadata": {},
   "outputs": [],
   "source": []
  }
 ]
}