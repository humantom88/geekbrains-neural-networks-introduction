{
 "metadata": {
  "language_info": {
   "codemirror_mode": {
    "name": "ipython",
    "version": 3
   },
   "file_extension": ".py",
   "mimetype": "text/x-python",
   "name": "python",
   "nbconvert_exporter": "python",
   "pygments_lexer": "ipython3",
   "version": "3.9.4-final"
  },
  "orig_nbformat": 2,
  "kernelspec": {
   "name": "python394jvsc74a57bd063fd5069d213b44bf678585dea6b12cceca9941eaf7f819626cde1f2670de90d",
   "display_name": "Python 3.9.4 64-bit"
  }
 },
 "nbformat": 4,
 "nbformat_minor": 2,
 "cells": [
  {
   "source": [
    "# (IN PROGRESS) Практическое задание к уроку 3. Tensorflow"
   ],
   "cell_type": "markdown",
   "metadata": {}
  },
  {
   "source": [
    "Постройте нейронную сеть (берем несложную полносвязную сеть, меняем число слоев, число нейронов, типы активации, тип оптимизатора) на датасете from sklearn.datasets import load_boston.\n",
    "Постройте 10-15 вариантов разных нейронных сетей и сведите результаты их работы в таблицу. Опишите, какого результата вы добились от нейросети? Что помогло вам улучшить ее точность?"
   ],
   "cell_type": "markdown",
   "metadata": {}
  },
  {
   "cell_type": "code",
   "execution_count": 1,
   "metadata": {},
   "outputs": [],
   "source": [
    "from sklearn.datasets import load_boston"
   ]
  },
  {
   "cell_type": "code",
   "execution_count": 2,
   "metadata": {},
   "outputs": [
    {
     "output_type": "stream",
     "name": "stdout",
     "text": [
      "INFO:tensorflow:Enabling eager execution\n",
      "INFO:tensorflow:Enabling v2 tensorshape\n",
      "INFO:tensorflow:Enabling resource variables\n",
      "INFO:tensorflow:Enabling tensor equality\n",
      "INFO:tensorflow:Enabling control flow v2\n",
      "2.5.0-rc1\n"
     ]
    }
   ],
   "source": [
    "import tensorflow as tf\n",
    "import numpy as np\n",
    "\n",
    "print(tf.__version__)"
   ]
  },
  {
   "cell_type": "code",
   "execution_count": 3,
   "metadata": {},
   "outputs": [],
   "source": [
    "import pandas as pd\n",
    "\n",
    "dataset = load_boston()\n",
    "X = dataset[\"data\"]\n",
    "y = dataset[\"target\"]\n",
    "feature_names = np.append(dataset[\"feature_names\"], ['target']) \n",
    "\n",
    "data = pd.DataFrame(data=np.c_[X, y], columns=feature_names)"
   ]
  },
  {
   "cell_type": "code",
   "execution_count": 4,
   "metadata": {},
   "outputs": [
    {
     "output_type": "execute_result",
     "data": {
      "text/plain": [
       "      CRIM    ZN  INDUS  CHAS    NOX     RM    AGE     DIS  RAD    TAX  \\\n",
       "0  0.00632  18.0   2.31   0.0  0.538  6.575   65.2  4.0900  1.0  296.0   \n",
       "1  0.02731   0.0   7.07   0.0  0.469  6.421   78.9  4.9671  2.0  242.0   \n",
       "2  0.02729   0.0   7.07   0.0  0.469  7.185   61.1  4.9671  2.0  242.0   \n",
       "3  0.03237   0.0   2.18   0.0  0.458  6.998   45.8  6.0622  3.0  222.0   \n",
       "4  0.06905   0.0   2.18   0.0  0.458  7.147   54.2  6.0622  3.0  222.0   \n",
       "5  0.02985   0.0   2.18   0.0  0.458  6.430   58.7  6.0622  3.0  222.0   \n",
       "6  0.08829  12.5   7.87   0.0  0.524  6.012   66.6  5.5605  5.0  311.0   \n",
       "7  0.14455  12.5   7.87   0.0  0.524  6.172   96.1  5.9505  5.0  311.0   \n",
       "8  0.21124  12.5   7.87   0.0  0.524  5.631  100.0  6.0821  5.0  311.0   \n",
       "9  0.17004  12.5   7.87   0.0  0.524  6.004   85.9  6.5921  5.0  311.0   \n",
       "\n",
       "   PTRATIO       B  LSTAT  target  \n",
       "0     15.3  396.90   4.98    24.0  \n",
       "1     17.8  396.90   9.14    21.6  \n",
       "2     17.8  392.83   4.03    34.7  \n",
       "3     18.7  394.63   2.94    33.4  \n",
       "4     18.7  396.90   5.33    36.2  \n",
       "5     18.7  394.12   5.21    28.7  \n",
       "6     15.2  395.60  12.43    22.9  \n",
       "7     15.2  396.90  19.15    27.1  \n",
       "8     15.2  386.63  29.93    16.5  \n",
       "9     15.2  386.71  17.10    18.9  "
      ],
      "text/html": "<div>\n<style scoped>\n    .dataframe tbody tr th:only-of-type {\n        vertical-align: middle;\n    }\n\n    .dataframe tbody tr th {\n        vertical-align: top;\n    }\n\n    .dataframe thead th {\n        text-align: right;\n    }\n</style>\n<table border=\"1\" class=\"dataframe\">\n  <thead>\n    <tr style=\"text-align: right;\">\n      <th></th>\n      <th>CRIM</th>\n      <th>ZN</th>\n      <th>INDUS</th>\n      <th>CHAS</th>\n      <th>NOX</th>\n      <th>RM</th>\n      <th>AGE</th>\n      <th>DIS</th>\n      <th>RAD</th>\n      <th>TAX</th>\n      <th>PTRATIO</th>\n      <th>B</th>\n      <th>LSTAT</th>\n      <th>target</th>\n    </tr>\n  </thead>\n  <tbody>\n    <tr>\n      <th>0</th>\n      <td>0.00632</td>\n      <td>18.0</td>\n      <td>2.31</td>\n      <td>0.0</td>\n      <td>0.538</td>\n      <td>6.575</td>\n      <td>65.2</td>\n      <td>4.0900</td>\n      <td>1.0</td>\n      <td>296.0</td>\n      <td>15.3</td>\n      <td>396.90</td>\n      <td>4.98</td>\n      <td>24.0</td>\n    </tr>\n    <tr>\n      <th>1</th>\n      <td>0.02731</td>\n      <td>0.0</td>\n      <td>7.07</td>\n      <td>0.0</td>\n      <td>0.469</td>\n      <td>6.421</td>\n      <td>78.9</td>\n      <td>4.9671</td>\n      <td>2.0</td>\n      <td>242.0</td>\n      <td>17.8</td>\n      <td>396.90</td>\n      <td>9.14</td>\n      <td>21.6</td>\n    </tr>\n    <tr>\n      <th>2</th>\n      <td>0.02729</td>\n      <td>0.0</td>\n      <td>7.07</td>\n      <td>0.0</td>\n      <td>0.469</td>\n      <td>7.185</td>\n      <td>61.1</td>\n      <td>4.9671</td>\n      <td>2.0</td>\n      <td>242.0</td>\n      <td>17.8</td>\n      <td>392.83</td>\n      <td>4.03</td>\n      <td>34.7</td>\n    </tr>\n    <tr>\n      <th>3</th>\n      <td>0.03237</td>\n      <td>0.0</td>\n      <td>2.18</td>\n      <td>0.0</td>\n      <td>0.458</td>\n      <td>6.998</td>\n      <td>45.8</td>\n      <td>6.0622</td>\n      <td>3.0</td>\n      <td>222.0</td>\n      <td>18.7</td>\n      <td>394.63</td>\n      <td>2.94</td>\n      <td>33.4</td>\n    </tr>\n    <tr>\n      <th>4</th>\n      <td>0.06905</td>\n      <td>0.0</td>\n      <td>2.18</td>\n      <td>0.0</td>\n      <td>0.458</td>\n      <td>7.147</td>\n      <td>54.2</td>\n      <td>6.0622</td>\n      <td>3.0</td>\n      <td>222.0</td>\n      <td>18.7</td>\n      <td>396.90</td>\n      <td>5.33</td>\n      <td>36.2</td>\n    </tr>\n    <tr>\n      <th>5</th>\n      <td>0.02985</td>\n      <td>0.0</td>\n      <td>2.18</td>\n      <td>0.0</td>\n      <td>0.458</td>\n      <td>6.430</td>\n      <td>58.7</td>\n      <td>6.0622</td>\n      <td>3.0</td>\n      <td>222.0</td>\n      <td>18.7</td>\n      <td>394.12</td>\n      <td>5.21</td>\n      <td>28.7</td>\n    </tr>\n    <tr>\n      <th>6</th>\n      <td>0.08829</td>\n      <td>12.5</td>\n      <td>7.87</td>\n      <td>0.0</td>\n      <td>0.524</td>\n      <td>6.012</td>\n      <td>66.6</td>\n      <td>5.5605</td>\n      <td>5.0</td>\n      <td>311.0</td>\n      <td>15.2</td>\n      <td>395.60</td>\n      <td>12.43</td>\n      <td>22.9</td>\n    </tr>\n    <tr>\n      <th>7</th>\n      <td>0.14455</td>\n      <td>12.5</td>\n      <td>7.87</td>\n      <td>0.0</td>\n      <td>0.524</td>\n      <td>6.172</td>\n      <td>96.1</td>\n      <td>5.9505</td>\n      <td>5.0</td>\n      <td>311.0</td>\n      <td>15.2</td>\n      <td>396.90</td>\n      <td>19.15</td>\n      <td>27.1</td>\n    </tr>\n    <tr>\n      <th>8</th>\n      <td>0.21124</td>\n      <td>12.5</td>\n      <td>7.87</td>\n      <td>0.0</td>\n      <td>0.524</td>\n      <td>5.631</td>\n      <td>100.0</td>\n      <td>6.0821</td>\n      <td>5.0</td>\n      <td>311.0</td>\n      <td>15.2</td>\n      <td>386.63</td>\n      <td>29.93</td>\n      <td>16.5</td>\n    </tr>\n    <tr>\n      <th>9</th>\n      <td>0.17004</td>\n      <td>12.5</td>\n      <td>7.87</td>\n      <td>0.0</td>\n      <td>0.524</td>\n      <td>6.004</td>\n      <td>85.9</td>\n      <td>6.5921</td>\n      <td>5.0</td>\n      <td>311.0</td>\n      <td>15.2</td>\n      <td>386.71</td>\n      <td>17.10</td>\n      <td>18.9</td>\n    </tr>\n  </tbody>\n</table>\n</div>"
     },
     "metadata": {},
     "execution_count": 4
    }
   ],
   "source": [
    "data.head(10)"
   ]
  },
  {
   "cell_type": "code",
   "execution_count": 5,
   "metadata": {},
   "outputs": [
    {
     "output_type": "execute_result",
     "data": {
      "text/plain": [
       "(506, 14)"
      ]
     },
     "metadata": {},
     "execution_count": 5
    }
   ],
   "source": [
    "data.shape"
   ]
  },
  {
   "cell_type": "code",
   "execution_count": 6,
   "metadata": {},
   "outputs": [],
   "source": [
    "from sklearn.model_selection import train_test_split\n",
    "\n",
    "X_train, X_test, y_train, y_test = train_test_split(X, y, test_size=0.33)"
   ]
  },
  {
   "cell_type": "code",
   "execution_count": 7,
   "metadata": {},
   "outputs": [],
   "source": [
    "from tensorflow.keras.layers import Input, Dense\n",
    "from tensorflow.keras.models import Model\n",
    "import matplotlib.pyplot as plt"
   ]
  },
  {
   "cell_type": "code",
   "execution_count": 8,
   "metadata": {},
   "outputs": [
    {
     "output_type": "stream",
     "name": "stdout",
     "text": [
      "Model: \"model\"\n_________________________________________________________________\nLayer (type)                 Output Shape              Param #   \n=================================================================\ninput_1 (InputLayer)         [(None, 13)]              0         \n_________________________________________________________________\ndense (Dense)                (None, 26)                364       \n_________________________________________________________________\ndense_2 (Dense)              (None, 26)                702       \n_________________________________________________________________\ndense_3 (Dense)              (None, 1)                 27        \n=================================================================\nTotal params: 1,093\nTrainable params: 1,093\nNon-trainable params: 0\n_________________________________________________________________\n"
     ]
    }
   ],
   "source": [
    "inputs = Input(shape=(13))\n",
    "x_1 = Dense(26, activation='relu')(inputs)\n",
    "x_2 = Dense(26, activation='relu')(x_1)\n",
    "x_2 = Dense(26, activation='relu')(x_1)\n",
    "outputs = Dense(1)(x_2)\n",
    "\n",
    "x_1, x_2, outputs\n",
    "\n",
    "model = Model(inputs, outputs)\n",
    "model.summary()"
   ]
  },
  {
   "cell_type": "code",
   "execution_count": 15,
   "metadata": {},
   "outputs": [],
   "source": [
    "from tensorflow.keras.losses import CategoricalCrossentropy, SparseCategoricalCrossentropy\n",
    "from tensorflow.keras.optimizers import Adam, SGD\n",
    "\n",
    "model.compile(optimizer=Adam(),\n",
    "              loss=\"mse\",\n",
    "              metrics=[\"mae\"])"
   ]
  },
  {
   "cell_type": "code",
   "execution_count": 16,
   "metadata": {},
   "outputs": [],
   "source": [
    "def norm(x):\n",
    "  mean = x.mean(axis=0)\n",
    "  std = x.std(axis=0)\n",
    "  return (x - mean) / std"
   ]
  },
  {
   "cell_type": "code",
   "execution_count": 17,
   "metadata": {},
   "outputs": [],
   "source": [
    "X_train = norm(X_train)\n",
    "X_test = norm(X_test)"
   ]
  },
  {
   "cell_type": "code",
   "execution_count": 18,
   "metadata": {},
   "outputs": [
    {
     "output_type": "stream",
     "name": "stdout",
     "text": [
      "Epoch 1/100\n",
      "9/9 - 1s - loss: 10.7418 - mae: 2.3034 - val_loss: 13.0645 - val_mae: 2.7694\n",
      "Epoch 2/100\n",
      "9/9 - 0s - loss: 10.3606 - mae: 2.2487 - val_loss: 13.3472 - val_mae: 2.8121\n",
      "Epoch 3/100\n",
      "9/9 - 0s - loss: 10.2652 - mae: 2.2585 - val_loss: 12.8352 - val_mae: 2.7524\n",
      "Epoch 4/100\n",
      "9/9 - 0s - loss: 10.0886 - mae: 2.2302 - val_loss: 12.7905 - val_mae: 2.7494\n",
      "Epoch 5/100\n",
      "9/9 - 0s - loss: 9.9764 - mae: 2.2304 - val_loss: 13.1138 - val_mae: 2.7876\n",
      "Epoch 6/100\n",
      "9/9 - 0s - loss: 9.9950 - mae: 2.2194 - val_loss: 12.6238 - val_mae: 2.7273\n",
      "Epoch 7/100\n",
      "9/9 - 0s - loss: 9.7788 - mae: 2.1932 - val_loss: 12.8167 - val_mae: 2.7601\n",
      "Epoch 8/100\n",
      "9/9 - 0s - loss: 9.7238 - mae: 2.2024 - val_loss: 12.7605 - val_mae: 2.7560\n",
      "Epoch 9/100\n",
      "9/9 - 0s - loss: 9.7200 - mae: 2.1923 - val_loss: 12.4598 - val_mae: 2.7150\n",
      "Epoch 10/100\n",
      "9/9 - 0s - loss: 9.6237 - mae: 2.2045 - val_loss: 12.7160 - val_mae: 2.7510\n",
      "Epoch 11/100\n",
      "9/9 - 0s - loss: 9.4308 - mae: 2.1762 - val_loss: 12.3197 - val_mae: 2.6961\n",
      "Epoch 12/100\n",
      "9/9 - 0s - loss: 9.3607 - mae: 2.1592 - val_loss: 12.5654 - val_mae: 2.7353\n",
      "Epoch 13/100\n",
      "9/9 - 0s - loss: 9.3108 - mae: 2.1689 - val_loss: 12.6624 - val_mae: 2.7461\n",
      "Epoch 14/100\n",
      "9/9 - 0s - loss: 9.2619 - mae: 2.1507 - val_loss: 12.2398 - val_mae: 2.6992\n",
      "Epoch 15/100\n",
      "9/9 - 0s - loss: 9.2108 - mae: 2.1507 - val_loss: 12.5789 - val_mae: 2.7441\n",
      "Epoch 16/100\n",
      "9/9 - 0s - loss: 9.1078 - mae: 2.1527 - val_loss: 12.3099 - val_mae: 2.7034\n",
      "Epoch 17/100\n",
      "9/9 - 0s - loss: 9.0793 - mae: 2.1467 - val_loss: 12.2892 - val_mae: 2.7042\n",
      "Epoch 18/100\n",
      "9/9 - 0s - loss: 9.0091 - mae: 2.1377 - val_loss: 12.3092 - val_mae: 2.7115\n",
      "Epoch 19/100\n",
      "9/9 - 0s - loss: 8.9917 - mae: 2.1389 - val_loss: 12.0166 - val_mae: 2.6587\n",
      "Epoch 20/100\n",
      "9/9 - 0s - loss: 8.8781 - mae: 2.1210 - val_loss: 12.0313 - val_mae: 2.6666\n",
      "Epoch 21/100\n",
      "9/9 - 0s - loss: 8.8296 - mae: 2.1230 - val_loss: 12.1949 - val_mae: 2.6991\n",
      "Epoch 22/100\n",
      "9/9 - 0s - loss: 8.7603 - mae: 2.1202 - val_loss: 12.1929 - val_mae: 2.7141\n",
      "Epoch 23/100\n",
      "9/9 - 0s - loss: 8.7430 - mae: 2.1066 - val_loss: 12.0058 - val_mae: 2.6838\n",
      "Epoch 24/100\n",
      "9/9 - 0s - loss: 8.6567 - mae: 2.0919 - val_loss: 11.9898 - val_mae: 2.6734\n",
      "Epoch 25/100\n",
      "9/9 - 0s - loss: 8.6007 - mae: 2.0971 - val_loss: 11.9927 - val_mae: 2.6704\n",
      "Epoch 26/100\n",
      "9/9 - 0s - loss: 8.5669 - mae: 2.0980 - val_loss: 12.0107 - val_mae: 2.6741\n",
      "Epoch 27/100\n",
      "9/9 - 0s - loss: 8.5211 - mae: 2.0890 - val_loss: 11.8134 - val_mae: 2.6591\n",
      "Epoch 28/100\n",
      "9/9 - 0s - loss: 8.5142 - mae: 2.0753 - val_loss: 11.8621 - val_mae: 2.6787\n",
      "Epoch 29/100\n",
      "9/9 - 0s - loss: 8.4134 - mae: 2.0789 - val_loss: 11.9828 - val_mae: 2.6698\n",
      "Epoch 30/100\n",
      "9/9 - 0s - loss: 8.3800 - mae: 2.0815 - val_loss: 11.7907 - val_mae: 2.6514\n",
      "Epoch 31/100\n",
      "9/9 - 0s - loss: 8.3747 - mae: 2.0754 - val_loss: 11.6719 - val_mae: 2.6374\n",
      "Epoch 32/100\n",
      "9/9 - 0s - loss: 8.3570 - mae: 2.0960 - val_loss: 11.8249 - val_mae: 2.6555\n",
      "Epoch 33/100\n",
      "9/9 - 0s - loss: 8.3065 - mae: 2.0882 - val_loss: 11.6588 - val_mae: 2.6458\n",
      "Epoch 34/100\n",
      "9/9 - 0s - loss: 8.2153 - mae: 2.0483 - val_loss: 11.6821 - val_mae: 2.6741\n",
      "Epoch 35/100\n",
      "9/9 - 0s - loss: 8.2387 - mae: 2.0526 - val_loss: 11.7329 - val_mae: 2.6681\n",
      "Epoch 36/100\n",
      "9/9 - 0s - loss: 8.1734 - mae: 2.0551 - val_loss: 11.7147 - val_mae: 2.6587\n",
      "Epoch 37/100\n",
      "9/9 - 0s - loss: 8.1321 - mae: 2.0550 - val_loss: 11.6895 - val_mae: 2.6502\n",
      "Epoch 38/100\n",
      "9/9 - 0s - loss: 8.0568 - mae: 2.0373 - val_loss: 11.5048 - val_mae: 2.6453\n",
      "Epoch 39/100\n",
      "9/9 - 0s - loss: 8.0589 - mae: 2.0368 - val_loss: 11.6569 - val_mae: 2.6582\n",
      "Epoch 40/100\n",
      "9/9 - 0s - loss: 8.0618 - mae: 2.0405 - val_loss: 11.7584 - val_mae: 2.6818\n",
      "Epoch 41/100\n",
      "9/9 - 0s - loss: 7.9825 - mae: 2.0316 - val_loss: 11.5857 - val_mae: 2.6589\n",
      "Epoch 42/100\n",
      "9/9 - 0s - loss: 7.9396 - mae: 2.0283 - val_loss: 11.5576 - val_mae: 2.6438\n",
      "Epoch 43/100\n",
      "9/9 - 0s - loss: 7.9563 - mae: 2.0284 - val_loss: 11.5401 - val_mae: 2.6468\n",
      "Epoch 44/100\n",
      "9/9 - 0s - loss: 7.8830 - mae: 2.0278 - val_loss: 11.7293 - val_mae: 2.6589\n",
      "Epoch 45/100\n",
      "9/9 - 0s - loss: 7.8613 - mae: 2.0291 - val_loss: 11.6068 - val_mae: 2.6461\n",
      "Epoch 46/100\n",
      "9/9 - 0s - loss: 7.8119 - mae: 2.0157 - val_loss: 11.5343 - val_mae: 2.6461\n",
      "Epoch 47/100\n",
      "9/9 - 0s - loss: 7.8297 - mae: 2.0099 - val_loss: 11.4673 - val_mae: 2.6430\n",
      "Epoch 48/100\n",
      "9/9 - 0s - loss: 7.7980 - mae: 2.0213 - val_loss: 11.8812 - val_mae: 2.6895\n",
      "Epoch 49/100\n",
      "9/9 - 0s - loss: 7.7708 - mae: 2.0092 - val_loss: 11.2921 - val_mae: 2.6374\n",
      "Epoch 50/100\n",
      "9/9 - 0s - loss: 7.7438 - mae: 1.9970 - val_loss: 11.5163 - val_mae: 2.6370\n",
      "Epoch 51/100\n",
      "9/9 - 0s - loss: 7.6708 - mae: 1.9973 - val_loss: 11.5344 - val_mae: 2.6434\n",
      "Epoch 52/100\n",
      "9/9 - 0s - loss: 7.6400 - mae: 1.9964 - val_loss: 11.6104 - val_mae: 2.6490\n",
      "Epoch 53/100\n",
      "9/9 - 0s - loss: 7.6219 - mae: 1.9910 - val_loss: 11.4950 - val_mae: 2.6355\n",
      "Epoch 54/100\n",
      "9/9 - 0s - loss: 7.5805 - mae: 1.9899 - val_loss: 11.6910 - val_mae: 2.6717\n",
      "Epoch 55/100\n",
      "9/9 - 0s - loss: 7.5672 - mae: 1.9939 - val_loss: 11.2992 - val_mae: 2.6204\n",
      "Epoch 56/100\n",
      "9/9 - 0s - loss: 7.5298 - mae: 1.9716 - val_loss: 11.2237 - val_mae: 2.6255\n",
      "Epoch 57/100\n",
      "9/9 - 0s - loss: 7.4915 - mae: 1.9644 - val_loss: 11.2575 - val_mae: 2.6207\n",
      "Epoch 58/100\n",
      "9/9 - 0s - loss: 7.4455 - mae: 1.9697 - val_loss: 11.3233 - val_mae: 2.6316\n",
      "Epoch 59/100\n",
      "9/9 - 0s - loss: 7.4548 - mae: 1.9688 - val_loss: 11.3200 - val_mae: 2.6344\n",
      "Epoch 60/100\n",
      "9/9 - 0s - loss: 7.4539 - mae: 1.9784 - val_loss: 11.4394 - val_mae: 2.6478\n",
      "Epoch 61/100\n",
      "9/9 - 0s - loss: 7.4663 - mae: 1.9684 - val_loss: 11.1265 - val_mae: 2.6094\n",
      "Epoch 62/100\n",
      "9/9 - 0s - loss: 7.3633 - mae: 1.9628 - val_loss: 11.5307 - val_mae: 2.6587\n",
      "Epoch 63/100\n",
      "9/9 - 0s - loss: 7.3741 - mae: 1.9789 - val_loss: 11.2066 - val_mae: 2.6074\n",
      "Epoch 64/100\n",
      "9/9 - 0s - loss: 7.3543 - mae: 1.9684 - val_loss: 11.0656 - val_mae: 2.5946\n",
      "Epoch 65/100\n",
      "9/9 - 0s - loss: 7.3106 - mae: 1.9568 - val_loss: 11.4222 - val_mae: 2.6539\n",
      "Epoch 66/100\n",
      "9/9 - 0s - loss: 7.2688 - mae: 1.9398 - val_loss: 11.0395 - val_mae: 2.6093\n",
      "Epoch 67/100\n",
      "9/9 - 0s - loss: 7.2444 - mae: 1.9283 - val_loss: 11.0838 - val_mae: 2.6069\n",
      "Epoch 68/100\n",
      "9/9 - 0s - loss: 7.2349 - mae: 1.9417 - val_loss: 11.3254 - val_mae: 2.6412\n",
      "Epoch 69/100\n",
      "9/9 - 0s - loss: 7.2035 - mae: 1.9395 - val_loss: 11.2043 - val_mae: 2.6208\n",
      "Epoch 70/100\n",
      "9/9 - 0s - loss: 7.1814 - mae: 1.9424 - val_loss: 11.1681 - val_mae: 2.6157\n",
      "Epoch 71/100\n",
      "9/9 - 0s - loss: 7.1162 - mae: 1.9249 - val_loss: 11.1166 - val_mae: 2.6209\n",
      "Epoch 72/100\n",
      "9/9 - 0s - loss: 7.1435 - mae: 1.9212 - val_loss: 11.1670 - val_mae: 2.6232\n",
      "Epoch 73/100\n",
      "9/9 - 0s - loss: 7.1268 - mae: 1.9279 - val_loss: 11.2068 - val_mae: 2.6213\n",
      "Epoch 74/100\n",
      "9/9 - 0s - loss: 7.0763 - mae: 1.9157 - val_loss: 10.8634 - val_mae: 2.5836\n",
      "Epoch 75/100\n",
      "9/9 - 0s - loss: 7.0595 - mae: 1.9135 - val_loss: 11.0390 - val_mae: 2.6005\n",
      "Epoch 76/100\n",
      "9/9 - 0s - loss: 7.0382 - mae: 1.9193 - val_loss: 11.0678 - val_mae: 2.6077\n",
      "Epoch 77/100\n",
      "9/9 - 0s - loss: 7.0180 - mae: 1.9173 - val_loss: 10.9569 - val_mae: 2.5957\n",
      "Epoch 78/100\n",
      "9/9 - 0s - loss: 7.0119 - mae: 1.9031 - val_loss: 10.8374 - val_mae: 2.5806\n",
      "Epoch 79/100\n",
      "9/9 - 0s - loss: 6.9688 - mae: 1.9062 - val_loss: 10.9774 - val_mae: 2.6000\n",
      "Epoch 80/100\n",
      "9/9 - 0s - loss: 6.9488 - mae: 1.8995 - val_loss: 11.0332 - val_mae: 2.6074\n",
      "Epoch 81/100\n",
      "9/9 - 0s - loss: 6.9301 - mae: 1.9088 - val_loss: 10.9593 - val_mae: 2.6001\n",
      "Epoch 82/100\n",
      "9/9 - 0s - loss: 6.9144 - mae: 1.9042 - val_loss: 10.7789 - val_mae: 2.5814\n",
      "Epoch 83/100\n",
      "9/9 - 0s - loss: 7.0413 - mae: 1.9103 - val_loss: 10.9729 - val_mae: 2.6100\n",
      "Epoch 84/100\n",
      "9/9 - 0s - loss: 6.8988 - mae: 1.8838 - val_loss: 10.6741 - val_mae: 2.5653\n",
      "Epoch 85/100\n",
      "9/9 - 0s - loss: 6.9147 - mae: 1.8942 - val_loss: 10.9709 - val_mae: 2.5956\n",
      "Epoch 86/100\n",
      "9/9 - 0s - loss: 6.9288 - mae: 1.9226 - val_loss: 10.9404 - val_mae: 2.5920\n",
      "Epoch 87/100\n",
      "9/9 - 0s - loss: 6.8926 - mae: 1.8837 - val_loss: 10.5720 - val_mae: 2.5631\n",
      "Epoch 88/100\n",
      "9/9 - 0s - loss: 6.7951 - mae: 1.8803 - val_loss: 10.9386 - val_mae: 2.5994\n",
      "Epoch 89/100\n",
      "9/9 - 0s - loss: 6.7693 - mae: 1.8933 - val_loss: 10.9234 - val_mae: 2.6009\n",
      "Epoch 90/100\n",
      "9/9 - 0s - loss: 6.7906 - mae: 1.8824 - val_loss: 10.4982 - val_mae: 2.5522\n",
      "Epoch 91/100\n",
      "9/9 - 0s - loss: 6.7886 - mae: 1.8730 - val_loss: 10.7510 - val_mae: 2.5743\n",
      "Epoch 92/100\n",
      "9/9 - 0s - loss: 6.6943 - mae: 1.8692 - val_loss: 10.8564 - val_mae: 2.5912\n",
      "Epoch 93/100\n",
      "9/9 - 0s - loss: 6.7021 - mae: 1.8887 - val_loss: 10.9076 - val_mae: 2.6006\n",
      "Epoch 94/100\n",
      "9/9 - 0s - loss: 6.6640 - mae: 1.8699 - val_loss: 10.7071 - val_mae: 2.5811\n",
      "Epoch 95/100\n",
      "9/9 - 0s - loss: 6.6369 - mae: 1.8637 - val_loss: 10.8624 - val_mae: 2.5974\n",
      "Epoch 96/100\n",
      "9/9 - 0s - loss: 6.6136 - mae: 1.8686 - val_loss: 10.6924 - val_mae: 2.5739\n",
      "Epoch 97/100\n",
      "9/9 - 0s - loss: 6.5975 - mae: 1.8678 - val_loss: 10.6648 - val_mae: 2.5724\n",
      "Epoch 98/100\n",
      "9/9 - 0s - loss: 6.5796 - mae: 1.8559 - val_loss: 10.5650 - val_mae: 2.5610\n",
      "Epoch 99/100\n",
      "9/9 - 0s - loss: 6.6683 - mae: 1.8519 - val_loss: 10.5574 - val_mae: 2.5594\n",
      "Epoch 100/100\n",
      "9/9 - 0s - loss: 6.6480 - mae: 1.8794 - val_loss: 10.8753 - val_mae: 2.5902\n"
     ]
    }
   ],
   "source": [
    "history = model.fit(X_train, \n",
    "                    y_train, \n",
    "                    epochs=100,\n",
    "                    validation_split=0.2, \n",
    "                    verbose=2)"
   ]
  },
  {
   "cell_type": "code",
   "execution_count": 19,
   "metadata": {},
   "outputs": [
    {
     "output_type": "stream",
     "name": "stdout",
     "text": [
      "6/6 - 0s - loss: 21.4477 - mae: 3.1580\n",
      "\n",
      "Test mse: 3.1580371856689453\n"
     ]
    }
   ],
   "source": [
    "# Делаем прогноз. Возвращается копия предсказания в виде одномерного массива\n",
    "test_loss, test_acc = model.evaluate(X_test, y_test, verbose=2)\n",
    "\n",
    "print('\\nTest mse:', test_acc)"
   ]
  }
 ]
}